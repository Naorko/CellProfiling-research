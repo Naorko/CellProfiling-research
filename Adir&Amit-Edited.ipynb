{
 "cells": [
  {
   "cell_type": "markdown",
   "metadata": {},
   "source": [
    "# Imports"
   ]
  },
  {
   "cell_type": "markdown",
   "metadata": {},
   "source": [
    "In this cell we are importing all relevant packages for our project"
   ]
  },
  {
   "cell_type": "code",
   "execution_count": 1,
   "metadata": {
    "ExecuteTime": {
     "end_time": "2020-08-26T09:42:39.510247Z",
     "start_time": "2020-08-26T09:42:30.284358Z"
    }
   },
   "outputs": [],
   "source": [
    "# connections and OS\n",
    "import pandas as pd\n",
    "#import seaborn as sns\n",
    "import os\n",
    "import sqlite3\n",
    "#import csv\n",
    "\n",
    "#utils (Pandas,numpy,tqdm)\n",
    "import numpy as np\n",
    "import pandas as pd\n",
    "from tqdm import tqdm\n",
    "\n",
    "#visualize \n",
    "#import seaborn as sns\n",
    "\n",
    "#preprocessing, metrices and splits \n",
    "from sklearn.model_selection import train_test_split\n",
    "from sklearn.metrics import mean_squared_error,mean_absolute_error\n",
    "from sklearn.preprocessing import StandardScaler,MinMaxScaler\n",
    "\n",
    "#ML models:\n",
    "from sklearn.multioutput import MultiOutputRegressor\n",
    "from sklearn.linear_model import LinearRegression, Ridge\n",
    "\n",
    "\n",
    "#tensorflow layer, callbacks and layers\n",
    "import tensorflow as tf\n",
    "import tensorflow.keras\n",
    "from tensorflow.keras.models import Model\n",
    "from tensorflow.keras.layers import Dense, Concatenate, Input\n",
    "from tensorflow.keras.callbacks import ModelCheckpoint, Callback"
   ]
  },
  {
   "cell_type": "markdown",
   "metadata": {},
   "source": [
    "# Constants and params"
   ]
  },
  {
   "cell_type": "markdown",
   "metadata": {},
   "source": [
    "Change directory to project directory within the department cluster (SLURM) and define to constant variables\n"
   ]
  },
  {
   "cell_type": "code",
   "execution_count": 2,
   "metadata": {
    "ExecuteTime": {
     "end_time": "2020-08-26T09:42:49.843122Z",
     "start_time": "2020-08-26T09:42:49.836703Z"
    }
   },
   "outputs": [],
   "source": [
    "#change directory to project directory within the department cluster (SLURM)\n",
    "PROJECT_DIRECTORY = r'C:\\Users\\Niko\\Desktop\\plates'\n",
    "CHANNELS = [\"AGP\",\"DNA\",\"ER\",\"Mito\",\"RNA\"]\n",
    "LABEL_FIELD = 'Metadata_ASSAY_WELL_ROLE'"
   ]
  },
  {
   "cell_type": "code",
   "execution_count": 3,
   "metadata": {},
   "outputs": [],
   "source": [
    "os.chdir(PROJECT_DIRECTORY)"
   ]
  },
  {
   "cell_type": "markdown",
   "metadata": {},
   "source": [
    "# Preprocessing functions"
   ]
  },
  {
   "cell_type": "code",
   "execution_count": 4,
   "metadata": {
    "ExecuteTime": {
     "end_time": "2020-08-26T09:42:50.672093Z",
     "start_time": "2020-08-26T09:42:50.661259Z"
    }
   },
   "outputs": [],
   "source": [
    "def scale_data(df):\n",
    "    \"\"\"\n",
    "    This function is scaling the data using two methods: STD and MinMax\n",
    "    df: dataFrame     \n",
    "    return: two scaled dataframes, the first one according to StandardScaler and the second according to MinMaxScaler\n",
    "    \"\"\"\n",
    "    std_scalar = StandardScaler()\n",
    "    minMax_scalar = MinMaxScaler()\n",
    "    \n",
    "    std_df = pd.DataFrame(std_scalar.fit_transform(df),columns=df.columns)\n",
    "    minmax_df = pd.DataFrame(minMax_scalar.fit_transform(df),columns=df.columns)    \n",
    "    std_df.fillna(0,inplace=True)\n",
    "    minmax_df.fillna(0,inplace=True)\n",
    "    \n",
    "    return std_df,minmax_df"
   ]
  },
  {
   "cell_type": "code",
   "execution_count": 5,
   "metadata": {
    "ExecuteTime": {
     "end_time": "2020-08-26T10:02:32.110621Z",
     "start_time": "2020-08-26T10:02:32.088820Z"
    }
   },
   "outputs": [],
   "source": [
    "def split_channels_x_and_y(filename, task_channel):\n",
    "    \"\"\"\n",
    "    This function is responsible for splitting five channels into four channels as train and the remaining channel to test\n",
    "    filename: file path to the cell table from a single plate\n",
    "    task_channel: the current channel that we aim to predict\n",
    "    \n",
    "    Notably: In order to avoid leakage we drop all 'correlation features\n",
    "    return: separated dataframes x_features and y_df.\n",
    "            x_features: contains all available features excluding the features related to 'task_channel' we aim to predict\n",
    "            y_df: contains all available features related to 'task_channel' only\n",
    "    \"\"\"\n",
    "\n",
    "    # Data preparation\n",
    "    df = pd.read_csv(filename)\n",
    "    df = df.set_index(['ImageNumber', 'ObjectNumber'])\n",
    "    df.drop(['TableNumber'], inplace=True, axis=1)\n",
    "    df.dropna(inplace=True)\n",
    "\n",
    "    labels = [LABEL_FIELD, 'Image_Metadata_Well', 'Metadata_broad_sample']\n",
    "    general_cols = [f for f in df.columns if f not in labels and all(c not in f for c in CHANNELS)]\n",
    "    corr_cols = [f for f in df.columns if 'Correlation' in f]\n",
    "\n",
    "    # Split columns by channel\n",
    "    dict_channel_cols = {}\n",
    "    for channel in CHANNELS:\n",
    "        dict_channel_cols[channel] = [col for col in df.columns if channel in col and col not in corr_cols]\n",
    "\n",
    "    not_curr_channel_cols = [col for channel in CHANNELS if channel != task_channel\n",
    "                             for col in dict_channel_cols[channel]]\n",
    "    cols = labels + general_cols + not_curr_channel_cols\n",
    "\n",
    "    x_features_df = df[cols]\n",
    "\n",
    "    y_df = df[dict_channel_cols[task_channel]]\n",
    "\n",
    "    return x_features_df, y_df"
   ]
  },
  {
   "cell_type": "markdown",
   "metadata": {},
   "source": [
    "# Create Models"
   ]
  },
  {
   "cell_type": "markdown",
   "metadata": {},
   "source": [
    "In the following three cells we are creating three ML models"
   ]
  },
  {
   "cell_type": "code",
   "execution_count": 6,
   "metadata": {
    "ExecuteTime": {
     "end_time": "2020-08-26T10:13:53.617800Z",
     "start_time": "2020-08-26T10:13:53.610909Z"
    }
   },
   "outputs": [],
   "source": [
    "def create_LR(df_train_X, df_train_Y):  \n",
    "    \"\"\"\n",
    "    In this cell we are creating and training a linear regression model        \n",
    "    df_train_X: contains all available features excluding the features related to 'task_channel' we aim to predict (train)\n",
    "    df_train_Y: contains all available features related to 'task_channel' only for the train\n",
    "    \n",
    "    \n",
    "    return: trained linear regression model\n",
    "    \"\"\"\n",
    "    LR_model = LinearRegression()    \n",
    "    LR_model.fit(df_train_X.values,df_train_Y.values)\n",
    "    return LR_model\n",
    "    \n",
    "    "
   ]
  },
  {
   "cell_type": "code",
   "execution_count": 7,
   "metadata": {
    "ExecuteTime": {
     "end_time": "2020-08-26T10:13:53.890850Z",
     "start_time": "2020-08-26T10:13:53.884664Z"
    }
   },
   "outputs": [],
   "source": [
    "def create_Ridge(df_train_X, df_train_Y):\n",
    "    \"\"\"    \n",
    "    In this cell we are creating and training a ridge regression model    \n",
    "    \n",
    "    \n",
    "    df_train_X: contains all available features excluding the features related to 'task_channel' we aim to predict (train)\n",
    "    df_train_Y: contains all available features related to 'task_channel' only for the train    \n",
    "    \n",
    "    return: trained ridge regression model\n",
    "    \"\"\"\n",
    "    Ridge_model = Ridge()    \n",
    "    Ridge_model.fit(X=df_train_X.values,y=df_train_Y.values)    \n",
    "    return Ridge_model"
   ]
  },
  {
   "cell_type": "code",
   "execution_count": 8,
   "metadata": {
    "ExecuteTime": {
     "end_time": "2020-08-26T10:13:54.196170Z",
     "start_time": "2020-08-26T10:13:54.176523Z"
    },
    "code_folding": []
   },
   "outputs": [],
   "source": [
    "def create_model_dnn(task_channel,df_train_X, df_train_Y,test_plate):\n",
    "    \"\"\"    \n",
    "    In this cell we are creating and training a multi layer perceptron (we refer to it as deep neural network, DNN) model\n",
    "    \n",
    "    task_channel: the current channel that we aim to predict\n",
    "    df_train_X: contains all available features excluding the features related to 'task_channel' we aim to predict (train)\n",
    "    df_train_Y: contains all available features related to 'task_channel' only for the train\n",
    "    test_plate: the ID of a given plate. This information assist us while printing the results.\n",
    "    \n",
    "    return: trained dnn model\n",
    "    \"\"\"\n",
    "    # Stracture of the network#\n",
    "    inputs = Input(shape=(df_train_X.shape[1],))\n",
    "    dense1 = Dense(512,activation = 'relu')(inputs)\n",
    "    dense2 = Dense(256,activation = 'relu')(dense1)\n",
    "    dense3 = Dense(128,activation = 'relu')(dense2)    \n",
    "    dense4 = Dense(100,activation = 'relu')(dense3)\n",
    "    dense5 = Dense(50,activation = 'relu')(dense4)\n",
    "    dense6 = Dense(25,activation = 'relu')(dense5)\n",
    "    dense7 = Dense(10,activation = 'relu')(dense6)\n",
    "    predictions = Dense(df_train_Y.shape[1],activation='sigmoid')(dense7)\n",
    "    \n",
    "    #model compiliation\n",
    "    model = Model(inputs=inputs,outputs = predictions)\n",
    "    model.compile(optimizer='adam',loss='mse')\n",
    "    \n",
    "    #model training    \n",
    "    test_plate_number = test_plate[:5]\n",
    "    folder = os.path.join(PROJECT_DIRECTORY, 'Models')\n",
    "    filepath = os.path.join(folder, f'{test_plate_number}_{task_channel}.h5')\n",
    "    my_callbacks = [ModelCheckpoint(filepath, monitor='val_loss', verbose=0, save_best_only=False, save_weights_only=False, mode='auto', period=1)]\n",
    "    model.fit(df_train_X,df_train_Y,epochs = 5,batch_size=1024*8,verbose=0,shuffle=True,validation_split=0.2,callbacks=my_callbacks)\n",
    "    return model\n",
    "    \n",
    "    "
   ]
  },
  {
   "cell_type": "code",
   "execution_count": 9,
   "metadata": {
    "ExecuteTime": {
     "end_time": "2020-08-26T10:13:54.704037Z",
     "start_time": "2020-08-26T10:13:54.691051Z"
    }
   },
   "outputs": [],
   "source": [
    "#    print_results(test_plate_number, task_channel, \"Overall\", \"DNN\", \"None\", \"MSE\", str(mean_squared_error(model_pred,channel_task_y)))\n",
    "def print_results(plate_number, channel, family, model, _type, metric, value):\n",
    "    \"\"\"\n",
    "    This function is creating a csv named: 'results' that contains all of the models’ performance (e.g. MSE) for each plate and each family of attributes\n",
    "    plate_number: ID of palte\n",
    "    channel: The channel we aim to predict\n",
    "    family: features united by their charactheristics (e.g., Granularity, Texture)\n",
    "    model: the model name\n",
    "    _type: scaling method (e.g., MinMax Scaler or StandardScaler)\n",
    "    metric: MSE/MAE\n",
    "    value: value of the metric error    \n",
    "    \"\"\"\n",
    "    results_path = os.path.join(PROJECT_DIRECTORY, 'Results')\n",
    "    file_path = os.path.join(results_path, 'results.csv')\n",
    "    files_list = os.listdir(results_path)\n",
    "    if 'results.csv' not in files_list:\n",
    "        file1 = open(file_path,\"a+\")     \n",
    "        file1.write(\"Plate,Channel,Family,Model,Type,Metric,Value \\n\")\n",
    "        file1.write(plate_number+\",\"+channel+\",\"+family+\",\"+model+\",\"+_type+\",\"+metric+\",\"+value+\"\\n\")\n",
    "        file1.close()\n",
    "    else:\n",
    "        file1 = open(file_path, \"a+\")\n",
    "        file1.write(plate_number+\",\"+channel+\",\"+family+\",\"+model+\",\"+_type+\",\"+metric+\",\"+value+\"\\n\")\n",
    "        file1.close()"
   ]
  },
  {
   "cell_type": "code",
   "execution_count": 10,
   "metadata": {
    "ExecuteTime": {
     "end_time": "2020-08-26T10:13:56.047905Z",
     "start_time": "2020-08-26T10:13:56.029632Z"
    }
   },
   "outputs": [],
   "source": [
    "def get_family_MSE(test_plate_number, task_channel, model, _type, df, channel_task_y):    \n",
    "    \"\"\"\n",
    "    This function is calculating the MSE/MAE measures for plates based on different models\n",
    "    test_plate_number: ID of the examine plate\n",
    "    task_channel: Channel we aim to predict\n",
    "    model: model name\n",
    "    _type: scaling method (e.g., MinMax Scaler or StandardScaler)\n",
    "    df: prediction of any given ML model which aim to predict the channel_task_y\n",
    "    channel_task_y: features corresponding to the 'task channel' (channel we aim to predict)    \n",
    "    \"\"\"\n",
    "    Families = {'Granularity':[],\n",
    "               'Intensity':[],\n",
    "               'Location':[],\n",
    "               'RadialDistribution':[],\n",
    "               'Texture':[]}\n",
    "\n",
    "    for name in (channel_task_y.columns):\n",
    "        if '_Granularity' in name:\n",
    "            Families['Granularity'].append(name)\n",
    "        elif '_Intensity' in name:\n",
    "            Families['Intensity'].append(name)\n",
    "        elif '_Location' in name:\n",
    "            Families['Location'].append(name)        \n",
    "        elif '_RadialDistribution' in name:\n",
    "            Families['RadialDistribution'].append(name)\n",
    "        elif '_Texture' in name:\n",
    "            Families['Texture'].append(name)\n",
    "            \n",
    "    for key in Families.keys():\n",
    "        try:            \n",
    "            print_results(test_plate_number, task_channel, key, model, _type, \"MSE\", str(mean_squared_error(df[Families[key]],channel_task_y[Families[key]])))\n",
    "        except:\n",
    "            if len(Families[key]) == 0:\n",
    "                print('empty family {}'.format(key))\n",
    "            else:\n",
    "                print('problem in mse key')\n",
    "            \n",
    "\n"
   ]
  },
  {
   "cell_type": "code",
   "execution_count": 11,
   "metadata": {
    "ExecuteTime": {
     "end_time": "2020-08-26T10:13:56.616395Z",
     "start_time": "2020-08-26T10:13:56.597732Z"
    }
   },
   "outputs": [],
   "source": [
    "def get_family_MAE(test_plate_number, task_channel, model, _type, df, channel_task_y):\n",
    "    \n",
    "    \"\"\"\n",
    "    This function is calculating the MSE/MAE measures for plates based on different models\n",
    "    test_plate_number: ID of the examine plate\n",
    "    task_channel: Channel we aim to predict\n",
    "    model: model name\n",
    "    _type: scaling method (e.g., MinMax Scaler or StandardScaler)\n",
    "    df: prediction of any given ML model which aim to predict the channel_task_y\n",
    "    channel_task_y: features corresponding to the 'task channel' (channel we aim to predict)    \n",
    "    \"\"\"\n",
    "    \n",
    "    Families = {'Granularity':[],\n",
    "               'Intensity':[],\n",
    "               'Location':[],\n",
    "               'RadialDistribution':[],\n",
    "               'Texture':[]}\n",
    "\n",
    "    for name in (channel_task_y.columns):\n",
    "        if '_Granularity' in name:\n",
    "            Families['Granularity'].append(name)\n",
    "        elif '_Intensity' in name:\n",
    "            Families['Intensity'].append(name)\n",
    "        elif '_Location' in name:\n",
    "            Families['Location'].append(name)        \n",
    "        elif '_RadialDistribution' in name:\n",
    "            Families['RadialDistribution'].append(name)\n",
    "        elif '_Texture' in name:\n",
    "            Families['Texture'].append(name)\n",
    "            \n",
    "    for key in Families.keys():\n",
    "        try:            \n",
    "            print_results(test_plate_number, task_channel, key, model, _type, \"MAE\", str(mean_absolute_error(df[Families[key]],channel_task_y[Families[key]])))\n",
    "        except:\n",
    "            if len(Families[key]) == 0:\n",
    "                print('empty family {}'.format(key))\n",
    "            else:\n",
    "                print('problem in mae key')\n",
    "        "
   ]
  },
  {
   "cell_type": "code",
   "execution_count": 12,
   "metadata": {
    "ExecuteTime": {
     "end_time": "2020-08-26T10:13:57.225714Z",
     "start_time": "2020-08-26T10:13:57.160130Z"
    }
   },
   "outputs": [],
   "source": [
    "def main(path,scale_method):\n",
    "    \"\"\"\n",
    "    This is the main function of the preprocessing steps.\n",
    "    This function will iterate all over the sqlite files and do the following:\n",
    "    1) prepate train + test files\n",
    "    2) scale train + test files (x + y values separately)\n",
    "    3) return: \n",
    "        task_channel -> string, reflect the relevant channel for test. For example, 'AGP'\n",
    "        df_train_X -> DataFrame, (instances,features) for the train set\n",
    "        df_train_Y -> DataFrame, (instances,labels) for the train set\n",
    "        channel_task_x -> DataFrame, (instances,features) for the test set\n",
    "        channel_task_y -> DataFrame, (instances,labels) for the test set\n",
    "    \"\"\"\n",
    "\n",
    "    csv_files= [_ for _ in os.listdir(path) if _.endswith(\".csv\")]\n",
    "    for task_channel in tqdm(CHANNELS):        \n",
    "        # This is the current file that we will predict        \n",
    "        for test_plate in csv_files:\n",
    "            print(test_plate)\n",
    "\n",
    "            channel_task_x, channel_task_y = split_channels_x_and_y(path + test_plate, task_channel)\n",
    "            print(channel_task_x[LABEL_FIELD].unique())\n",
    "\n",
    "            channel_task_x_mock = channel_task_x[channel_task_x[LABEL_FIELD]=='mock']\n",
    "            channel_task_x_treated = channel_task_x[channel_task_x[LABEL_FIELD]=='treated']\n",
    "\n",
    "            channel_task_y_mock = channel_task_y.loc[channel_task_x_mock.index]\n",
    "            channel_task_y_treated = channel_task_y.loc[channel_task_x_treated.index]\n",
    "\n",
    "            channel_task_x_mock.drop([LABEL_FIELD, 'Image_Metadata_Well', 'Metadata_broad_sample'],inplace=True,axis=1)\n",
    "            channel_task_x_treated.drop([LABEL_FIELD, 'Image_Metadata_Well', 'Metadata_broad_sample'],inplace=True,axis=1)\n",
    "\n",
    "\n",
    "            std_df_treated_x ,min_max_df_treated_x = scale_data(channel_task_x_treated)\n",
    "            std_df_treated_y ,min_max_df_treated_y = scale_data(channel_task_y_treated)\n",
    "            std_df_mock_x ,min_max_df_mock_x = scale_data(channel_task_x_mock)\n",
    "            std_df_mock_y ,min_max_df_mock_y = scale_data(channel_task_y_mock)\n",
    "\n",
    "                \n",
    "        # This is all other files X input\n",
    "            list_x_df = []\n",
    "            list_y_df = []\n",
    "            \n",
    "            \n",
    "            for train_plate in tqdm(csv_files):\n",
    "                if train_plate!=test_plate:\n",
    "                    curr_x, curr_y = split_channels_x_and_y(path + train_plate, task_channel)\n",
    "                    curr_x = curr_x[curr_x[LABEL_FIELD]=='mock']\n",
    "                    curr_y = curr_y.loc[curr_x.index]\n",
    "                    ## drop additional label fields\n",
    "                    curr_x.drop([LABEL_FIELD, 'Image_Metadata_Well', 'Metadata_broad_sample'],inplace=True,axis=1)\n",
    "\n",
    "                    list_x_df.append(curr_x)\n",
    "                    list_y_df.append(curr_y)\n",
    "            \n",
    "            df_train_X = pd.concat(list_x_df)\n",
    "            df_train_Y = pd.concat(list_y_df)   \n",
    "            \n",
    "             # Scale for training set#\n",
    "            std_df ,min_max_df = scale_data(df_train_X)            \n",
    "            std_df_y ,min_max_df_y = scale_data(df_train_Y)\n",
    "            \n",
    "            #Scale for testing set - treated#\n",
    "            std_df_channel_task_treated ,min_max_df_channel_task_treated = scale_data(channel_task_x_treated)\n",
    "            std_df_y_test_treated ,min_max_df_y_test_treated = scale_data(channel_task_y_treated)\n",
    "            \n",
    "            #Scale for testing set - mock#\n",
    "            std_df_channel_task_mock ,min_max_df_channel_task_mock = scale_data(channel_task_x_mock)\n",
    "            std_df_y_test_mock ,min_max_df_y_test_mock = scale_data(channel_task_y_mock)   \n",
    "            \n",
    "            if scale_method == 'MinMax':\n",
    "                #train set#\n",
    "                df_train_X = min_max_df\n",
    "                df_train_Y = min_max_df_y\n",
    "                \n",
    "                #treated #\n",
    "                df_test_X_treated = min_max_df_channel_task_treated\n",
    "                df_test_Y_treated = min_max_df_y_test_treated\n",
    "                \n",
    "                #mock#                \n",
    "                df_test_X_mock = min_max_df_channel_task_mock\n",
    "                df_test_Y_mock = min_max_df_y_test_mock\n",
    "                \n",
    "                \n",
    "            elif scale_method == 'Std':\n",
    "                #train set#\n",
    "                df_train_X = std_df\n",
    "                df_train_Y = std_df_y\n",
    "                \n",
    "                #treated #\n",
    "                df_test_X_treated = std_df_channel_task_treated\n",
    "                df_test_Y_treated = std_df_y_test_treated\n",
    "                \n",
    "                #mock#                \n",
    "                df_test_X_mock = std_df_channel_task_mock\n",
    "                df_test_Y_mock = std_df_y_test_mock\n",
    "                \n",
    "                \n",
    "        # Model Creation - AVG MSE for each model:\n",
    "            print(test_plate)\n",
    "            print(task_channel+\":\")\n",
    "            LR_model = create_LR(df_train_X, df_train_Y)\n",
    "            Ridge_model = create_Ridge(df_train_X, df_train_Y)\n",
    "#             DNN_model = create_model_dnn(task_channel,df_train_X, df_train_Y,test_plate)\n",
    "#             svr_model = create_SVR(task_channel,df_train_X, df_train_Y, channel_task_x, channel_task_y)\n",
    "            #return task_channel,df_train_X, df_train_Y, channel_task_x, channel_task_y\n",
    "    \n",
    "            print('**************')\n",
    "            print('LR')\n",
    "            print('profile_treated:') \n",
    "            yhat_lr = pd.DataFrame(LR_model.predict(std_df_treated_x.values),columns=std_df_treated_y.columns)                           \n",
    "            print('Linear Reg MSE: {}'.format(mean_squared_error(yhat_lr,std_df_treated_y.values)))  \n",
    "            print('Linear Reg MAE: {}'.format(mean_absolute_error(yhat_lr,std_df_treated_y.values)))\n",
    "            \n",
    "            print_results(test_plate, task_channel, 'Overall', 'Linear Regression', 'Treated', 'MSE', str(mean_squared_error(yhat_lr,std_df_treated_y.values)))\n",
    "            print_results(test_plate, task_channel, 'Overall', 'Linear Regression', 'Treated', 'MAE', str(mean_absolute_error(yhat_lr,std_df_treated_y.values)))\n",
    "            \n",
    "            get_family_MSE(test_plate, task_channel, \"Linear Regression\", \"Treated\", yhat_lr,std_df_treated_y)\n",
    "            get_family_MAE(test_plate, task_channel, \"Linear Regression\", \"Treated\", yhat_lr,std_df_treated_y)\n",
    "            \n",
    "            #get_family_MSE(yhat_lr,std_df_treated_y)\n",
    "            #get_family_MAE(yhat_lr,std_df_treated_y)\n",
    "            \n",
    "            print('profile_mock:')            \n",
    "            yhat_lr = pd.DataFrame(LR_model.predict(std_df_mock_x.values),columns=std_df_mock_y.columns)   \n",
    "            print('Linear Reg MSE: {}'.format(mean_squared_error(yhat_lr,std_df_mock_y.values)))  \n",
    "            print('Linear Reg MAE: {}'.format(mean_absolute_error(yhat_lr,std_df_mock_y.values)))  \n",
    "            \n",
    "            print_results(test_plate, task_channel, 'Overall', 'Linear Regression', 'Mock', 'MSE', str(mean_squared_error(yhat_lr,std_df_mock_y.values)))\n",
    "            print_results(test_plate, task_channel, 'Overall', 'Linear Regression', 'Mock', 'MAE', str(mean_absolute_error(yhat_lr,std_df_mock_y.values)))            \n",
    "            #get_family_MSE(yhat_lr,std_df_mock_y)\n",
    "            #get_family_MAE(yhat_lr,std_df_mock_y)\n",
    "            get_family_MSE(test_plate, task_channel, \"Linear Regression\", \"Mock\", yhat_lr,std_df_mock_y)\n",
    "            get_family_MAE(test_plate, task_channel, \"Linear Regression\", \"Mock\", yhat_lr,std_df_mock_y)\n",
    "                          \n",
    "            print('**************')\n",
    "            \n",
    "            print('**************')\n",
    "            print('Ridge')\n",
    "            print('profile_treated:') \n",
    "            yhat_ridge = pd.DataFrame(Ridge_model.predict(std_df_treated_x.values),columns=std_df_treated_y.columns)                           \n",
    "            print('Ridge MSE: {}'.format(mean_squared_error(yhat_ridge,std_df_treated_y.values)))  \n",
    "            print('Ridge MAE: {}'.format(mean_absolute_error(yhat_ridge,std_df_treated_y.values)))  \n",
    "                          \n",
    "            print_results(test_plate, task_channel, 'Overall', 'Ridge', 'Treated', 'MSE', str(mean_squared_error(yhat_ridge,std_df_treated_y.values)))\n",
    "            print_results(test_plate, task_channel, 'Overall', 'Ridge', 'Treated', 'MAE', str(mean_absolute_error(yhat_ridge,std_df_treated_y.values)))\n",
    "                    \n",
    "                          \n",
    "            get_family_MSE(test_plate, task_channel, \"Ridge\", \"Treated\", yhat_ridge,std_df_treated_y)\n",
    "            get_family_MAE(test_plate, task_channel, \"Ridge\", \"Treated\", yhat_ridge,std_df_treated_y)\n",
    "                          \n",
    "            #get_family_MSE(yhat_lr,std_df_treated_y)\n",
    "            #get_family_MAE(yhat_lr,std_df_treated_y)\n",
    "            \n",
    "            print('profile_mock:')            \n",
    "            yhat_ridge = pd.DataFrame(Ridge_model.predict(std_df_mock_x.values),columns=std_df_mock_y.columns)   \n",
    "            print('Ridge MSE: {}'.format(mean_squared_error(yhat_ridge,std_df_mock_y.values)))  \n",
    "            print('Ridge Reg MAE: {}'.format(mean_absolute_error(yhat_ridge,std_df_mock_y.values)))  \n",
    "            #get_family_MSE(yhat_ridge,std_df_mock_y)\n",
    "            #get_family_MAE(yhat_ridge,std_df_mock_y)\n",
    "            print_results(test_plate, task_channel, 'Overall', 'Ridge', 'Mock', 'MSE', str(mean_squared_error(yhat_ridge,std_df_mock_y.values)))\n",
    "            print_results(test_plate, task_channel, 'Overall', 'Ridge', 'Mock', 'MAE', str(mean_absolute_error(yhat_ridge,std_df_mock_y.values)))\n",
    "                    \n",
    "                          \n",
    "            get_family_MSE(test_plate, task_channel, \"Ridge\", \"Mock\", yhat_ridge,std_df_mock_y)\n",
    "            get_family_MAE(test_plate, task_channel, \"Ridge\", \"Mock\", yhat_ridge,std_df_mock_y)\n",
    "            print('**************')\n",
    "            \n",
    "#             print('**************')\n",
    "#             print('DNN')\n",
    "#             print('profile_treated:') \n",
    "#             yhat_DNN = pd.DataFrame(DNN_model.predict(std_df_treated_x.values),columns=std_df_treated_y.columns)                           \n",
    "#             print('DNN MSE: {}'.format(mean_squared_error(yhat_DNN,std_df_treated_y.values)))  \n",
    "#             print('DNN MAE: {}'.format(mean_absolute_error(yhat_DNN,std_df_treated_y.values)))  \n",
    "#             #get_family_MSE(yhat_DNN,std_df_treated_y)\n",
    "#             #get_family_MAE(yhat_DNN,std_df_treated_y)\n",
    "#             print_results(test_plate, task_channel, 'Overall', 'DNN', 'Treated', 'MSE', str(mean_squared_error(yhat_DNN,std_df_treated_y.values)))\n",
    "#             print_results(test_plate, task_channel, 'Overall', 'DNN', 'Treated', 'MAE', str(mean_absolute_error(yhat_DNN,std_df_treated_y.values)))\n",
    "                    \n",
    "                          \n",
    "#             get_family_MSE(test_plate, task_channel, \"DNN\", \"Treated\", yhat_DNN,std_df_treated_y)\n",
    "#             get_family_MAE(test_plate, task_channel, \"DNN\", \"Treated\", yhat_DNN,std_df_treated_y)\n",
    "            \n",
    "#             print('profile_mock:')            \n",
    "#             yhat_DNN = pd.DataFrame(DNN_model.predict(std_df_mock_x.values),columns=std_df_mock_y.columns)   \n",
    "#             print('DNN MSE: {}'.format(mean_squared_error(yhat_DNN,std_df_mock_y.values)))  \n",
    "#             print('DNN MAE: {}'.format(mean_absolute_error(yhat_DNN,std_df_mock_y.values)))  \n",
    "                          \n",
    "                          \n",
    "#             print_results(test_plate, task_channel, 'Overall', 'DNN', 'Mock', 'MSE', str(mean_squared_error(yhat_DNN,std_df_mock_y.values)))\n",
    "#             print_results(test_plate, task_channel, 'Overall', 'DNN', 'Mock', 'MAE', str(mean_absolute_error(yhat_DNN,std_df_mock_y.values)))\n",
    "                    \n",
    "                          \n",
    "#             get_family_MSE(test_plate, task_channel, \"DNN\", \"Mock\", yhat_DNN,std_df_mock_y)\n",
    "#             get_family_MAE(test_plate, task_channel, \"DNN\", \"Mock\", yhat_DNN,std_df_mock_y)\n",
    "#             #get_family_MSE(yhat_DNN,std_df_mock_y)\n",
    "#             #get_family_MAE(yhat_DNN,std_df_mock_y)\n",
    "#             print('**************')"
   ]
  },
  {
   "cell_type": "markdown",
   "metadata": {},
   "source": [
    "# Main"
   ]
  },
  {
   "cell_type": "code",
   "execution_count": 13,
   "metadata": {
    "ExecuteTime": {
     "end_time": "2020-08-26T10:29:16.833379Z",
     "start_time": "2020-08-26T10:13:58.396179Z"
    },
    "scrolled": false
   },
   "outputs": [
    {
     "name": "stderr",
     "output_type": "stream",
     "text": [
      "\r",
      "  0%|                                                                                            | 0/5 [00:00<?, ?it/s]"
     ]
    },
    {
     "name": "stdout",
     "output_type": "stream",
     "text": [
      "26569.csv\n",
      "['mock' 'treated']\n"
     ]
    },
    {
     "name": "stderr",
     "output_type": "stream",
     "text": [
      "C:\\Users\\Niko\\anaconda3\\envs\\PlateDownloader\\lib\\site-packages\\pandas\\core\\frame.py:4170: SettingWithCopyWarning: \n",
      "A value is trying to be set on a copy of a slice from a DataFrame\n",
      "\n",
      "See the caveats in the documentation: https://pandas.pydata.org/pandas-docs/stable/user_guide/indexing.html#returning-a-view-versus-a-copy\n",
      "  errors=errors,\n",
      "\n",
      "  0%|                                                                                            | 0/3 [00:00<?, ?it/s]\u001B[A\n",
      " 67%|████████████████████████████████████████████████████████                            | 2/3 [00:02<00:01,  1.36s/it]\u001B[A\n",
      "100%|████████████████████████████████████████████████████████████████████████████████████| 3/3 [00:07<00:00,  2.46s/it]\u001B[A\n"
     ]
    },
    {
     "name": "stdout",
     "output_type": "stream",
     "text": [
      "26569.csv\n",
      "AGP:\n",
      "**************\n",
      "LR\n",
      "profile_treated:\n",
      "Linear Reg MSE: 457.5545027140529\n",
      "Linear Reg MAE: 14.305113258584605\n",
      "profile_mock:\n",
      "Linear Reg MSE: 2476.9573170659146\n",
      "Linear Reg MAE: 30.213916336917787\n",
      "**************\n",
      "**************\n",
      "Ridge\n",
      "profile_treated:\n",
      "Ridge MSE: 0.45317444366924337\n",
      "Ridge MAE: 0.44713301101426867\n",
      "profile_mock:\n",
      "Ridge MSE: 0.437617530234788\n",
      "Ridge Reg MAE: 0.44325231013595967\n",
      "**************\n",
      "26572.csv\n",
      "['treated' 'mock']\n"
     ]
    },
    {
     "name": "stderr",
     "output_type": "stream",
     "text": [
      "C:\\Users\\Niko\\anaconda3\\envs\\PlateDownloader\\lib\\site-packages\\pandas\\core\\frame.py:4170: SettingWithCopyWarning: \n",
      "A value is trying to be set on a copy of a slice from a DataFrame\n",
      "\n",
      "See the caveats in the documentation: https://pandas.pydata.org/pandas-docs/stable/user_guide/indexing.html#returning-a-view-versus-a-copy\n",
      "  errors=errors,\n",
      "\n",
      "  0%|                                                                                            | 0/3 [00:00<?, ?it/s]\u001B[A\n",
      " 33%|████████████████████████████                                                        | 1/3 [00:00<00:01,  1.21it/s]\u001B[A\n",
      "100%|████████████████████████████████████████████████████████████████████████████████████| 3/3 [00:05<00:00,  1.80s/it]\u001B[A\n"
     ]
    },
    {
     "name": "stdout",
     "output_type": "stream",
     "text": [
      "26572.csv\n",
      "AGP:\n",
      "**************\n",
      "LR\n",
      "profile_treated:\n",
      "Linear Reg MSE: 2367.7853895548697\n",
      "Linear Reg MAE: 32.10843856464617\n",
      "profile_mock:\n",
      "Linear Reg MSE: 5200.131489226318\n",
      "Linear Reg MAE: 41.47267429681776\n",
      "**************\n",
      "**************\n",
      "Ridge\n",
      "profile_treated:\n",
      "Ridge MSE: 0.46677998910827534\n",
      "Ridge MAE: 0.45219613802786995\n",
      "profile_mock:\n",
      "Ridge MSE: 0.4354205897632473\n",
      "Ridge Reg MAE: 0.42750194377512973\n",
      "**************\n",
      "26574.csv\n",
      "['treated' 'mock']\n"
     ]
    },
    {
     "name": "stderr",
     "output_type": "stream",
     "text": [
      "C:\\Users\\Niko\\anaconda3\\envs\\PlateDownloader\\lib\\site-packages\\pandas\\core\\frame.py:4170: SettingWithCopyWarning: \n",
      "A value is trying to be set on a copy of a slice from a DataFrame\n",
      "\n",
      "See the caveats in the documentation: https://pandas.pydata.org/pandas-docs/stable/user_guide/indexing.html#returning-a-view-versus-a-copy\n",
      "  errors=errors,\n",
      "\n",
      "  0%|                                                                                            | 0/3 [00:00<?, ?it/s]\u001B[A\n",
      " 33%|████████████████████████████                                                        | 1/3 [00:00<00:01,  1.21it/s]\u001B[A\n",
      "100%|████████████████████████████████████████████████████████████████████████████████████| 3/3 [00:03<00:00,  1.19s/it]\u001B[A\n"
     ]
    },
    {
     "name": "stdout",
     "output_type": "stream",
     "text": [
      "26574.csv\n",
      "AGP:\n",
      "**************\n",
      "LR\n",
      "profile_treated:\n",
      "Linear Reg MSE: 18921.28803602417\n",
      "Linear Reg MAE: 78.50983396062955\n",
      "profile_mock:\n",
      "Linear Reg MSE: 8662.016610810257\n",
      "Linear Reg MAE: 50.441703791957416\n",
      "**************\n",
      "**************\n",
      "Ridge\n",
      "profile_treated:\n",
      "Ridge MSE: 0.5841386613913744\n",
      "Ridge MAE: 0.5013085442182337\n",
      "profile_mock:\n",
      "Ridge MSE: 0.5566457016401685\n",
      "Ridge Reg MAE: 0.49231320561794667\n",
      "**************"
     ]
    },
    {
     "name": "stderr",
     "output_type": "stream",
     "text": [
      "\r",
      " 20%|████████████████▊                                                                   | 1/5 [00:32<02:11, 32.91s/it]"
     ]
    },
    {
     "name": "stdout",
     "output_type": "stream",
     "text": [
      "\n",
      "26569.csv\n",
      "['mock' 'treated']\n"
     ]
    },
    {
     "name": "stderr",
     "output_type": "stream",
     "text": [
      "C:\\Users\\Niko\\anaconda3\\envs\\PlateDownloader\\lib\\site-packages\\pandas\\core\\frame.py:4170: SettingWithCopyWarning: \n",
      "A value is trying to be set on a copy of a slice from a DataFrame\n",
      "\n",
      "See the caveats in the documentation: https://pandas.pydata.org/pandas-docs/stable/user_guide/indexing.html#returning-a-view-versus-a-copy\n",
      "  errors=errors,\n",
      "\n",
      "  0%|                                                                                            | 0/3 [00:00<?, ?it/s]\u001B[A\n",
      " 67%|████████████████████████████████████████████████████████                            | 2/3 [00:02<00:01,  1.42s/it]\u001B[A\n",
      "100%|████████████████████████████████████████████████████████████████████████████████████| 3/3 [00:07<00:00,  2.58s/it]\u001B[A\n"
     ]
    },
    {
     "name": "stdout",
     "output_type": "stream",
     "text": [
      "26569.csv\n",
      "DNA:\n",
      "**************\n",
      "LR\n",
      "profile_treated:\n",
      "Linear Reg MSE: 181.68354577062047\n",
      "Linear Reg MAE: 8.110421757825195\n",
      "empty family Granularity\n",
      "empty family Granularity\n",
      "profile_mock:\n",
      "Linear Reg MSE: 88.03292134917537\n",
      "Linear Reg MAE: 5.58906772737639\n",
      "empty family Granularity\n",
      "empty family Granularity\n",
      "**************\n",
      "**************\n",
      "Ridge\n",
      "profile_treated:\n",
      "Ridge MSE: 0.31360388297648745\n",
      "Ridge MAE: 0.38064718215351956\n",
      "empty family Granularity\n",
      "empty family Granularity\n",
      "profile_mock:\n",
      "Ridge MSE: 0.3262464109494893\n",
      "Ridge Reg MAE: 0.39254011838828745\n",
      "empty family Granularity\n",
      "empty family Granularity\n",
      "**************\n",
      "26572.csv\n",
      "['treated' 'mock']\n"
     ]
    },
    {
     "name": "stderr",
     "output_type": "stream",
     "text": [
      "C:\\Users\\Niko\\anaconda3\\envs\\PlateDownloader\\lib\\site-packages\\pandas\\core\\frame.py:4170: SettingWithCopyWarning: \n",
      "A value is trying to be set on a copy of a slice from a DataFrame\n",
      "\n",
      "See the caveats in the documentation: https://pandas.pydata.org/pandas-docs/stable/user_guide/indexing.html#returning-a-view-versus-a-copy\n",
      "  errors=errors,\n",
      "\n",
      "  0%|                                                                                            | 0/3 [00:00<?, ?it/s]\u001B[A\n",
      " 33%|████████████████████████████                                                        | 1/3 [00:00<00:01,  1.09it/s]\u001B[A\n",
      "100%|████████████████████████████████████████████████████████████████████████████████████| 3/3 [00:05<00:00,  1.88s/it]\u001B[A\n"
     ]
    },
    {
     "name": "stdout",
     "output_type": "stream",
     "text": [
      "26572.csv\n",
      "DNA:\n",
      "**************\n",
      "LR\n",
      "profile_treated:\n",
      "Linear Reg MSE: 423.9469312889442\n",
      "Linear Reg MAE: 11.763544570186749\n",
      "empty family Granularity\n",
      "empty family Granularity\n",
      "profile_mock:\n",
      "Linear Reg MSE: 917.7178755848632\n",
      "Linear Reg MAE: 19.02286552684089\n",
      "empty family Granularity\n",
      "empty family Granularity\n",
      "**************\n",
      "**************\n",
      "Ridge\n",
      "profile_treated:\n",
      "Ridge MSE: 0.3222962152773411\n",
      "Ridge MAE: 0.3688397218491284\n",
      "empty family Granularity\n",
      "empty family Granularity\n",
      "profile_mock:\n",
      "Ridge MSE: 0.2852987010909896\n",
      "Ridge Reg MAE: 0.3639604339685609\n",
      "empty family Granularity\n",
      "empty family Granularity\n",
      "**************\n",
      "26574.csv\n",
      "['treated' 'mock']\n"
     ]
    },
    {
     "name": "stderr",
     "output_type": "stream",
     "text": [
      "C:\\Users\\Niko\\anaconda3\\envs\\PlateDownloader\\lib\\site-packages\\pandas\\core\\frame.py:4170: SettingWithCopyWarning: \n",
      "A value is trying to be set on a copy of a slice from a DataFrame\n",
      "\n",
      "See the caveats in the documentation: https://pandas.pydata.org/pandas-docs/stable/user_guide/indexing.html#returning-a-view-versus-a-copy\n",
      "  errors=errors,\n",
      "\n",
      "  0%|                                                                                            | 0/3 [00:00<?, ?it/s]\u001B[A\n",
      " 33%|████████████████████████████                                                        | 1/3 [00:00<00:01,  1.22it/s]\u001B[A\n",
      "100%|████████████████████████████████████████████████████████████████████████████████████| 3/3 [00:03<00:00,  1.18s/it]\u001B[A\n"
     ]
    },
    {
     "name": "stdout",
     "output_type": "stream",
     "text": [
      "26574.csv\n",
      "DNA:\n",
      "**************\n",
      "LR\n",
      "profile_treated:\n",
      "Linear Reg MSE: 1401.7725395114442\n",
      "Linear Reg MAE: 22.707052294214503\n",
      "empty family Granularity\n",
      "empty family Granularity\n",
      "profile_mock:\n",
      "Linear Reg MSE: 431.4080353280184\n",
      "Linear Reg MAE: 13.18756491042259\n",
      "empty family Granularity\n",
      "empty family Granularity\n",
      "**************\n",
      "**************\n",
      "Ridge\n",
      "profile_treated:\n",
      "Ridge MSE: 0.371253446884824\n",
      "Ridge MAE: 0.37948317851805363\n",
      "empty family Granularity\n",
      "empty family Granularity\n",
      "profile_mock:\n",
      "Ridge MSE: 0.39050671260780184\n",
      "Ridge Reg MAE: 0.3838474738944274\n",
      "empty family Granularity\n",
      "empty family Granularity"
     ]
    },
    {
     "name": "stderr",
     "output_type": "stream",
     "text": [
      "\r",
      " 40%|█████████████████████████████████▌                                                  | 2/5 [01:06<01:38, 33.00s/it]"
     ]
    },
    {
     "name": "stdout",
     "output_type": "stream",
     "text": [
      "\n",
      "**************\n",
      "26569.csv\n",
      "['mock' 'treated']\n"
     ]
    },
    {
     "name": "stderr",
     "output_type": "stream",
     "text": [
      "C:\\Users\\Niko\\anaconda3\\envs\\PlateDownloader\\lib\\site-packages\\pandas\\core\\frame.py:4170: SettingWithCopyWarning: \n",
      "A value is trying to be set on a copy of a slice from a DataFrame\n",
      "\n",
      "See the caveats in the documentation: https://pandas.pydata.org/pandas-docs/stable/user_guide/indexing.html#returning-a-view-versus-a-copy\n",
      "  errors=errors,\n",
      "\n",
      "  0%|                                                                                            | 0/3 [00:00<?, ?it/s]\u001B[A\n",
      " 67%|████████████████████████████████████████████████████████                            | 2/3 [00:02<00:01,  1.34s/it]\u001B[A\n",
      "100%|████████████████████████████████████████████████████████████████████████████████████| 3/3 [00:07<00:00,  2.44s/it]\u001B[A\n"
     ]
    },
    {
     "name": "stdout",
     "output_type": "stream",
     "text": [
      "26569.csv\n",
      "ER:\n",
      "**************\n",
      "LR\n",
      "profile_treated:\n",
      "Linear Reg MSE: 113.01675227643328\n",
      "Linear Reg MAE: 6.177664970734134\n",
      "profile_mock:\n",
      "Linear Reg MSE: 874.0856041620967\n",
      "Linear Reg MAE: 15.754624472865824\n",
      "**************\n",
      "**************\n",
      "Ridge\n",
      "profile_treated:\n",
      "Ridge MSE: 0.3248285450143897\n",
      "Ridge MAE: 0.3873913147964881\n",
      "profile_mock:\n",
      "Ridge MSE: 0.335083365155424\n",
      "Ridge Reg MAE: 0.3946509474999663\n",
      "**************\n",
      "26572.csv\n",
      "['treated' 'mock']\n"
     ]
    },
    {
     "name": "stderr",
     "output_type": "stream",
     "text": [
      "C:\\Users\\Niko\\anaconda3\\envs\\PlateDownloader\\lib\\site-packages\\pandas\\core\\frame.py:4170: SettingWithCopyWarning: \n",
      "A value is trying to be set on a copy of a slice from a DataFrame\n",
      "\n",
      "See the caveats in the documentation: https://pandas.pydata.org/pandas-docs/stable/user_guide/indexing.html#returning-a-view-versus-a-copy\n",
      "  errors=errors,\n",
      "\n",
      "  0%|                                                                                            | 0/3 [00:00<?, ?it/s]\u001B[A\n",
      " 33%|████████████████████████████                                                        | 1/3 [00:00<00:01,  1.26it/s]\u001B[A\n",
      "100%|████████████████████████████████████████████████████████████████████████████████████| 3/3 [00:05<00:00,  1.78s/it]\u001B[A\n"
     ]
    },
    {
     "name": "stdout",
     "output_type": "stream",
     "text": [
      "26572.csv\n",
      "ER:\n",
      "**************\n",
      "LR\n",
      "profile_treated:\n",
      "Linear Reg MSE: 1025.4060406878457\n",
      "Linear Reg MAE: 18.93645525402495\n",
      "profile_mock:\n",
      "Linear Reg MSE: 2984.474618570664\n",
      "Linear Reg MAE: 30.639388730139075\n",
      "**************\n",
      "**************\n",
      "Ridge\n",
      "profile_treated:\n",
      "Ridge MSE: 0.33638049309548074\n",
      "Ridge MAE: 0.3920001947279246\n",
      "profile_mock:\n",
      "Ridge MSE: 0.31680624247619626\n",
      "Ridge Reg MAE: 0.37961615175975577\n",
      "**************\n",
      "26574.csv\n",
      "['treated' 'mock']\n"
     ]
    },
    {
     "name": "stderr",
     "output_type": "stream",
     "text": [
      "C:\\Users\\Niko\\anaconda3\\envs\\PlateDownloader\\lib\\site-packages\\pandas\\core\\frame.py:4170: SettingWithCopyWarning: \n",
      "A value is trying to be set on a copy of a slice from a DataFrame\n",
      "\n",
      "See the caveats in the documentation: https://pandas.pydata.org/pandas-docs/stable/user_guide/indexing.html#returning-a-view-versus-a-copy\n",
      "  errors=errors,\n",
      "\n",
      "  0%|                                                                                            | 0/3 [00:00<?, ?it/s]\u001B[A\n",
      " 33%|████████████████████████████                                                        | 1/3 [00:00<00:01,  1.26it/s]\u001B[A\n",
      "100%|████████████████████████████████████████████████████████████████████████████████████| 3/3 [00:03<00:00,  1.12s/it]\u001B[A\n"
     ]
    },
    {
     "name": "stdout",
     "output_type": "stream",
     "text": [
      "26574.csv\n",
      "ER:\n",
      "**************\n",
      "LR\n",
      "profile_treated:\n",
      "Linear Reg MSE: 9953.64347649267\n",
      "Linear Reg MAE: 53.374198146126325\n",
      "profile_mock:\n",
      "Linear Reg MSE: 4072.8541101691244\n",
      "Linear Reg MAE: 33.34543894496587\n",
      "**************\n",
      "**************\n",
      "Ridge\n",
      "profile_treated:\n",
      "Ridge MSE: 0.40336376407394986\n",
      "Ridge MAE: 0.4251076518427175\n"
     ]
    },
    {
     "name": "stderr",
     "output_type": "stream",
     "text": [
      "\r",
      " 60%|██████████████████████████████████████████████████▍                                 | 3/5 [01:38<01:05, 32.76s/it]"
     ]
    },
    {
     "name": "stdout",
     "output_type": "stream",
     "text": [
      "profile_mock:\n",
      "Ridge MSE: 0.400516393992223\n",
      "Ridge Reg MAE: 0.4279299027466207\n",
      "**************\n",
      "26569.csv\n",
      "['mock' 'treated']\n"
     ]
    },
    {
     "name": "stderr",
     "output_type": "stream",
     "text": [
      "C:\\Users\\Niko\\anaconda3\\envs\\PlateDownloader\\lib\\site-packages\\pandas\\core\\frame.py:4170: SettingWithCopyWarning: \n",
      "A value is trying to be set on a copy of a slice from a DataFrame\n",
      "\n",
      "See the caveats in the documentation: https://pandas.pydata.org/pandas-docs/stable/user_guide/indexing.html#returning-a-view-versus-a-copy\n",
      "  errors=errors,\n",
      "\n",
      "  0%|                                                                                            | 0/3 [00:00<?, ?it/s]\u001B[A\n",
      " 67%|████████████████████████████████████████████████████████                            | 2/3 [00:02<00:01,  1.28s/it]\u001B[A\n",
      "100%|████████████████████████████████████████████████████████████████████████████████████| 3/3 [00:07<00:00,  2.39s/it]\u001B[A\n"
     ]
    },
    {
     "name": "stdout",
     "output_type": "stream",
     "text": [
      "26569.csv\n",
      "Mito:\n",
      "**************\n",
      "LR\n",
      "profile_treated:\n",
      "Linear Reg MSE: 94.29936054916266\n",
      "Linear Reg MAE: 5.62415765988197\n",
      "profile_mock:\n",
      "Linear Reg MSE: 811.9607224659585\n",
      "Linear Reg MAE: 15.475516160639541\n",
      "**************\n",
      "**************\n",
      "Ridge\n",
      "profile_treated:\n",
      "Ridge MSE: 0.27489191306663385\n",
      "Ridge MAE: 0.3263977857087278\n",
      "profile_mock:\n",
      "Ridge MSE: 0.27993478894772467\n",
      "Ridge Reg MAE: 0.33144702065878345\n",
      "**************\n",
      "26572.csv\n",
      "['treated' 'mock']\n"
     ]
    },
    {
     "name": "stderr",
     "output_type": "stream",
     "text": [
      "C:\\Users\\Niko\\anaconda3\\envs\\PlateDownloader\\lib\\site-packages\\pandas\\core\\frame.py:4170: SettingWithCopyWarning: \n",
      "A value is trying to be set on a copy of a slice from a DataFrame\n",
      "\n",
      "See the caveats in the documentation: https://pandas.pydata.org/pandas-docs/stable/user_guide/indexing.html#returning-a-view-versus-a-copy\n",
      "  errors=errors,\n",
      "\n",
      "  0%|                                                                                            | 0/3 [00:00<?, ?it/s]\u001B[A\n",
      " 33%|████████████████████████████                                                        | 1/3 [00:00<00:01,  1.21it/s]\u001B[A\n",
      "100%|████████████████████████████████████████████████████████████████████████████████████| 3/3 [00:05<00:00,  1.81s/it]\u001B[A\n"
     ]
    },
    {
     "name": "stdout",
     "output_type": "stream",
     "text": [
      "26572.csv\n",
      "Mito:\n",
      "**************\n",
      "LR\n",
      "profile_treated:\n",
      "Linear Reg MSE: 522.5938350543943\n",
      "Linear Reg MAE: 13.426932859834373\n",
      "profile_mock:\n",
      "Linear Reg MSE: 1150.492301594082\n",
      "Linear Reg MAE: 19.09876757654242\n",
      "**************\n",
      "**************\n",
      "Ridge\n",
      "profile_treated:\n",
      "Ridge MSE: 0.2943901192139606\n",
      "Ridge MAE: 0.3322987154077803\n",
      "profile_mock:\n",
      "Ridge MSE: 0.2353363744180137\n",
      "Ridge Reg MAE: 0.3024385921614865\n",
      "**************\n",
      "26574.csv\n",
      "['treated' 'mock']\n"
     ]
    },
    {
     "name": "stderr",
     "output_type": "stream",
     "text": [
      "C:\\Users\\Niko\\anaconda3\\envs\\PlateDownloader\\lib\\site-packages\\pandas\\core\\frame.py:4170: SettingWithCopyWarning: \n",
      "A value is trying to be set on a copy of a slice from a DataFrame\n",
      "\n",
      "See the caveats in the documentation: https://pandas.pydata.org/pandas-docs/stable/user_guide/indexing.html#returning-a-view-versus-a-copy\n",
      "  errors=errors,\n",
      "\n",
      "  0%|                                                                                            | 0/3 [00:00<?, ?it/s]\u001B[A\n",
      " 33%|████████████████████████████                                                        | 1/3 [00:00<00:01,  1.24it/s]\u001B[A\n",
      "100%|████████████████████████████████████████████████████████████████████████████████████| 3/3 [00:03<00:00,  1.12s/it]\u001B[A\n"
     ]
    },
    {
     "name": "stdout",
     "output_type": "stream",
     "text": [
      "26574.csv\n",
      "Mito:\n",
      "**************\n",
      "LR\n",
      "profile_treated:\n",
      "Linear Reg MSE: 10026.807270675898\n",
      "Linear Reg MAE: 58.77708575895765\n",
      "profile_mock:\n",
      "Linear Reg MSE: 4276.684172263204\n",
      "Linear Reg MAE: 36.68070335761251\n",
      "**************\n",
      "**************\n",
      "Ridge\n",
      "profile_treated:\n",
      "Ridge MSE: 0.352312215522312\n",
      "Ridge MAE: 0.37280099848087234\n"
     ]
    },
    {
     "name": "stderr",
     "output_type": "stream",
     "text": [
      "\r",
      " 80%|███████████████████████████████████████████████████████████████████▏                | 4/5 [02:10<00:32, 32.59s/it]"
     ]
    },
    {
     "name": "stdout",
     "output_type": "stream",
     "text": [
      "profile_mock:\n",
      "Ridge MSE: 0.30153692456854525\n",
      "Ridge Reg MAE: 0.3470106033481534\n",
      "**************\n",
      "26569.csv\n",
      "['mock' 'treated']\n"
     ]
    },
    {
     "name": "stderr",
     "output_type": "stream",
     "text": [
      "C:\\Users\\Niko\\anaconda3\\envs\\PlateDownloader\\lib\\site-packages\\pandas\\core\\frame.py:4170: SettingWithCopyWarning: \n",
      "A value is trying to be set on a copy of a slice from a DataFrame\n",
      "\n",
      "See the caveats in the documentation: https://pandas.pydata.org/pandas-docs/stable/user_guide/indexing.html#returning-a-view-versus-a-copy\n",
      "  errors=errors,\n",
      "\n",
      "  0%|                                                                                            | 0/3 [00:00<?, ?it/s]\u001B[A\n",
      " 67%|████████████████████████████████████████████████████████                            | 2/3 [00:02<00:01,  1.27s/it]\u001B[A\n",
      "100%|████████████████████████████████████████████████████████████████████████████████████| 3/3 [00:07<00:00,  2.34s/it]\u001B[A\n"
     ]
    },
    {
     "name": "stdout",
     "output_type": "stream",
     "text": [
      "26569.csv\n",
      "RNA:\n",
      "**************\n",
      "LR\n",
      "profile_treated:\n",
      "Linear Reg MSE: 132.27407379708075\n",
      "Linear Reg MAE: 7.471686339262549\n",
      "profile_mock:\n",
      "Linear Reg MSE: 1019.7313889863213\n",
      "Linear Reg MAE: 18.80291032655262\n",
      "**************\n",
      "**************\n",
      "Ridge\n",
      "profile_treated:\n",
      "Ridge MSE: 0.23259205759323603\n",
      "Ridge MAE: 0.31197049242191943\n",
      "profile_mock:\n",
      "Ridge MSE: 0.2245144411535015\n",
      "Ridge Reg MAE: 0.3059507236553596\n",
      "**************\n",
      "26572.csv\n",
      "['treated' 'mock']\n"
     ]
    },
    {
     "name": "stderr",
     "output_type": "stream",
     "text": [
      "C:\\Users\\Niko\\anaconda3\\envs\\PlateDownloader\\lib\\site-packages\\pandas\\core\\frame.py:4170: SettingWithCopyWarning: \n",
      "A value is trying to be set on a copy of a slice from a DataFrame\n",
      "\n",
      "See the caveats in the documentation: https://pandas.pydata.org/pandas-docs/stable/user_guide/indexing.html#returning-a-view-versus-a-copy\n",
      "  errors=errors,\n",
      "\n",
      "  0%|                                                                                            | 0/3 [00:00<?, ?it/s]\u001B[A\n",
      " 33%|████████████████████████████                                                        | 1/3 [00:00<00:01,  1.23it/s]\u001B[A\n",
      "100%|████████████████████████████████████████████████████████████████████████████████████| 3/3 [00:05<00:00,  1.76s/it]\u001B[A\n"
     ]
    },
    {
     "name": "stdout",
     "output_type": "stream",
     "text": [
      "26572.csv\n",
      "RNA:\n",
      "**************\n",
      "LR\n",
      "profile_treated:\n",
      "Linear Reg MSE: 620.5627012166158\n",
      "Linear Reg MAE: 15.145425152425867\n",
      "profile_mock:\n",
      "Linear Reg MSE: 1355.089948432224\n",
      "Linear Reg MAE: 20.603812015889044\n",
      "**************\n",
      "**************\n",
      "Ridge\n",
      "profile_treated:\n",
      "Ridge MSE: 0.2580117126984367\n",
      "Ridge MAE: 0.32010712412886155\n",
      "profile_mock:\n",
      "Ridge MSE: 0.21119657534068637\n",
      "Ridge Reg MAE: 0.2940328080726246\n",
      "**************\n",
      "26574.csv\n",
      "['treated' 'mock']\n"
     ]
    },
    {
     "name": "stderr",
     "output_type": "stream",
     "text": [
      "C:\\Users\\Niko\\anaconda3\\envs\\PlateDownloader\\lib\\site-packages\\pandas\\core\\frame.py:4170: SettingWithCopyWarning: \n",
      "A value is trying to be set on a copy of a slice from a DataFrame\n",
      "\n",
      "See the caveats in the documentation: https://pandas.pydata.org/pandas-docs/stable/user_guide/indexing.html#returning-a-view-versus-a-copy\n",
      "  errors=errors,\n",
      "\n",
      "  0%|                                                                                            | 0/3 [00:00<?, ?it/s]\u001B[A\n",
      " 33%|████████████████████████████                                                        | 1/3 [00:00<00:01,  1.23it/s]\u001B[A\n",
      "100%|████████████████████████████████████████████████████████████████████████████████████| 3/3 [00:03<00:00,  1.12s/it]\u001B[A\n"
     ]
    },
    {
     "name": "stdout",
     "output_type": "stream",
     "text": [
      "26574.csv\n",
      "RNA:\n",
      "**************\n",
      "LR\n",
      "profile_treated:\n",
      "Linear Reg MSE: 10649.19998112121\n",
      "Linear Reg MAE: 60.61676151120197\n",
      "profile_mock:\n",
      "Linear Reg MSE: 4427.175341625324\n",
      "Linear Reg MAE: 37.07029807244756\n",
      "**************\n",
      "**************\n",
      "Ridge\n",
      "profile_treated:\n",
      "Ridge MSE: 0.2937601310867454\n",
      "Ridge MAE: 0.34450925950979927\n"
     ]
    },
    {
     "name": "stderr",
     "output_type": "stream",
     "text": [
      "100%|████████████████████████████████████████████████████████████████████████████████████| 5/5 [02:42<00:00, 32.43s/it]"
     ]
    },
    {
     "name": "stdout",
     "output_type": "stream",
     "text": [
      "profile_mock:\n",
      "Ridge MSE: 0.2703761291688972\n",
      "Ridge Reg MAE: 0.33450063681822556\n",
      "**************\n"
     ]
    },
    {
     "name": "stderr",
     "output_type": "stream",
     "text": [
      "\n"
     ]
    }
   ],
   "source": [
    "main('csvs/','Std')"
   ]
  }
 ],
 "metadata": {
  "kernelspec": {
   "display_name": "Python 3",
   "language": "python",
   "name": "python3"
  },
  "language_info": {
   "codemirror_mode": {
    "name": "ipython",
    "version": 3
   },
   "file_extension": ".py",
   "mimetype": "text/x-python",
   "name": "python",
   "nbconvert_exporter": "python",
   "pygments_lexer": "ipython3",
   "version": "3.7.9"
  },
  "toc": {
   "base_numbering": 1,
   "nav_menu": {},
   "number_sections": true,
   "sideBar": true,
   "skip_h1_title": false,
   "title_cell": "Table of Contents",
   "title_sidebar": "Contents",
   "toc_cell": false,
   "toc_position": {},
   "toc_section_display": true,
   "toc_window_display": false
  }
 },
 "nbformat": 4,
 "nbformat_minor": 2
}