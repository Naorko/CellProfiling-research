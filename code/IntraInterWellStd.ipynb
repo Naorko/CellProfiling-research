{
 "cells": [
  {
   "cell_type": "code",
   "execution_count": 1,
   "metadata": {
    "collapsed": true,
    "pycharm": {
     "name": "#%%\n"
    }
   },
   "outputs": [],
   "source": [
    "import os\n",
    "import pandas as pd\n",
    "\n",
    "def calc_average_std(plate_statistics_list):\n",
    "    feature_stds=[df.xs('mean',axis=1,level=1).std(ddof=0) for df in plate_statistics_list]\n",
    "    return pd.DataFrame(feature_stds).mean()\n",
    "path=\"D:/Users/Shahar/IdeaProjects/CellProfiling-research/LocalData/stats\"\n",
    "folder_list = [x for x in os.listdir(path) if len(x)==5]\n",
    "platesStatistics= [pd.read_csv(f'{path}/{x}/CW_{x}_Summery.csv',index_col=[0,1], header=[0,1]) for x in folder_list]"
   ]
  },
  {
   "cell_type": "code",
   "execution_count": 2,
   "outputs": [
    {
     "data": {
      "text/plain": "Cells_AreaShape_Area               366.734423\nCells_AreaShape_Center_X            12.373337\nCells_AreaShape_Center_Y             8.098551\nCells_AreaShape_Compactness          0.038548\nCells_AreaShape_Eccentricity         0.014017\n                                      ...    \nCells_Texture_Variance_Mito_3_0      0.150734\nCells_Texture_Variance_Mito_5_0      0.149337\nCells_Texture_Variance_RNA_10_0      0.186004\nCells_Texture_Variance_RNA_3_0       0.187807\nCells_Texture_Variance_RNA_5_0       0.185208\nLength: 481, dtype: float64"
     },
     "execution_count": 2,
     "metadata": {},
     "output_type": "execute_result"
    }
   ],
   "source": [
    "feature_stds=[df.xs('mean',axis=1,level=1).std(ddof=0) for df in platesStatistics]\n",
    "averageStd=pd.DataFrame(feature_stds).mean()\n",
    "averageStd"
   ],
   "metadata": {
    "collapsed": false,
    "pycharm": {
     "name": "#%%\n"
    }
   }
  },
  {
   "cell_type": "code",
   "execution_count": 6,
   "outputs": [
    {
     "data": {
      "text/plain": "Cells_AreaShape_Area               674.709422\nCells_AreaShape_Center_X            12.882882\nCells_AreaShape_Center_Y             8.154129\nCells_AreaShape_Compactness          0.054194\nCells_AreaShape_Eccentricity         0.020123\n                                      ...    \nCells_Texture_Variance_Mito_3_0      0.302835\nCells_Texture_Variance_Mito_5_0      0.306272\nCells_Texture_Variance_RNA_10_0      0.335086\nCells_Texture_Variance_RNA_3_0       0.313449\nCells_Texture_Variance_RNA_5_0       0.317001\nLength: 481, dtype: float64"
     },
     "execution_count": 6,
     "metadata": {},
     "output_type": "execute_result"
    }
   ],
   "source": [
    "randomPlates=[]\n",
    "for i in range(100):\n",
    "    randomPlates.append(pd.concat([df.sample() for df in platesStatistics]))\n",
    "feature_stds=[df.xs('mean',axis=1,level=1).std(ddof=0) for df in randomPlates]\n",
    "averageInterStd=pd.DataFrame(feature_stds).mean()\n",
    "averageInterStd\n",
    "\n"
   ],
   "metadata": {
    "collapsed": false,
    "pycharm": {
     "name": "#%%\n"
    }
   }
  }
 ],
 "metadata": {
  "kernelspec": {
   "display_name": "Python 3",
   "language": "python",
   "name": "python3"
  },
  "language_info": {
   "codemirror_mode": {
    "name": "ipython",
    "version": 3
   },
   "file_extension": ".py",
   "mimetype": "text/x-python",
   "name": "python",
   "nbconvert_exporter": "python",
   "pygments_lexer": "ipython3",
   "version": "3.8.1"
  }
 },
 "nbformat": 4,
 "nbformat_minor": 1
}