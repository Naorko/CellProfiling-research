{
 "cells": [
  {
   "cell_type": "code",
   "execution_count": 1,
   "id": "4bf7df8b-8904-4715-bf97-67d3a35b2cab",
   "metadata": {
    "collapsed": true,
    "jupyter": {
     "outputs_hidden": true
    },
    "tags": []
   },
   "outputs": [
    {
     "name": "stdout",
     "output_type": "stream",
     "text": [
      "Collecting git+git://github.com/cytomining/pycytominer@e43be528d3ca6d77d2b1a347fe8e4131dfc65bf0\n",
      "  Cloning git://github.com/cytomining/pycytominer (to revision e43be528d3ca6d77d2b1a347fe8e4131dfc65bf0) to /tmp/pip-req-build-ni3ueef1\n",
      "  Running command git clone --filter=blob:none --quiet git://github.com/cytomining/pycytominer /tmp/pip-req-build-ni3ueef1\n",
      "  fatal: unable to connect to github.com:\n",
      "  github.com[0: 140.82.121.3]: errno=Connection timed out\n",
      "\n",
      "  \u001b[1;31merror\u001b[0m: \u001b[1msubprocess-exited-with-error\u001b[0m\n",
      "  \n",
      "  \u001b[31m×\u001b[0m \u001b[32mgit clone --\u001b[0m\u001b[32mfilter\u001b[0m\u001b[32m=\u001b[0m\u001b[32mblob\u001b[0m\u001b[32m:none --quiet git:\u001b[0m\u001b[32m/\u001b[0m\u001b[32m/github.com/cytomining/\u001b[0m\u001b[32mpycytominer\u001b[0m\u001b[32m \u001b[0m\u001b[32m/tmp/\u001b[0m\u001b[32mpip-req-build-ni3ueef1\u001b[0m did not run successfully.\n",
      "  \u001b[31m│\u001b[0m exit code: \u001b[1;36m128\u001b[0m\n",
      "  \u001b[31m╰─>\u001b[0m See above for output.\n",
      "  \n",
      "  \u001b[1;35mnote\u001b[0m: This error originates from a subprocess, and is likely not a problem with pip.\n",
      "\u001b[1;31merror\u001b[0m: \u001b[1msubprocess-exited-with-error\u001b[0m\n",
      "\n",
      "\u001b[31m×\u001b[0m \u001b[32mgit clone --\u001b[0m\u001b[32mfilter\u001b[0m\u001b[32m=\u001b[0m\u001b[32mblob\u001b[0m\u001b[32m:none --quiet git:\u001b[0m\u001b[32m/\u001b[0m\u001b[32m/github.com/cytomining/\u001b[0m\u001b[32mpycytominer\u001b[0m\u001b[32m \u001b[0m\u001b[32m/tmp/\u001b[0m\u001b[32mpip-req-build-ni3ueef1\u001b[0m did not run successfully.\n",
      "\u001b[31m│\u001b[0m exit code: \u001b[1;36m128\u001b[0m\n",
      "\u001b[31m╰─>\u001b[0m See above for output.\n",
      "\n",
      "\u001b[1;35mnote\u001b[0m: This error originates from a subprocess, and is likely not a problem with pip.\n"
     ]
    }
   ],
   "source": [
    "!pip install git+git://github.com/cytomining/pycytominer@e43be528d3ca6d77d2b1a347fe8e4131dfc65bf0"
   ]
  },
  {
   "cell_type": "code",
   "execution_count": 2,
   "id": "69da8509-55ad-4268-85cc-18e4826bc13a",
   "metadata": {
    "pycharm": {
     "name": "#%%\n"
    }
   },
   "outputs": [],
   "source": [
    "%load_ext autoreload\n",
    "%autoreload 2"
   ]
  },
  {
   "cell_type": "code",
   "execution_count": 3,
   "id": "feefee9c-b7b9-4d2a-a5c8-531be11e2939",
   "metadata": {
    "pycharm": {
     "name": "#%%\n"
    }
   },
   "outputs": [],
   "source": [
    "import sys, os"
   ]
  },
  {
   "cell_type": "code",
   "execution_count": 4,
   "id": "4b11f22f-4943-484f-ab5f-0f023a09b9db",
   "metadata": {
    "pycharm": {
     "name": "#%%\n"
    }
   },
   "outputs": [],
   "source": [
    "sys.path.append(os.path.abspath('../..'))"
   ]
  },
  {
   "cell_type": "code",
   "execution_count": 5,
   "id": "a4bbc70b-40df-45e0-952a-31c3f0915609",
   "metadata": {},
   "outputs": [],
   "source": [
    "import json\n",
    "import random\n",
    "import pandas as pd"
   ]
  },
  {
   "cell_type": "code",
   "execution_count": 23,
   "id": "0e8787ea-4c95-4f43-9ff8-e411b16034e3",
   "metadata": {},
   "outputs": [],
   "source": [
    "# taken from https://github.com/broadinstitute/lincs-profiling-complementarity/blob/master/1.Data-exploration/Consensus/cell_painting/1.cellpainting_moa_median_scores_calculation.ipynb\n",
    "\n",
    "from pycytominer import feature_select\n",
    "\n",
    "def feature_selection(data):\n",
    "    \"\"\"\n",
    "    Perform feature selection by dropping columns with null or \n",
    "    only zeros values, and highly correlated values from the data.\n",
    "    \n",
    "    params: \n",
    "    dataset_link: string of github link to the consensus dataset\n",
    "\n",
    "    Returns:\n",
    "    data: returned consensus dataframe\n",
    "    \n",
    "    \"\"\"\n",
    "    # data = pd.read_csv(dataset_link, compression='gzip', error_bad_lines=False)\n",
    "    cols = data.columns.tolist()\n",
    "    drop_cols = [x for x in cols if ((data[x].isnull().sum()) | all(y == 0.0 for y in data[x].values))]\n",
    "    data.drop(drop_cols, axis = 1, inplace = True)\n",
    "    excluded_cols = feature_select(\n",
    "        data,\n",
    "        operation=[\n",
    "            \"correlation_threshold\", # Exclude features that have correlations above a certain threshold (default 0.9)\n",
    "            \"variance_threshold\" # Exclude features that have low variance (low information content)\n",
    "        ],\n",
    "        # blocklist_file=\"https://raw.githubusercontent.com/broadinstitute/lincs-cell-painting/1769b32c7cef3385ccc4cea7057386e8a1bde39a/utils/consensus_blocklist.txt\"\n",
    "    )\n",
    "    return {'all_zero_or_nan': drop_cols, **excluded_cols}"
   ]
  },
  {
   "cell_type": "code",
   "execution_count": null,
   "id": "6c18d15a-ccad-4b26-a61f-d88cce6acd1e",
   "metadata": {},
   "outputs": [],
   "source": [
    "df=pd.read_csv('/sise/assafzar-group/g-and-n/plates/csvs/24278.csv', index_col=(list(range(6))))\n",
    "df.shape"
   ]
  },
  {
   "cell_type": "code",
   "execution_count": null,
   "id": "e3548f7d-346c-42fb-88e1-236497b76a30",
   "metadata": {},
   "outputs": [],
   "source": [
    "exclude_cols = feature_selection(df)"
   ]
  },
  {
   "cell_type": "code",
   "execution_count": null,
   "id": "07305340-f3b3-439d-9311-6c1a30311067",
   "metadata": {},
   "outputs": [],
   "source": [
    "all_excols = set()\n",
    "for t, l in ex_cols.items():\n",
    "    print(t, len(l))\n",
    "    all_excols |= set(l)\n",
    "    \n",
    "print('ALL', len(all_excols))"
   ]
  },
  {
   "cell_type": "code",
   "execution_count": null,
   "id": "95f3eeef-939c-428c-8c06-42bdf3bb3311",
   "metadata": {},
   "outputs": [],
   "source": []
  },
  {
   "cell_type": "code",
   "execution_count": 14,
   "id": "6792358c-535e-408a-b1e4-bbde6fb3e642",
   "metadata": {},
   "outputs": [],
   "source": [
    "import numpy as np\n",
    "import pandas as pd"
   ]
  },
  {
   "cell_type": "code",
   "execution_count": 24,
   "id": "99941da5-9424-409a-a6cf-ff4ec603b32c",
   "metadata": {
    "collapsed": true,
    "jupyter": {
     "outputs_hidden": true
    },
    "tags": []
   },
   "outputs": [
    {
     "data": {
      "text/html": [
       "<div>\n",
       "<style scoped>\n",
       "    .dataframe tbody tr th:only-of-type {\n",
       "        vertical-align: middle;\n",
       "    }\n",
       "\n",
       "    .dataframe tbody tr th {\n",
       "        vertical-align: top;\n",
       "    }\n",
       "\n",
       "    .dataframe thead th {\n",
       "        text-align: right;\n",
       "    }\n",
       "</style>\n",
       "<table border=\"1\" class=\"dataframe\">\n",
       "  <thead>\n",
       "    <tr style=\"text-align: right;\">\n",
       "      <th></th>\n",
       "      <th>Cells_Granularity_1_RNA</th>\n",
       "      <th>Cells_Granularity_2_RNA</th>\n",
       "      <th>Cells_Granularity_3_RNA</th>\n",
       "      <th>Cells_Granularity_4_RNA</th>\n",
       "      <th>Cells_Granularity_5_RNA</th>\n",
       "    </tr>\n",
       "  </thead>\n",
       "  <tbody>\n",
       "    <tr>\n",
       "      <th>0</th>\n",
       "      <td>0.0</td>\n",
       "      <td>0.0</td>\n",
       "      <td>0.0</td>\n",
       "      <td>0.0</td>\n",
       "      <td>0.0</td>\n",
       "    </tr>\n",
       "    <tr>\n",
       "      <th>1</th>\n",
       "      <td>0.0</td>\n",
       "      <td>0.0</td>\n",
       "      <td>0.0</td>\n",
       "      <td>0.0</td>\n",
       "      <td>0.0</td>\n",
       "    </tr>\n",
       "    <tr>\n",
       "      <th>2</th>\n",
       "      <td>0.0</td>\n",
       "      <td>0.0</td>\n",
       "      <td>0.0</td>\n",
       "      <td>0.0</td>\n",
       "      <td>0.0</td>\n",
       "    </tr>\n",
       "    <tr>\n",
       "      <th>3</th>\n",
       "      <td>0.0</td>\n",
       "      <td>0.0</td>\n",
       "      <td>0.0</td>\n",
       "      <td>0.0</td>\n",
       "      <td>0.0</td>\n",
       "    </tr>\n",
       "    <tr>\n",
       "      <th>4</th>\n",
       "      <td>0.0</td>\n",
       "      <td>0.0</td>\n",
       "      <td>0.0</td>\n",
       "      <td>0.0</td>\n",
       "      <td>0.0</td>\n",
       "    </tr>\n",
       "    <tr>\n",
       "      <th>5</th>\n",
       "      <td>0.0</td>\n",
       "      <td>0.0</td>\n",
       "      <td>0.0</td>\n",
       "      <td>0.0</td>\n",
       "      <td>0.0</td>\n",
       "    </tr>\n",
       "    <tr>\n",
       "      <th>6</th>\n",
       "      <td>0.0</td>\n",
       "      <td>0.0</td>\n",
       "      <td>0.0</td>\n",
       "      <td>0.0</td>\n",
       "      <td>0.0</td>\n",
       "    </tr>\n",
       "    <tr>\n",
       "      <th>7</th>\n",
       "      <td>0.0</td>\n",
       "      <td>0.0</td>\n",
       "      <td>0.0</td>\n",
       "      <td>0.0</td>\n",
       "      <td>0.0</td>\n",
       "    </tr>\n",
       "    <tr>\n",
       "      <th>8</th>\n",
       "      <td>0.0</td>\n",
       "      <td>0.0</td>\n",
       "      <td>0.0</td>\n",
       "      <td>0.0</td>\n",
       "      <td>0.0</td>\n",
       "    </tr>\n",
       "    <tr>\n",
       "      <th>9</th>\n",
       "      <td>0.0</td>\n",
       "      <td>0.0</td>\n",
       "      <td>0.0</td>\n",
       "      <td>0.0</td>\n",
       "      <td>0.0</td>\n",
       "    </tr>\n",
       "    <tr>\n",
       "      <th>10</th>\n",
       "      <td>0.0</td>\n",
       "      <td>0.0</td>\n",
       "      <td>0.0</td>\n",
       "      <td>0.0</td>\n",
       "      <td>0.0</td>\n",
       "    </tr>\n",
       "    <tr>\n",
       "      <th>11</th>\n",
       "      <td>0.0</td>\n",
       "      <td>0.0</td>\n",
       "      <td>0.0</td>\n",
       "      <td>0.0</td>\n",
       "      <td>0.0</td>\n",
       "    </tr>\n",
       "    <tr>\n",
       "      <th>12</th>\n",
       "      <td>0.0</td>\n",
       "      <td>0.0</td>\n",
       "      <td>0.0</td>\n",
       "      <td>0.0</td>\n",
       "      <td>0.0</td>\n",
       "    </tr>\n",
       "    <tr>\n",
       "      <th>13</th>\n",
       "      <td>0.0</td>\n",
       "      <td>0.0</td>\n",
       "      <td>0.0</td>\n",
       "      <td>0.0</td>\n",
       "      <td>0.0</td>\n",
       "    </tr>\n",
       "    <tr>\n",
       "      <th>14</th>\n",
       "      <td>0.0</td>\n",
       "      <td>0.0</td>\n",
       "      <td>0.0</td>\n",
       "      <td>0.0</td>\n",
       "      <td>0.0</td>\n",
       "    </tr>\n",
       "  </tbody>\n",
       "</table>\n",
       "</div>"
      ],
      "text/plain": [
       "    Cells_Granularity_1_RNA  Cells_Granularity_2_RNA  Cells_Granularity_3_RNA  \\\n",
       "0                       0.0                      0.0                      0.0   \n",
       "1                       0.0                      0.0                      0.0   \n",
       "2                       0.0                      0.0                      0.0   \n",
       "3                       0.0                      0.0                      0.0   \n",
       "4                       0.0                      0.0                      0.0   \n",
       "5                       0.0                      0.0                      0.0   \n",
       "6                       0.0                      0.0                      0.0   \n",
       "7                       0.0                      0.0                      0.0   \n",
       "8                       0.0                      0.0                      0.0   \n",
       "9                       0.0                      0.0                      0.0   \n",
       "10                      0.0                      0.0                      0.0   \n",
       "11                      0.0                      0.0                      0.0   \n",
       "12                      0.0                      0.0                      0.0   \n",
       "13                      0.0                      0.0                      0.0   \n",
       "14                      0.0                      0.0                      0.0   \n",
       "\n",
       "    Cells_Granularity_4_RNA  Cells_Granularity_5_RNA  \n",
       "0                       0.0                      0.0  \n",
       "1                       0.0                      0.0  \n",
       "2                       0.0                      0.0  \n",
       "3                       0.0                      0.0  \n",
       "4                       0.0                      0.0  \n",
       "5                       0.0                      0.0  \n",
       "6                       0.0                      0.0  \n",
       "7                       0.0                      0.0  \n",
       "8                       0.0                      0.0  \n",
       "9                       0.0                      0.0  \n",
       "10                      0.0                      0.0  \n",
       "11                      0.0                      0.0  \n",
       "12                      0.0                      0.0  \n",
       "13                      0.0                      0.0  \n",
       "14                      0.0                      0.0  "
      ]
     },
     "execution_count": 24,
     "metadata": {},
     "output_type": "execute_result"
    }
   ],
   "source": [
    "# df = pd.DataFrame(np.random.randint(0,100,size=(100, 4)), columns=list('ABCD'))\n",
    "df = pd.DataFrame(np.zeros((15,5)), columns=[f'Cells_Granularity_{i}_RNA' for i in range(1,6)])\n",
    "df"
   ]
  },
  {
   "cell_type": "code",
   "execution_count": 32,
   "id": "8c36d157-6196-440e-925c-c44b27e69849",
   "metadata": {},
   "outputs": [
    {
     "data": {
      "text/plain": [
       "406"
      ]
     },
     "execution_count": 32,
     "metadata": {},
     "output_type": "execute_result"
    }
   ],
   "source": [
    "plates_pth = '/sise/assafzar-group/g-and-n/plates/csvs'\n",
    "plates = os.listdir(plates_pth)\n",
    "len(plates)"
   ]
  },
  {
   "cell_type": "code",
   "execution_count": 47,
   "id": "713ece9b-2a9f-4678-ab01-f64c055e7eb4",
   "metadata": {},
   "outputs": [
    {
     "data": {
      "text/plain": [
       "'25704.csv'"
      ]
     },
     "execution_count": 47,
     "metadata": {},
     "output_type": "execute_result"
    }
   ],
   "source": [
    "import random\n",
    "plates.pop(random.randrange(len(plates)))"
   ]
  },
  {
   "cell_type": "code",
   "execution_count": null,
   "id": "c4ecec2e-6960-4e53-8e05-a81aff156c02",
   "metadata": {},
   "outputs": [],
   "source": [
    "processed = []\n",
    "cur_df = None\n",
    "while plates:\n",
    "    cur_plate = plates.pop(random.randrange(len(plates)))\n",
    "    processed.append(cur_plate)\n",
    "    \n",
    "    df = pd.read_csv(os.path.join(plates_pth, cur_plate), index_col=(list(range(6))))\n",
    "    if cur_df is None:\n",
    "        cur_df = df\n",
    "    else:\n",
    "        cur_df = pd.concat([cur_df, df])\n",
    "    \n",
    "    del df\n",
    "        \n",
    "    cols = feature_selection(cur_df)\n",
    "    with open(f'/sise/assafzar-group/g-and-n/feature_selection/{len(processed)}.sav', 'w') as f:\n",
    "        out = {'plates': processed, 'cols': cols}\n",
    "        json.dump(out, f)\n",
    "        del cols"
   ]
  },
  {
   "cell_type": "code",
   "execution_count": null,
   "id": "e6a49175-3575-4628-9a2a-210ecefa365d",
   "metadata": {
    "collapsed": false,
    "jupyter": {
     "outputs_hidden": false
    }
   },
   "outputs": [],
   "source": [
    "import os\n",
    "job_cancel_str=\"scancel \" + os.environ['SLURM_JOBID']\n",
    "os.system(job_cancel_str)"
   ]
  },
  {
   "cell_type": "markdown",
   "id": "56d7905e-dc3a-401b-b519-a1b8376fb673",
   "metadata": {},
   "source": [
    "# Load Feature Selection Output"
   ]
  },
  {
   "cell_type": "code",
   "execution_count": 6,
   "id": "7da2f50f-5f69-415a-bbfd-32cc1ee50271",
   "metadata": {
    "pycharm": {
     "name": "#%%\n"
    }
   },
   "outputs": [],
   "source": [
    "cols_pth = '/storage/users/g-and-n/plates/columns.txt'\n",
    "cols = json.load(open(cols_pth, 'r'))\n",
    "chans = [c for c in cols.keys() if c not in ['MIXED']]\n",
    "chans\n",
    "\n",
    "# del cols['GENERAL']\n",
    "del cols['MIXED']\n",
    "\n",
    "cols['ALL'] = sum(cols.values(), [])"
   ]
  },
  {
   "cell_type": "code",
   "execution_count": 9,
   "id": "5e1e70eb-5d89-408b-8b1f-bce5f5edaa8e",
   "metadata": {},
   "outputs": [],
   "source": [
    "ds = {}\n",
    "for c in chans:\n",
    "    with open(f'/sise/assafzar-group/g-and-n/feature_selection/{c}_23.sav', 'r') as f:\n",
    "        ds[c] = json.load(f)"
   ]
  },
  {
   "cell_type": "code",
   "execution_count": 31,
   "id": "6f743a0a-be86-4bc1-906f-c2b1ec52a2c1",
   "metadata": {},
   "outputs": [
    {
     "name": "stdout",
     "output_type": "stream",
     "text": [
      "GENERAL\n",
      "\t has_nulls 18\n",
      "\t all_zeros 0\n",
      "\t correlation_threshold 16\n",
      "\t variance_threshold 25\n",
      "\t\t\t\t Summary: 34/67:=51% (33)\n",
      "AGP\n",
      "\t has_nulls 24\n",
      "\t all_zeros 0\n",
      "\t correlation_threshold 34\n",
      "\t variance_threshold 24\n",
      "\t\t\t\t Summary: 62/86:=72% (24)\n",
      "DNA\n",
      "\t has_nulls 8\n",
      "\t all_zeros 0\n",
      "\t correlation_threshold 34\n",
      "\t variance_threshold 4\n",
      "\t\t\t\t Summary: 42/70:=60% (28)\n",
      "ER\n",
      "\t has_nulls 24\n",
      "\t all_zeros 0\n",
      "\t correlation_threshold 34\n",
      "\t variance_threshold 19\n",
      "\t\t\t\t Summary: 59/86:=69% (27)\n",
      "Mito\n",
      "\t has_nulls 24\n",
      "\t all_zeros 0\n",
      "\t correlation_threshold 33\n",
      "\t variance_threshold 21\n",
      "\t\t\t\t Summary: 59/86:=69% (27)\n",
      "RNA\n",
      "\t has_nulls 24\n",
      "\t all_zeros 0\n",
      "\t correlation_threshold 33\n",
      "\t variance_threshold 19\n",
      "\t\t\t\t Summary: 57/86:=66% (29)\n"
     ]
    }
   ],
   "source": [
    "for c, d in ds.items():\n",
    "    print(c)\n",
    "    for k, v in d['cols'].items():\n",
    "        print('\\t', k, len(v))\n",
    "\n",
    "    all_cols = sum(d['cols'].values(), [])\n",
    "    # all_cols = d['cols']['correlation_threshold'] + d['cols']['variance_threshold']\n",
    "    \n",
    "    \n",
    "    c_uni = len(set(all_cols))\n",
    "    c_all = len(cols[c])\n",
    "    print('\\t\\t\\t\\t', 'Summary:', f'{c_uni}/{c_all}:={c_uni/c_all:.0%} ({c_all-c_uni})')"
   ]
  },
  {
   "cell_type": "markdown",
   "id": "ce061c0d-a58e-4ef8-a69e-963b6b42d3b7",
   "metadata": {},
   "source": [
    "## Check on random plate"
   ]
  },
  {
   "cell_type": "code",
   "execution_count": 49,
   "id": "079aabec-f7a4-40ac-b368-036711d64ae1",
   "metadata": {
    "collapsed": true,
    "jupyter": {
     "outputs_hidden": true
    },
    "tags": []
   },
   "outputs": [
    {
     "name": "stdout",
     "output_type": "stream",
     "text": [
      "24684.csv\n",
      "GENERAL [0]\n",
      "AGP [0]\n",
      "DNA [0]\n",
      "ER [0]\n",
      "Mito [0]\n",
      "RNA [0]\n",
      "26675.csv\n",
      "GENERAL [0]\n",
      "AGP [0]\n",
      "DNA [0]\n",
      "ER [0]\n",
      "Mito [0]\n",
      "RNA [0]\n",
      "24564.csv\n",
      "GENERAL [10  0]\n",
      "AGP [10]\n",
      "DNA [10]\n",
      "ER [10]\n",
      "Mito [10]\n",
      "RNA [10]\n",
      "24301.csv\n",
      "GENERAL [10  0]\n",
      "AGP [10]\n",
      "DNA [10]\n",
      "ER [10]\n",
      "Mito [10]\n",
      "RNA [10]\n",
      "26204.csv\n",
      "GENERAL [2 0]\n",
      "AGP [2]\n",
      "DNA [2]\n",
      "ER [2]\n",
      "Mito [2]\n",
      "RNA [2]\n",
      "26662.csv\n",
      "GENERAL [1 0]\n",
      "AGP [1]\n",
      "DNA [1]\n",
      "ER [1]\n",
      "Mito [1]\n",
      "RNA [1]\n",
      "25694.csv\n",
      "GENERAL [1 0]\n",
      "AGP [1]\n",
      "DNA [1]\n",
      "ER [1]\n",
      "Mito [1]\n",
      "RNA [1]\n",
      "24294.csv\n",
      "GENERAL [8 0 1]\n",
      "AGP [8]\n",
      "DNA [8]\n",
      "ER [8]\n",
      "Mito [8]\n",
      "RNA [8]\n",
      "25885.csv\n",
      "GENERAL [0]\n",
      "AGP [0]\n",
      "DNA [0]\n",
      "ER [0]\n",
      "Mito [0]\n",
      "RNA [0]\n",
      "25908.csv\n",
      "GENERAL [1 0]\n",
      "AGP [1]\n",
      "DNA [1]\n",
      "ER [1]\n",
      "Mito [1]\n",
      "RNA [1]\n"
     ]
    }
   ],
   "source": [
    "for _ in range(10):\n",
    "    cur_plate = plates.pop(random.randrange(len(plates)))\n",
    "    print(cur_plate)\n",
    "\n",
    "    df = pd.read_csv(os.path.join(plates_pth, cur_plate), index_col=(list(range(6))))\n",
    "\n",
    "    for c, d in ds.items():\n",
    "        print(c, df[d['cols']['has_nulls']].isna().sum().unique())"
   ]
  },
  {
   "cell_type": "markdown",
   "id": "1a1c9b37-bb76-4467-bff4-905417695c45",
   "metadata": {},
   "source": [
    "# Create new columns file"
   ]
  },
  {
   "cell_type": "markdown",
   "id": "ce63414f-d481-48b7-8f62-bedfa61c2204",
   "metadata": {},
   "source": [
    "## FS per Channel"
   ]
  },
  {
   "cell_type": "code",
   "execution_count": 16,
   "id": "a18449a6-ad30-48a2-a623-3d6e7716d94c",
   "metadata": {},
   "outputs": [],
   "source": [
    "# del cols['GENERAL']\n",
    "del cols['ALL']"
   ]
  },
  {
   "cell_type": "code",
   "execution_count": 68,
   "id": "051ea431-22a2-44d8-a3cd-00385fa55c5f",
   "metadata": {},
   "outputs": [
    {
     "data": {
      "text/plain": [
       "dict_keys(['GENERAL', 'AGP', 'DNA', 'ER', 'Mito', 'RNA'])"
      ]
     },
     "execution_count": 68,
     "metadata": {},
     "output_type": "execute_result"
    }
   ],
   "source": [
    "cols.keys()"
   ]
  },
  {
   "cell_type": "code",
   "execution_count": 69,
   "id": "70fa9a44-db94-4d92-bc5c-ec2c67f27960",
   "metadata": {},
   "outputs": [],
   "source": [
    "for c, d in ds.items():\n",
    "    drop_cols = set(d['cols']['correlation_threshold'] + d['cols']['variance_threshold'])\n",
    "    if c in cols.keys():\n",
    "        cols[c] = [cl for cl in cols[c] if cl not in drop_cols]"
   ]
  },
  {
   "cell_type": "code",
   "execution_count": 70,
   "id": "0bd4bb6e-2cd8-4527-bd70-5548ecd1a306",
   "metadata": {},
   "outputs": [
    {
     "name": "stdout",
     "output_type": "stream",
     "text": [
      "GENERAL 39\n",
      "AGP 31\n",
      "DNA 34\n",
      "ER 35\n",
      "Mito 34\n",
      "RNA 35\n"
     ]
    }
   ],
   "source": [
    "for k, v in cols.items():\n",
    "    print(k, len(v))"
   ]
  },
  {
   "cell_type": "code",
   "execution_count": 71,
   "id": "40c50bd4-6af7-4b66-9ce3-3dd959a87e30",
   "metadata": {},
   "outputs": [],
   "source": [
    "with open('/storage/users/g-and-n/plates/columns-fs.json', 'w') as f:\n",
    "    json.dump(cols, f)"
   ]
  },
  {
   "cell_type": "markdown",
   "id": "db3a1322-f553-453e-9b29-376db680b17a",
   "metadata": {},
   "source": [
    "## FS all channels"
   ]
  },
  {
   "cell_type": "code",
   "execution_count": 8,
   "id": "f2edf944-3c2e-4ca8-b986-ed5c4cad9711",
   "metadata": {},
   "outputs": [],
   "source": [
    "with open(f'/sise/assafzar-group/g-and-n/feature_selection/ALL_24.sav', 'r') as f:\n",
    "    d_cols = json.load(f)"
   ]
  },
  {
   "cell_type": "code",
   "execution_count": 20,
   "id": "b22e61bc-f4aa-4c29-9e0a-720611373dcb",
   "metadata": {},
   "outputs": [
    {
     "name": "stdout",
     "output_type": "stream",
     "text": [
      "GENERAL 67 67\n",
      "AGP 33 86\n",
      "DNA 33 70\n",
      "ER 31 86\n",
      "Mito 31 86\n",
      "RNA 28 86\n"
     ]
    }
   ],
   "source": [
    "drop_cols = set(d_cols['cols']['correlation_threshold'] + d_cols['cols']['variance_threshold'])\n",
    "for c, c_cols in cols.items():\n",
    "    new_cols = [cl for cl in c_cols if cl not in drop_cols]\n",
    "    print(c, len(new_cols), len(c_cols))\n",
    "    cols[c] = new_cols"
   ]
  },
  {
   "cell_type": "code",
   "execution_count": 22,
   "id": "c022745f-1f78-4bae-a5c0-cf33c41d6b87",
   "metadata": {},
   "outputs": [],
   "source": [
    "with open('/storage/users/g-and-n/plates/columns-all-fs.json', 'w') as f:\n",
    "    json.dump(cols, f)"
   ]
  }
 ],
 "metadata": {
  "kernelspec": {
   "display_name": "Python (pt-env)",
   "language": "python",
   "name": "pt-env"
  },
  "language_info": {
   "codemirror_mode": {
    "name": "ipython",
    "version": 3
   },
   "file_extension": ".py",
   "mimetype": "text/x-python",
   "name": "python",
   "nbconvert_exporter": "python",
   "pygments_lexer": "ipython3",
   "version": "3.7.10"
  }
 },
 "nbformat": 4,
 "nbformat_minor": 5
}
