{
 "cells": [
  {
   "cell_type": "code",
   "execution_count": 12,
   "metadata": {},
   "outputs": [],
   "source": [
    "import os\n",
    "import tensorflow as tf"
   ]
  },
  {
   "cell_type": "code",
   "execution_count": 13,
   "metadata": {},
   "outputs": [],
   "source": [
    "os.chdir(r'C:\\Users\\Niko\\OneDrive\\שולחן העבודה\\csvc')"
   ]
  },
  {
   "cell_type": "code",
   "execution_count": 14,
   "metadata": {},
   "outputs": [
    {
     "data": {
      "text/plain": [
       "['1.csv', '2.csv', '3.csv']"
      ]
     },
     "execution_count": 14,
     "metadata": {},
     "output_type": "execute_result"
    }
   ],
   "source": [
    "os.listdir()"
   ]
  },
  {
   "cell_type": "code",
   "execution_count": 20,
   "metadata": {},
   "outputs": [],
   "source": [
    "ds = tf.data.experimental.make_csv_dataset(['1.csv', '3.csv'], 1)"
   ]
  },
  {
   "cell_type": "code",
   "execution_count": 21,
   "metadata": {},
   "outputs": [
    {
     "name": "stdout",
     "output_type": "stream",
     "text": [
      "OrderedDict([('A', <tf.Tensor: shape=(1,), dtype=int32, numpy=array([2])>), ('B', <tf.Tensor: shape=(1,), dtype=int32, numpy=array([2])>), ('C', <tf.Tensor: shape=(1,), dtype=int32, numpy=array([2])>), ('D', <tf.Tensor: shape=(1,), dtype=int32, numpy=array([2])>)])\n",
      "OrderedDict([('A', <tf.Tensor: shape=(1,), dtype=int32, numpy=array([5])>), ('B', <tf.Tensor: shape=(1,), dtype=int32, numpy=array([5])>), ('C', <tf.Tensor: shape=(1,), dtype=int32, numpy=array([5])>), ('D', <tf.Tensor: shape=(1,), dtype=int32, numpy=array([5])>)])\n",
      "OrderedDict([('A', <tf.Tensor: shape=(1,), dtype=int32, numpy=array([1])>), ('B', <tf.Tensor: shape=(1,), dtype=int32, numpy=array([1])>), ('C', <tf.Tensor: shape=(1,), dtype=int32, numpy=array([1])>), ('D', <tf.Tensor: shape=(1,), dtype=int32, numpy=array([1])>)])\n",
      "OrderedDict([('A', <tf.Tensor: shape=(1,), dtype=int32, numpy=array([6])>), ('B', <tf.Tensor: shape=(1,), dtype=int32, numpy=array([6])>), ('C', <tf.Tensor: shape=(1,), dtype=int32, numpy=array([6])>), ('D', <tf.Tensor: shape=(1,), dtype=int32, numpy=array([6])>)])\n",
      "OrderedDict([('A', <tf.Tensor: shape=(1,), dtype=int32, numpy=array([5])>), ('B', <tf.Tensor: shape=(1,), dtype=int32, numpy=array([5])>), ('C', <tf.Tensor: shape=(1,), dtype=int32, numpy=array([5])>), ('D', <tf.Tensor: shape=(1,), dtype=int32, numpy=array([5])>)])\n",
      "OrderedDict([('A', <tf.Tensor: shape=(1,), dtype=int32, numpy=array([6])>), ('B', <tf.Tensor: shape=(1,), dtype=int32, numpy=array([6])>), ('C', <tf.Tensor: shape=(1,), dtype=int32, numpy=array([6])>), ('D', <tf.Tensor: shape=(1,), dtype=int32, numpy=array([6])>)])\n"
     ]
    }
   ],
   "source": [
    "for j in ds.take(6):\n",
    "    print(j)"
   ]
  },
  {
   "cell_type": "code",
   "execution_count": 19,
   "metadata": {},
   "outputs": [],
   "source": [
    "@tf.function\n",
    "def make_features_labels_tuple(x):\n",
    "    labels = {k: x[k] for k in x if k in label_cols}\n",
    "    features = {k: x[k] for k in x if k in feature_cols}\n",
    "    return (features, labels)"
   ]
  },
  {
   "cell_type": "code",
   "execution_count": 7,
   "metadata": {},
   "outputs": [],
   "source": [
    "label_cols=['C','D']\n",
    "feature_cols=['A','B']"
   ]
  },
  {
   "cell_type": "code",
   "execution_count": 8,
   "metadata": {},
   "outputs": [],
   "source": [
    "ds1=ds.map(make_features_labels_tuple)"
   ]
  },
  {
   "cell_type": "code",
   "execution_count": 9,
   "metadata": {},
   "outputs": [
    {
     "data": {
      "text/plain": [
       "<TakeDataset shapes: ({A: (1,), B: (1,)}, {C: (1,), D: (1,)}), types: ({A: tf.int32, B: tf.int32}, {C: tf.int32, D: tf.int32})>"
      ]
     },
     "execution_count": 9,
     "metadata": {},
     "output_type": "execute_result"
    }
   ],
   "source": [
    "ds1.take(1)"
   ]
  },
  {
   "cell_type": "code",
   "execution_count": 35,
   "metadata": {},
   "outputs": [],
   "source": [
    "@tf.function\n",
    "def filter_func(x):\n",
    "    return x['C']>1"
   ]
  },
  {
   "cell_type": "code",
   "execution_count": 37,
   "metadata": {},
   "outputs": [
    {
     "name": "stdout",
     "output_type": "stream",
     "text": [
      "OrderedDict([('A', <tf.Tensor: shape=(), dtype=int32, numpy=5>), ('B', <tf.Tensor: shape=(), dtype=int32, numpy=5>), ('C', <tf.Tensor: shape=(), dtype=int32, numpy=5>), ('D', <tf.Tensor: shape=(), dtype=int32, numpy=5>)])\n",
      "OrderedDict([('A', <tf.Tensor: shape=(), dtype=int32, numpy=2>), ('B', <tf.Tensor: shape=(), dtype=int32, numpy=2>), ('C', <tf.Tensor: shape=(), dtype=int32, numpy=2>), ('D', <tf.Tensor: shape=(), dtype=int32, numpy=2>)])\n",
      "OrderedDict([('A', <tf.Tensor: shape=(), dtype=int32, numpy=6>), ('B', <tf.Tensor: shape=(), dtype=int32, numpy=6>), ('C', <tf.Tensor: shape=(), dtype=int32, numpy=6>), ('D', <tf.Tensor: shape=(), dtype=int32, numpy=6>)])\n",
      "OrderedDict([('A', <tf.Tensor: shape=(), dtype=int32, numpy=2>), ('B', <tf.Tensor: shape=(), dtype=int32, numpy=2>), ('C', <tf.Tensor: shape=(), dtype=int32, numpy=2>), ('D', <tf.Tensor: shape=(), dtype=int32, numpy=2>)])\n",
      "OrderedDict([('A', <tf.Tensor: shape=(), dtype=int32, numpy=6>), ('B', <tf.Tensor: shape=(), dtype=int32, numpy=6>), ('C', <tf.Tensor: shape=(), dtype=int32, numpy=6>), ('D', <tf.Tensor: shape=(), dtype=int32, numpy=6>)])\n",
      "OrderedDict([('A', <tf.Tensor: shape=(), dtype=int32, numpy=5>), ('B', <tf.Tensor: shape=(), dtype=int32, numpy=5>), ('C', <tf.Tensor: shape=(), dtype=int32, numpy=5>), ('D', <tf.Tensor: shape=(), dtype=int32, numpy=5>)])\n"
     ]
    }
   ],
   "source": [
    "for j in ds.unbatch().filter(filter_func).take(6):\n",
    "    print(j)"
   ]
  },
  {
   "cell_type": "code",
   "execution_count": 22,
   "metadata": {},
   "outputs": [],
   "source": [
    "from tensorflow.python.data.ops import dataset_ops"
   ]
  },
  {
   "cell_type": "code",
   "execution_count": null,
   "metadata": {},
   "outputs": [],
   "source": []
  }
 ],
 "metadata": {
  "kernelspec": {
   "display_name": "Python 3",
   "language": "python",
   "name": "python3"
  },
  "language_info": {
   "codemirror_mode": {
    "name": "ipython",
    "version": 3
   },
   "file_extension": ".py",
   "mimetype": "text/x-python",
   "name": "python",
   "nbconvert_exporter": "python",
   "pygments_lexer": "ipython3",
   "version": "3.7.9"
  }
 },
 "nbformat": 4,
 "nbformat_minor": 4
}
