{
 "cells": [
  {
   "cell_type": "code",
   "execution_count": null,
   "id": "e027c5e1-7dff-46d0-ab7b-9fb45cac6286",
   "metadata": {
    "pycharm": {
     "name": "#%%\n"
    }
   },
   "outputs": [],
   "source": [
    "import os\n",
    "job_cancel_str=\"scancel \" + os.environ['SLURM_JOBID']\n",
    "os.system(job_cancel_str)"
   ]
  },
  {
   "cell_type": "markdown",
   "id": "436dc467-3c37-4711-8da7-73a534176b60",
   "metadata": {},
   "source": [
    "# Readining 1 Channel"
   ]
  },
  {
   "cell_type": "code",
   "execution_count": 1,
   "id": "37aae240-e557-4577-a24f-c1da3d54a724",
   "metadata": {},
   "outputs": [],
   "source": [
    "import sys\n",
    "import os\n",
    "import numpy as np\n",
    "import pandas as pd\n",
    "from glob import glob\n",
    "from tqdm.notebook import tqdm"
   ]
  },
  {
   "cell_type": "code",
   "execution_count": 2,
   "id": "393419cc-3391-4e9c-ae3c-5caec6f72ff7",
   "metadata": {},
   "outputs": [],
   "source": [
    "sys.path.append('/storage/users/g-and-n/naorko_code/code/')"
   ]
  },
  {
   "cell_type": "code",
   "execution_count": 3,
   "id": "943071f8-f635-4f7b-ac31-59189e76f3d6",
   "metadata": {},
   "outputs": [],
   "source": [
    "from learning_tabular.preprocessing import load_plate_csv, list_columns\n",
    "from hit_finding.metrics import *"
   ]
  },
  {
   "cell_type": "code",
   "execution_count": 17,
   "id": "8946f76a-1694-4094-9b68-9d074296ced1",
   "metadata": {},
   "outputs": [
    {
     "data": {
      "text/plain": [
       "['/storage/users/g-and-n/tabular_models_results/40033/channel ER/',\n",
       " '/storage/users/g-and-n/tabular_models_results/40012/channel DNA/',\n",
       " '/storage/users/g-and-n/tabular_models_results/40034/channel Mito/',\n",
       " '/storage/users/g-and-n/tabular_models_results/40015/channel RNA/',\n",
       " '/storage/users/g-and-n/tabular_models_results/40014/channel Mito/',\n",
       " '/storage/users/g-and-n/tabular_models_results/40035/channel RNA/',\n",
       " '/storage/users/g-and-n/tabular_models_results/40032/channel DNA/',\n",
       " '/storage/users/g-and-n/tabular_models_results/40022/channel DNA/',\n",
       " '/storage/users/g-and-n/tabular_models_results/40024/channel Mito/',\n",
       " '/storage/users/g-and-n/tabular_models_results/40031/channel AGP/',\n",
       " '/storage/users/g-and-n/tabular_models_results/40023/channel ER/',\n",
       " '/storage/users/g-and-n/tabular_models_results/40025/channel RNA/',\n",
       " '/storage/users/g-and-n/tabular_models_results/40021/channel AGP/',\n",
       " '/storage/users/g-and-n/tabular_models_results/40011/channel AGP/',\n",
       " '/storage/users/g-and-n/tabular_models_results/40013/channel ER/',\n",
       " '/storage/users/g-and-n/tabular_models_results/40041/channel AGP/',\n",
       " '/storage/users/g-and-n/tabular_models_results/40042/channel DNA/',\n",
       " '/storage/users/g-and-n/tabular_models_results/40043/channel ER/',\n",
       " '/storage/users/g-and-n/tabular_models_results/40044/channel Mito/',\n",
       " '/storage/users/g-and-n/tabular_models_results/40045/channel RNA/']"
      ]
     },
     "execution_count": 17,
     "metadata": {},
     "output_type": "execute_result"
    }
   ],
   "source": [
    "flds = glob('/storage/users/g-and-n/tabular_models_results/400*/*/')\n",
    "flds"
   ]
  },
  {
   "cell_type": "code",
   "execution_count": 4,
   "id": "0a10c531-a206-4e5d-bfc8-4eab5b33042a",
   "metadata": {},
   "outputs": [],
   "source": [
    "flds = [\n",
    "    '/storage/users/g-and-n/tabular_models_results/40012/channel DNA/',\n",
    "    '/storage/users/g-and-n/tabular_models_results/40033/channel ER/',\n",
    "    '/storage/users/g-and-n/tabular_models_results/40034/channel Mito/',\n",
    "]"
   ]
  },
  {
   "cell_type": "markdown",
   "id": "380b0233-9777-4881-aabe-db8269165b86",
   "metadata": {
    "tags": []
   },
   "source": [
    "## Calculate Pure Z-Scores"
   ]
  },
  {
   "cell_type": "code",
   "execution_count": null,
   "id": "a7ccb50b-1456-40b1-8a7a-638c197baceb",
   "metadata": {},
   "outputs": [
    {
     "data": {
      "application/vnd.jupyter.widget-view+json": {
       "model_id": "6e7246e7b07447a8aa6abc46e283e75a",
       "version_major": 2,
       "version_minor": 0
      },
      "text/plain": [
       "  0%|          | 0/100 [00:00<?, ?it/s]"
      ]
     },
     "metadata": {},
     "output_type": "display_data"
    }
   ],
   "source": [
    "for cur_fld in flds:\n",
    "    os.chdir(cur_fld)\n",
    "\n",
    "    os.makedirs('zscores', exist_ok=True)\n",
    "\n",
    "    err_fld = './results/'\n",
    "    pure_fld = './zscores/'\n",
    "\n",
    "    index_fields = None\n",
    "    well_index=None\n",
    "    by_well=True\n",
    "    for plate_csv in tqdm(glob(f'{err_fld}/*')):\n",
    "        dest = f'{pure_fld}/{os.path.basename(plate_csv)}'\n",
    "\n",
    "        if os.path.exists(dest):\n",
    "            continue\n",
    "\n",
    "        df = load_plate_csv(plate_csv, index_fields=index_fields)\n",
    "\n",
    "        if by_well:\n",
    "            if well_index is None:\n",
    "                well_index = ['Plate', LABEL_FIELD, 'Metadata_broad_sample', 'Image_Metadata_Well']\n",
    "\n",
    "            df = df.groupby(by=well_index).apply(lambda g: g.mean())\n",
    "\n",
    "        df_mock = df[df.index.isin(['mock'], 1)]\n",
    "        if not df_mock.shape[0]:\n",
    "            print(f'no mock wells in {os.path.basename(plate_csv)}')\n",
    "            continue\n",
    "\n",
    "        scaler = StandardScaler()\n",
    "        scaler.fit(df_mock)\n",
    "        del df_mock\n",
    "\n",
    "        df_zscores = pd.DataFrame(scaler.transform(df), index=df.index, columns=df.columns)\n",
    "        del df\n",
    "\n",
    "        df_zscores.to_csv(dest)\n",
    "\n",
    "        del df_zscores"
   ]
  },
  {
   "cell_type": "markdown",
   "id": "6d3cc688-0c9a-4116-b328-b1b8cf6ac994",
   "metadata": {},
   "source": [
    "## Calculate SS"
   ]
  },
  {
   "cell_type": "code",
   "execution_count": null,
   "id": "472e79e7-21c9-4b37-890a-7b712f1a266e",
   "metadata": {},
   "outputs": [],
   "source": [
    "def generate_scores(cpdf, abs_zscore=True, th_range=range(2, 21)):\n",
    "    res = {}\n",
    "    rep_cnt, fet_cnt = cpdf.shape\n",
    "\n",
    "    corr = cpdf.astype('float64').T.corr(method='pearson').values\n",
    "    if len(corr) == 1:\n",
    "        med_corr = 1\n",
    "    else:\n",
    "        med_corr = np.median(list(corr[np.triu_indices(len(corr), k = 1)]))\n",
    "        \n",
    "    res['Med_Corr'] = med_corr\n",
    "    \n",
    "    cpdf_norm = cpdf * np.sqrt(rep_cnt)\n",
    "    \n",
    "    if abs_zscore:\n",
    "        cpdf_norm = abs(cpdf_norm.T)\n",
    "\n",
    "    for t in th_range:\n",
    "        gtr_t_cnt = (cpdf_norm >= t).sum().sum()\n",
    "        ss_norm = gtr_t_cnt / rep_cnt\n",
    "        mas = np.sqrt((max(med_corr, 0) * ss_norm) / fet_cnt)\n",
    "        res[f'SS_{t}'] = ss_norm\n",
    "        res[f'MAS_{t}'] = mas\n",
    "    \n",
    "    return pd.Series(res)"
   ]
  },
  {
   "cell_type": "code",
   "execution_count": null,
   "id": "2614e864-38d4-4991-81f9-cdf016d1a50b",
   "metadata": {},
   "outputs": [],
   "source": [
    "for cur_fld in tqdm(flds):\n",
    "    cur_df = pd.concat([pd.read_csv(pth, index_col=[0,1,2,3]) for pth in glob(cur_fld+'zscores/*')])\n",
    "    cur_df = cur_df.query('Metadata_ASSAY_WELL_ROLE == \"treated\"').droplevel(1)\n",
    "    cur_res = cur_df.groupby('Metadata_broad_sample').apply(generate_scores, abs_zscore=False, th_range=[2, 6, 10, 14])\n",
    "    del cur_df\n",
    "    cur_res.to_csv(cur_fld+'scores.csv')\n",
    "    del cur_res"
   ]
  },
  {
   "cell_type": "code",
   "execution_count": 16,
   "id": "08014041-83ee-4142-a1e6-b2bd50372ed6",
   "metadata": {},
   "outputs": [
    {
     "name": "stdout",
     "output_type": "stream",
     "text": [
      "Total: 25600 GiB\n",
      "Used: 21309 GiB\n",
      "Free: 4290 GiB\n"
     ]
    }
   ],
   "source": [
    "import shutil\n",
    "\n",
    "total, used, free = shutil.disk_usage(\"/storage/users/g-and-n/tabular_models_results/40034/channel Mito/\")\n",
    "\n",
    "print(\"Total: %d GiB\" % (total // (2**30)))\n",
    "print(\"Used: %d GiB\" % (used // (2**30)))\n",
    "print(\"Free: %d GiB\" % (free // (2**30)))"
   ]
  },
  {
   "cell_type": "code",
   "execution_count": null,
   "id": "3a96cee3-5b81-4994-80a9-38f07f91c8fe",
   "metadata": {},
   "outputs": [],
   "source": [
    "import shutil\n",
    "\n",
    "total, used, free = shutil.disk_usage(\"/storage/users/g-and-n/tabular_models_results/40034/channel Mito/\")\n",
    "\n",
    "print(\"Total: %d GiB\" % (total // (2**30)))\n",
    "print(\"Used: %d GiB\" % (used // (2**30)))\n",
    "print(\"Free: %d GiB\" % (free // (2**30)))"
   ]
  },
  {
   "cell_type": "code",
   "execution_count": null,
   "id": "1c2f9911-0252-4fa8-88d9-61ba502cfdf4",
   "metadata": {},
   "outputs": [],
   "source": []
  }
 ],
 "metadata": {
  "kernelspec": {
   "display_name": "Python (pt-env)",
   "language": "python",
   "name": "pt-env"
  },
  "language_info": {
   "codemirror_mode": {
    "name": "ipython",
    "version": 3
   },
   "file_extension": ".py",
   "mimetype": "text/x-python",
   "name": "python",
   "nbconvert_exporter": "python",
   "pygments_lexer": "ipython3",
   "version": "3.7.10"
  }
 },
 "nbformat": 4,
 "nbformat_minor": 5
}
