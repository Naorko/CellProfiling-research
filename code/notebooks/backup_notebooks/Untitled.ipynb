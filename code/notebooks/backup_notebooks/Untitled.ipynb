{
 "cells": [
  {
   "cell_type": "code",
   "execution_count": null,
   "id": "9b5ae71f-c48c-478a-9dd1-519657c6a997",
   "metadata": {},
   "outputs": [],
   "source": []
  },
  {
   "cell_type": "code",
   "execution_count": 1,
   "id": "dc6278d8-3c33-4e7c-9a7a-eded583d68f1",
   "metadata": {
    "pycharm": {
     "is_executing": true,
     "name": "#%%\n"
    }
   },
   "outputs": [],
   "source": [
    "%load_ext autoreload\n",
    "%autoreload 2"
   ]
  },
  {
   "cell_type": "code",
   "execution_count": 2,
   "id": "76a93a59-c6f8-408e-9615-42f08723f4e1",
   "metadata": {
    "pycharm": {
     "is_executing": true,
     "name": "#%%\n"
    }
   },
   "outputs": [],
   "source": [
    "import sys, os\n",
    "\n",
    "sys.path.append(os.path.abspath('../..'))"
   ]
  },
  {
   "cell_type": "code",
   "execution_count": 3,
   "id": "07fbcf7c-70b9-4aa7-865e-212bb84236c3",
   "metadata": {
    "pycharm": {
     "name": "#%%\n"
    }
   },
   "outputs": [],
   "source": [
    "import matplotlib.pyplot as plt\n",
    "import seaborn as sns\n",
    "import numpy as np\n",
    "from tqdm.notebook import tqdm\n",
    "import joblib"
   ]
  },
  {
   "cell_type": "code",
   "execution_count": 4,
   "id": "894e4fb6-97d4-4553-a629-0addb6589178",
   "metadata": {
    "pycharm": {
     "name": "#%%\n"
    }
   },
   "outputs": [],
   "source": [
    "from hit_finding.constants import *\n",
    "from hit_finding.metrics import *\n",
    "from learning_tabular.preprocessing import list_columns\n",
    "from learning_tabular.constants import CHANNELS, FAMILIES, LABEL_FIELD\n",
    "from learning_tabular.preprocessing import load_plate_csv, list_columns\n",
    "\n",
    "# from os import chdir, scandir, makedirs\n",
    "import matplotlib.pyplot as plt\n",
    "# from matplotlib.gridspec import GridSpec\n",
    "# import seaborn as sns\n",
    "import pandas as pd\n",
    "import numpy as np\n"
   ]
  },
  {
   "cell_type": "code",
   "execution_count": 42,
   "id": "26a7184a-c880-4ca6-b9a4-3259204f5677",
   "metadata": {
    "pycharm": {
     "name": "#%%\n"
    }
   },
   "outputs": [
    {
     "data": {
      "text/plain": [
       "[(24277, '24277.csv'),\n",
       " (24301, '24301.csv'),\n",
       " (24300, '24300.csv'),\n",
       " (24296, '24296.csv'),\n",
       " (24297, '24297.csv')]"
      ]
     },
     "execution_count": 42,
     "metadata": {},
     "output_type": "execute_result"
    }
   ],
   "source": [
    "if 'alonshp' in os.path.abspath('..'):\n",
    "    userid = 'alonshp'\n",
    "else:\n",
    "    userid = 'naorko'\n",
    "\n",
    "if userid == 'alonshp':\n",
    "    res_dir = os.path.abspath('../../../../../../assafzar-group/g-and-n/')\n",
    "    # res_dir = os.path.abspath('../../../../../assafzar-group/g-and-n/')\n",
    "    sys.path.append(res_dir)\n",
    "else:\n",
    "    sys.path.append(os.path.abspath('..'))\n",
    "\n",
    "if userid == 'alonshp':\n",
    "    res_pth = os.path.join(res_dir, 'tabular_models_results/30000/results/z_scores/pure')\n",
    "    plates = os.listdir(os.path.join(res_pth, 'err'))\n",
    "else:\n",
    "    res_pth = '../../../tabular_models_results/30000/results/z_scores/frac_score'\n",
    "    t = 4\n",
    "    # plates = os.listdir(os.path.join(res_pth, str(4)))\n",
    "    res_path_thresh = os.path.join(res_pth, str(t))\n",
    "    plates = os.listdir(os.path.join(res_pth, str(t)))\n",
    "\n",
    "\n",
    "debug=True\n",
    "\n",
    "if debug:\n",
    "    files = files[0:20]\n",
    "\n",
    "# plates.sort()\n",
    "# p = plates[0]\n",
    "\n",
    "# raw = False\n",
    "# cp_df = [load_pure_zscores(plate_csv, raw=raw) for _, plate_csv in files]\n",
    "# cp_df = pd.concat(cp_df)\n",
    "\n",
    "# raw = True\n",
    "# raw_pure_plates = [load_pure_zscores(plate_csv, raw=raw)for _, plate_csv in files]\n",
    "# raw_pure_plates = pd.concat(raw_pure_plates)\n",
    "\n",
    "files"
   ]
  },
  {
   "cell_type": "code",
   "execution_count": 43,
   "id": "23c464ee-584a-4979-8253-355a69cde130",
   "metadata": {
    "pycharm": {
     "name": "#%%\n"
    }
   },
   "outputs": [
    {
     "data": {
      "text/plain": [
       "((1840, 414), (1920, 414), (1840, 414))"
      ]
     },
     "execution_count": 43,
     "metadata": {},
     "output_type": "execute_result"
    }
   ],
   "source": [
    "# zscores = extract_scores_from_all(extract_score, threshold=4)\n",
    "# joined = pd.concat(zscores.values())\n",
    "# joined.shape\n",
    "\n",
    "cpd_map = pd.concat([load_pure_zscores(p_name, raw=False) for _, p_name in files])\n",
    "cpd_raw = pd.concat([load_pure_zscores(p_name, raw=True) for _, p_name in files])\n",
    "cpd_raw1to1 = pd.concat([load_pure_zscores(p_name, raw=True, inter_channel=False) for _, p_name in files])\n",
    "\n",
    "cpd_raw.drop(columns=[c for c in cpd_raw.columns if c not in cpd_map.columns], inplace=True)\n",
    "\n",
    "cpd_map.shape, cpd_raw.shape, cpd_raw1to1.shape\n"
   ]
  },
  {
   "cell_type": "code",
   "execution_count": 44,
   "id": "80b3ee33-d2c4-4c1e-bc06-4469c67adce7",
   "metadata": {
    "pycharm": {
     "name": "#%%\n"
    }
   },
   "outputs": [],
   "source": [
    "field = 'ALL_map'"
   ]
  },
  {
   "cell_type": "code",
   "execution_count": 45,
   "id": "f7b0f15b-e95c-40be-a1e9-9fc89ec15e5d",
   "metadata": {
    "pycharm": {
     "name": "#%%\n"
    }
   },
   "outputs": [],
   "source": [
    "cpd_map_trt = cpd_map.query('Metadata_ASSAY_WELL_ROLE == \"treated\"')\n",
    "cpd_raw_trt = cpd_raw.query('Metadata_ASSAY_WELL_ROLE == \"treated\"')\n",
    "cpd_raw1to1_trt = cpd_raw1to1.query('Metadata_ASSAY_WELL_ROLE == \"treated\"')\n",
    "\n",
    "cpd_map_ctl = cpd_map.query('Metadata_ASSAY_WELL_ROLE == \"mock\"')\n",
    "cpd_raw_ctl = cpd_raw.query('Metadata_ASSAY_WELL_ROLE == \"mock\"')\n",
    "cpd_raw1to1_ctl = cpd_raw1to1.query('Metadata_ASSAY_WELL_ROLE == \"mock\"')"
   ]
  },
  {
   "cell_type": "code",
   "execution_count": 47,
   "id": "b4a06a24-d491-4f70-9e79-30062304c446",
   "metadata": {
    "pycharm": {
     "name": "#%%\n"
    }
   },
   "outputs": [
    {
     "data": {
      "text/plain": [
       "Index(['BRD-K18250272-003-03-7', 'BRD-K18316707-001-01-9',\n",
       "       'BRD-A14566392-004-03-5', 'BRD-A14574269-051-01-4',\n",
       "       'BRD-A15034104-002-03-6', 'BRD-A15070535-323-02-1',\n",
       "       'BRD-A15415227-003-01-1', 'BRD-A15435692-003-01-5',\n",
       "       'BRD-A15454510-001-02-8', 'BRD-A15530910-001-01-3',\n",
       "       ...\n",
       "       'BRD-K27062708-001-04-1', 'BRD-K26979635-001-01-1',\n",
       "       'BRD-K26383086-001-02-8', 'BRD-K26954192-001-03-5',\n",
       "       'BRD-K26807903-001-02-7', 'BRD-K26739552-003-04-8',\n",
       "       'BRD-K26573499-300-01-3', 'BRD-K26548821-001-01-8',\n",
       "       'BRD-K26521938-001-04-9', 'BRD-K26429091-051-01-9'],\n",
       "      dtype='object', length=639)"
      ]
     },
     "execution_count": 47,
     "metadata": {},
     "output_type": "execute_result"
    }
   ],
   "source": [
    "# find cells with replicates\n",
    "\n",
    "# compounds_cnt = cpd_map_trt.query(f'{field} >= 0').index.get_level_values(1).value_counts()\n",
    "compounds_cnt = cpd_map_trt.index.get_level_values(2).value_counts()\n",
    "dup_compounds = (compounds_cnt[compounds_cnt > 1]).index\n",
    "replicates = cpd_map_trt[cpd_map_trt.index.isin(dup_compounds, 2)]\n",
    "cpds = replicates.index.get_level_values(2).unique()\n",
    "# dup_compounds\n",
    "dup_compounds"
   ]
  },
  {
   "cell_type": "code",
   "execution_count": 49,
   "id": "5ce4ddd5-1976-466a-a4e8-235ad89997c5",
   "metadata": {},
   "outputs": [],
   "source": [
    "def get_median_score(cpds_list, df):\n",
    "    \"\"\"\n",
    "    This function calculates the median score for each compound based on its replicates\n",
    "    \"\"\"\n",
    "    \n",
    "    cpds_median_score = {}\n",
    "    for cpd in cpds_list:\n",
    "        cpd_replicates = df[df.index.isin([cpd], 2)].copy()\n",
    "        cor_mat = cpd_replicates.astype('float64').T.corr(method = 'pearson').values\n",
    "        if len(cor_mat) == 1:\n",
    "            median_val = 1\n",
    "        else:\n",
    "            median_val = np.median(cor_mat[np.triu_indices(len(cor_mat), k = 1)])\n",
    "            \n",
    "        cpds_median_score[cpd] = median_val\n",
    "        \n",
    "    return cpds_median_score"
   ]
  },
  {
   "cell_type": "code",
   "execution_count": 50,
   "id": "c032fd5d-8f28-40dd-93c6-dfbe4a11bfeb",
   "metadata": {
    "pycharm": {
     "name": "#%%\n"
    },
    "tags": []
   },
   "outputs": [],
   "source": [
    "cpds_med_score = {}\n",
    "# for method in ['map', 'raw']:\n",
    "for method in ['map']:\n",
    "    # cur = replicates.filter(regex=f'_{method}$')\n",
    "    cpds_med_score[method] = get_median_score(cpds, replicates)"
   ]
  },
  {
   "cell_type": "code",
   "execution_count": 53,
   "id": "7a6843ef-b2d4-4489-ba73-1016b0c366b2",
   "metadata": {
    "pycharm": {
     "name": "#%%\n"
    }
   },
   "outputs": [
    {
     "data": {
      "text/plain": [
       "(639, 1)"
      ]
     },
     "execution_count": 53,
     "metadata": {},
     "output_type": "execute_result"
    }
   ],
   "source": [
    "cpds_score_df = pd.DataFrame(cpds_med_score)\n",
    "cpds_score_df.shape\n"
   ]
  },
  {
   "cell_type": "code",
   "execution_count": 52,
   "id": "ea0963f9-c9df-448f-879f-44df21ce1c0b",
   "metadata": {
    "pycharm": {
     "name": "#%%\n"
    }
   },
   "outputs": [],
   "source": [
    "def drop_cpds_with_null(df):\n",
    "    \"\"\"\n",
    "    This function drop compounds with median scores of 1 \n",
    "    or null values in any of the dose points (1-6)\n",
    "    \"\"\"\n",
    "    cpds_with_null = []\n",
    "    for cpd in df.index:\n",
    "        if any(df.loc[cpd] == 1) | any(df.loc[cpd].isnull()):\n",
    "            cpds_with_null.append(cpd)\n",
    "    df.drop(cpds_with_null, axis = 0, inplace = True)\n",
    "    \n",
    "    return df"
   ]
  },
  {
   "cell_type": "code",
   "execution_count": 54,
   "id": "e2419bf3-575a-4429-b4ce-76aa7416c71c",
   "metadata": {
    "pycharm": {
     "name": "#%%\n"
    }
   },
   "outputs": [
    {
     "data": {
      "text/plain": [
       "(639, 1)"
      ]
     },
     "execution_count": 54,
     "metadata": {},
     "output_type": "execute_result"
    }
   ],
   "source": [
    "drop_cpds_with_null(cpds_score_df)\n",
    "cpds_score_df.shape"
   ]
  },
  {
   "cell_type": "code",
   "execution_count": 56,
   "id": "ffcc8148-448d-4dd5-886e-d90bafb2f537",
   "metadata": {},
   "outputs": [
    {
     "data": {
      "text/html": [
       "<div>\n",
       "<style scoped>\n",
       "    .dataframe tbody tr th:only-of-type {\n",
       "        vertical-align: middle;\n",
       "    }\n",
       "\n",
       "    .dataframe tbody tr th {\n",
       "        vertical-align: top;\n",
       "    }\n",
       "\n",
       "    .dataframe thead th {\n",
       "        text-align: right;\n",
       "    }\n",
       "</style>\n",
       "<table border=\"1\" class=\"dataframe\">\n",
       "  <thead>\n",
       "    <tr style=\"text-align: right;\">\n",
       "      <th></th>\n",
       "      <th></th>\n",
       "      <th></th>\n",
       "      <th>Cells_Granularity_10_AGP</th>\n",
       "      <th>Cells_Granularity_11_AGP</th>\n",
       "      <th>Cells_Granularity_12_AGP</th>\n",
       "      <th>Cells_Granularity_13_AGP</th>\n",
       "      <th>Cells_Granularity_14_AGP</th>\n",
       "      <th>Cells_Granularity_15_AGP</th>\n",
       "      <th>Cells_Granularity_16_AGP</th>\n",
       "      <th>Cells_Granularity_1_AGP</th>\n",
       "      <th>Cells_Granularity_2_AGP</th>\n",
       "      <th>Cells_Granularity_3_AGP</th>\n",
       "      <th>...</th>\n",
       "      <th>Cells_Texture_SumAverage_RNA_5_0</th>\n",
       "      <th>Cells_Texture_SumEntropy_RNA_10_0</th>\n",
       "      <th>Cells_Texture_SumEntropy_RNA_3_0</th>\n",
       "      <th>Cells_Texture_SumEntropy_RNA_5_0</th>\n",
       "      <th>Cells_Texture_SumVariance_RNA_10_0</th>\n",
       "      <th>Cells_Texture_SumVariance_RNA_3_0</th>\n",
       "      <th>Cells_Texture_SumVariance_RNA_5_0</th>\n",
       "      <th>Cells_Texture_Variance_RNA_10_0</th>\n",
       "      <th>Cells_Texture_Variance_RNA_3_0</th>\n",
       "      <th>Cells_Texture_Variance_RNA_5_0</th>\n",
       "    </tr>\n",
       "    <tr>\n",
       "      <th>Plate</th>\n",
       "      <th>Metadata_ASSAY_WELL_ROLE</th>\n",
       "      <th>Image_Metadata_Well</th>\n",
       "      <th></th>\n",
       "      <th></th>\n",
       "      <th></th>\n",
       "      <th></th>\n",
       "      <th></th>\n",
       "      <th></th>\n",
       "      <th></th>\n",
       "      <th></th>\n",
       "      <th></th>\n",
       "      <th></th>\n",
       "      <th></th>\n",
       "      <th></th>\n",
       "      <th></th>\n",
       "      <th></th>\n",
       "      <th></th>\n",
       "      <th></th>\n",
       "      <th></th>\n",
       "      <th></th>\n",
       "      <th></th>\n",
       "      <th></th>\n",
       "      <th></th>\n",
       "    </tr>\n",
       "  </thead>\n",
       "  <tbody>\n",
       "    <tr>\n",
       "      <th>24277</th>\n",
       "      <th>treated</th>\n",
       "      <th>a01</th>\n",
       "      <td>-0.799813</td>\n",
       "      <td>0.389818</td>\n",
       "      <td>2.329626</td>\n",
       "      <td>-1.068969</td>\n",
       "      <td>-0.842933</td>\n",
       "      <td>-0.260704</td>\n",
       "      <td>-0.152070</td>\n",
       "      <td>0.493787</td>\n",
       "      <td>0.444343</td>\n",
       "      <td>0.312052</td>\n",
       "      <td>...</td>\n",
       "      <td>-0.267341</td>\n",
       "      <td>0.179075</td>\n",
       "      <td>-0.022004</td>\n",
       "      <td>0.163952</td>\n",
       "      <td>0.729163</td>\n",
       "      <td>0.949218</td>\n",
       "      <td>0.873810</td>\n",
       "      <td>0.773451</td>\n",
       "      <td>1.353148</td>\n",
       "      <td>1.265752</td>\n",
       "    </tr>\n",
       "    <tr>\n",
       "      <th>24296</th>\n",
       "      <th>treated</th>\n",
       "      <th>a01</th>\n",
       "      <td>2.783732</td>\n",
       "      <td>-0.348363</td>\n",
       "      <td>0.352360</td>\n",
       "      <td>-0.710988</td>\n",
       "      <td>-0.046886</td>\n",
       "      <td>0.272468</td>\n",
       "      <td>-0.567135</td>\n",
       "      <td>4.100033</td>\n",
       "      <td>4.454704</td>\n",
       "      <td>1.882017</td>\n",
       "      <td>...</td>\n",
       "      <td>0.552101</td>\n",
       "      <td>4.009186</td>\n",
       "      <td>4.386040</td>\n",
       "      <td>4.002060</td>\n",
       "      <td>0.646692</td>\n",
       "      <td>0.755773</td>\n",
       "      <td>0.676818</td>\n",
       "      <td>0.436484</td>\n",
       "      <td>1.390249</td>\n",
       "      <td>1.220419</td>\n",
       "    </tr>\n",
       "  </tbody>\n",
       "</table>\n",
       "<p>2 rows × 414 columns</p>\n",
       "</div>"
      ],
      "text/plain": [
       "                                                    Cells_Granularity_10_AGP  \\\n",
       "Plate Metadata_ASSAY_WELL_ROLE Image_Metadata_Well                             \n",
       "24277 treated                  a01                                 -0.799813   \n",
       "24296 treated                  a01                                  2.783732   \n",
       "\n",
       "                                                    Cells_Granularity_11_AGP  \\\n",
       "Plate Metadata_ASSAY_WELL_ROLE Image_Metadata_Well                             \n",
       "24277 treated                  a01                                  0.389818   \n",
       "24296 treated                  a01                                 -0.348363   \n",
       "\n",
       "                                                    Cells_Granularity_12_AGP  \\\n",
       "Plate Metadata_ASSAY_WELL_ROLE Image_Metadata_Well                             \n",
       "24277 treated                  a01                                  2.329626   \n",
       "24296 treated                  a01                                  0.352360   \n",
       "\n",
       "                                                    Cells_Granularity_13_AGP  \\\n",
       "Plate Metadata_ASSAY_WELL_ROLE Image_Metadata_Well                             \n",
       "24277 treated                  a01                                 -1.068969   \n",
       "24296 treated                  a01                                 -0.710988   \n",
       "\n",
       "                                                    Cells_Granularity_14_AGP  \\\n",
       "Plate Metadata_ASSAY_WELL_ROLE Image_Metadata_Well                             \n",
       "24277 treated                  a01                                 -0.842933   \n",
       "24296 treated                  a01                                 -0.046886   \n",
       "\n",
       "                                                    Cells_Granularity_15_AGP  \\\n",
       "Plate Metadata_ASSAY_WELL_ROLE Image_Metadata_Well                             \n",
       "24277 treated                  a01                                 -0.260704   \n",
       "24296 treated                  a01                                  0.272468   \n",
       "\n",
       "                                                    Cells_Granularity_16_AGP  \\\n",
       "Plate Metadata_ASSAY_WELL_ROLE Image_Metadata_Well                             \n",
       "24277 treated                  a01                                 -0.152070   \n",
       "24296 treated                  a01                                 -0.567135   \n",
       "\n",
       "                                                    Cells_Granularity_1_AGP  \\\n",
       "Plate Metadata_ASSAY_WELL_ROLE Image_Metadata_Well                            \n",
       "24277 treated                  a01                                 0.493787   \n",
       "24296 treated                  a01                                 4.100033   \n",
       "\n",
       "                                                    Cells_Granularity_2_AGP  \\\n",
       "Plate Metadata_ASSAY_WELL_ROLE Image_Metadata_Well                            \n",
       "24277 treated                  a01                                 0.444343   \n",
       "24296 treated                  a01                                 4.454704   \n",
       "\n",
       "                                                    Cells_Granularity_3_AGP  \\\n",
       "Plate Metadata_ASSAY_WELL_ROLE Image_Metadata_Well                            \n",
       "24277 treated                  a01                                 0.312052   \n",
       "24296 treated                  a01                                 1.882017   \n",
       "\n",
       "                                                    ...  \\\n",
       "Plate Metadata_ASSAY_WELL_ROLE Image_Metadata_Well  ...   \n",
       "24277 treated                  a01                  ...   \n",
       "24296 treated                  a01                  ...   \n",
       "\n",
       "                                                    Cells_Texture_SumAverage_RNA_5_0  \\\n",
       "Plate Metadata_ASSAY_WELL_ROLE Image_Metadata_Well                                     \n",
       "24277 treated                  a01                                         -0.267341   \n",
       "24296 treated                  a01                                          0.552101   \n",
       "\n",
       "                                                    Cells_Texture_SumEntropy_RNA_10_0  \\\n",
       "Plate Metadata_ASSAY_WELL_ROLE Image_Metadata_Well                                      \n",
       "24277 treated                  a01                                           0.179075   \n",
       "24296 treated                  a01                                           4.009186   \n",
       "\n",
       "                                                    Cells_Texture_SumEntropy_RNA_3_0  \\\n",
       "Plate Metadata_ASSAY_WELL_ROLE Image_Metadata_Well                                     \n",
       "24277 treated                  a01                                         -0.022004   \n",
       "24296 treated                  a01                                          4.386040   \n",
       "\n",
       "                                                    Cells_Texture_SumEntropy_RNA_5_0  \\\n",
       "Plate Metadata_ASSAY_WELL_ROLE Image_Metadata_Well                                     \n",
       "24277 treated                  a01                                          0.163952   \n",
       "24296 treated                  a01                                          4.002060   \n",
       "\n",
       "                                                    Cells_Texture_SumVariance_RNA_10_0  \\\n",
       "Plate Metadata_ASSAY_WELL_ROLE Image_Metadata_Well                                       \n",
       "24277 treated                  a01                                            0.729163   \n",
       "24296 treated                  a01                                            0.646692   \n",
       "\n",
       "                                                    Cells_Texture_SumVariance_RNA_3_0  \\\n",
       "Plate Metadata_ASSAY_WELL_ROLE Image_Metadata_Well                                      \n",
       "24277 treated                  a01                                           0.949218   \n",
       "24296 treated                  a01                                           0.755773   \n",
       "\n",
       "                                                    Cells_Texture_SumVariance_RNA_5_0  \\\n",
       "Plate Metadata_ASSAY_WELL_ROLE Image_Metadata_Well                                      \n",
       "24277 treated                  a01                                           0.873810   \n",
       "24296 treated                  a01                                           0.676818   \n",
       "\n",
       "                                                    Cells_Texture_Variance_RNA_10_0  \\\n",
       "Plate Metadata_ASSAY_WELL_ROLE Image_Metadata_Well                                    \n",
       "24277 treated                  a01                                         0.773451   \n",
       "24296 treated                  a01                                         0.436484   \n",
       "\n",
       "                                                    Cells_Texture_Variance_RNA_3_0  \\\n",
       "Plate Metadata_ASSAY_WELL_ROLE Image_Metadata_Well                                   \n",
       "24277 treated                  a01                                        1.353148   \n",
       "24296 treated                  a01                                        1.390249   \n",
       "\n",
       "                                                    Cells_Texture_Variance_RNA_5_0  \n",
       "Plate Metadata_ASSAY_WELL_ROLE Image_Metadata_Well                                  \n",
       "24277 treated                  a01                                        1.265752  \n",
       "24296 treated                  a01                                        1.220419  \n",
       "\n",
       "[2 rows x 414 columns]"
      ]
     },
     "execution_count": 56,
     "metadata": {},
     "output_type": "execute_result"
    }
   ],
   "source": [
    "replicates.xs(cpds[0], level=('Metadata_broad_sample'))"
   ]
  },
  {
   "cell_type": "code",
   "execution_count": null,
   "id": "f762e2b1-17fa-4d0c-a150-b8e7c6af11c5",
   "metadata": {},
   "outputs": [],
   "source": [
    "def save_to_csv(df, path, file_name, compress=None):\n",
    "    \"\"\"saves dataframes to csv\"\"\"\n",
    "    \n",
    "    if not os.path.exists(path):\n",
    "        os.mkdir(path)\n",
    "    \n",
    "    df.to_csv(os.path.join(path, file_name), index=False, compression=compress)"
   ]
  },
  {
   "cell_type": "code",
   "execution_count": null,
   "id": "f53fa6fa-e506-4451-a7ca-0ce67041d390",
   "metadata": {},
   "outputs": [],
   "source": [
    "save_to_csv(df_cpd_med_score.reset_index().rename({'index':'cpd'}, axis = 1), \n",
    "            'cellpainting_lvl4_cpd_replicate_datasets', 'cpd_replicate_median_scores.csv')"
   ]
  },
  {
   "cell_type": "code",
   "execution_count": 55,
   "id": "47bab88a-7692-48cc-ada0-9426acd41bb3",
   "metadata": {
    "pycharm": {
     "name": "#%%\n"
    }
   },
   "outputs": [
    {
     "data": {
      "text/html": [
       "<div>\n",
       "<style scoped>\n",
       "    .dataframe tbody tr th:only-of-type {\n",
       "        vertical-align: middle;\n",
       "    }\n",
       "\n",
       "    .dataframe tbody tr th {\n",
       "        vertical-align: top;\n",
       "    }\n",
       "\n",
       "    .dataframe thead th {\n",
       "        text-align: right;\n",
       "    }\n",
       "</style>\n",
       "<table border=\"1\" class=\"dataframe\">\n",
       "  <thead>\n",
       "    <tr style=\"text-align: right;\">\n",
       "      <th></th>\n",
       "      <th>map</th>\n",
       "    </tr>\n",
       "  </thead>\n",
       "  <tbody>\n",
       "    <tr>\n",
       "      <th>BRD-A00100033-001-04-8</th>\n",
       "      <td>0.457502</td>\n",
       "    </tr>\n",
       "    <tr>\n",
       "      <th>BRD-A00267231-001-01-1</th>\n",
       "      <td>0.548110</td>\n",
       "    </tr>\n",
       "    <tr>\n",
       "      <th>BRD-A00327403-103-01-9</th>\n",
       "      <td>0.152875</td>\n",
       "    </tr>\n",
       "    <tr>\n",
       "      <th>BRD-A00520476-001-03-3</th>\n",
       "      <td>0.116760</td>\n",
       "    </tr>\n",
       "    <tr>\n",
       "      <th>BRD-A00827783-001-04-8</th>\n",
       "      <td>0.056185</td>\n",
       "    </tr>\n",
       "    <tr>\n",
       "      <th>...</th>\n",
       "      <td>...</td>\n",
       "    </tr>\n",
       "    <tr>\n",
       "      <th>BRD-K40255344-001-05-1</th>\n",
       "      <td>0.510271</td>\n",
       "    </tr>\n",
       "    <tr>\n",
       "      <th>BRD-K40530731-001-02-5</th>\n",
       "      <td>0.275320</td>\n",
       "    </tr>\n",
       "    <tr>\n",
       "      <th>BRD-K40578143-001-01-8</th>\n",
       "      <td>0.305130</td>\n",
       "    </tr>\n",
       "    <tr>\n",
       "      <th>BRD-K40656405-001-01-5</th>\n",
       "      <td>0.350919</td>\n",
       "    </tr>\n",
       "    <tr>\n",
       "      <th>BRD-K40742111-001-02-6</th>\n",
       "      <td>-0.059407</td>\n",
       "    </tr>\n",
       "  </tbody>\n",
       "</table>\n",
       "<p>639 rows × 1 columns</p>\n",
       "</div>"
      ],
      "text/plain": [
       "                             map\n",
       "BRD-A00100033-001-04-8  0.457502\n",
       "BRD-A00267231-001-01-1  0.548110\n",
       "BRD-A00327403-103-01-9  0.152875\n",
       "BRD-A00520476-001-03-3  0.116760\n",
       "BRD-A00827783-001-04-8  0.056185\n",
       "...                          ...\n",
       "BRD-K40255344-001-05-1  0.510271\n",
       "BRD-K40530731-001-02-5  0.275320\n",
       "BRD-K40578143-001-01-8  0.305130\n",
       "BRD-K40656405-001-01-5  0.350919\n",
       "BRD-K40742111-001-02-6 -0.059407\n",
       "\n",
       "[639 rows x 1 columns]"
      ]
     },
     "execution_count": 55,
     "metadata": {},
     "output_type": "execute_result"
    }
   ],
   "source": [
    "def no_of_replicates_per_cpd(df, df_lvl4):\n",
    "    \"\"\"This function computes the numbers of replicates for each compound\"\"\"\n",
    "    \n",
    "    dose_list = list(set(df_lvl4['Metadata_dose_recode'].unique().tolist()))[1:7]\n",
    "    cpds_no_of_reps = {}\n",
    "    for cpd in df.index:\n",
    "        num_of_reps = 0\n",
    "        df_cpd = df_lvl4[df_lvl4['pert_iname'] == cpd].copy()\n",
    "        for dose in dose_list:\n",
    "            df_dose = df_cpd[df_cpd['Metadata_dose_recode'] == dose].copy()\n",
    "            num_of_reps += df_dose.shape[0]\n",
    "        cpds_no_of_reps[cpd] = num_of_reps // len(dose_list)\n",
    "    df['no_of_replicates'] = cpds_no_of_reps.values()\n",
    "    return df"
   ]
  },
  {
   "cell_type": "code",
   "execution_count": null,
   "id": "801b3a75-72fa-4232-b861-c93ee52e018c",
   "metadata": {},
   "outputs": [],
   "source": [
    "df_cpd_med_score = no_of_replicates_per_cpd(cpds_score_df, df_level4_new)"
   ]
  },
  {
   "cell_type": "code",
   "execution_count": 115,
   "id": "256e070a-effa-45a3-82a9-a98e61f27468",
   "metadata": {
    "pycharm": {
     "name": "#%%\n"
    },
    "tags": []
   },
   "outputs": [
    {
     "name": "stdout",
     "output_type": "stream",
     "text": [
      "Number of unique targets: 10\n"
     ]
    },
    {
     "data": {
      "text/plain": [
       "defaultdict(list,\n",
       "            {'BRD-K18250272-003-03-7': ['BRD-K18316707-001-01-9',\n",
       "              'BRD-K18438502-001-02-6',\n",
       "              'BRD-K18550767-001-02-8',\n",
       "              'BRD-K18574842-323-03-3'],\n",
       "             'BRD-K18316707-001-01-9': ['BRD-K18250272-003-03-7',\n",
       "              'BRD-K18438502-001-02-6',\n",
       "              'BRD-K18550767-001-02-8',\n",
       "              'BRD-K18574842-323-03-3'],\n",
       "             'BRD-K18438502-001-02-6': ['BRD-K18250272-003-03-7',\n",
       "              'BRD-K18316707-001-01-9',\n",
       "              'BRD-K18550767-001-02-8',\n",
       "              'BRD-K18574842-323-03-3'],\n",
       "             'BRD-K18550767-001-02-8': ['BRD-K18250272-003-03-7',\n",
       "              'BRD-K18316707-001-01-9',\n",
       "              'BRD-K18438502-001-02-6',\n",
       "              'BRD-K18574842-323-03-3'],\n",
       "             'BRD-K18574842-323-03-3': ['BRD-K18250272-003-03-7',\n",
       "              'BRD-K18316707-001-01-9',\n",
       "              'BRD-K18438502-001-02-6',\n",
       "              'BRD-K18550767-001-02-8']})"
      ]
     },
     "execution_count": 115,
     "metadata": {},
     "output_type": "execute_result"
    }
   ],
   "source": [
    "from collections import defaultdict\n",
    "\n",
    "all_unique_targets = pd.DataFrame()\n",
    "cp_target_comparisons = defaultdict(list)\n",
    "for target in cpds[0:5]:\n",
    "    # target_set = set(replicates.xs(target, level=('Metadata_broad_sample')))\n",
    "\n",
    "    target_set = replicates.xs(target, level=('Metadata_broad_sample'))\n",
    "    \n",
    "    for compare_target in cpds[0:5]:\n",
    "        if not target == compare_target:\n",
    "            \n",
    "            compare_target_set = replicates.xs(compare_target, level=('Metadata_broad_sample'))\n",
    "\n",
    "            # if len(target_set.intersection(compare_target_set)) > 0:\n",
    "            # if target in cp_target_comparisons:\n",
    "\n",
    "            cp_target_comparisons[target].append(compare_target)\n",
    "            # else:\n",
    "                # cp_target_comparisons[target] = [compare_target]\n",
    "\n",
    "    all_unique_targets = pd.concat([all_unique_targets, target_set])\n",
    "\n",
    "# all_unique_targets_set = set(all_unique_targets)\n",
    "print(f\"Number of unique targets: {len(all_unique_targets)}\")\n",
    "cp_target_comparisons"
   ]
  },
  {
   "cell_type": "code",
   "execution_count": 111,
   "id": "642ebc7e-5a32-452d-84b0-5be9f1742d3b",
   "metadata": {
    "tags": []
   },
   "outputs": [
    {
     "ename": "NameError",
     "evalue": "name 'pri' is not defined",
     "output_type": "error",
     "traceback": [
      "\u001b[0;31m---------------------------------------------------------------------------\u001b[0m",
      "\u001b[0;31mNameError\u001b[0m                                 Traceback (most recent call last)",
      "Input \u001b[0;32mIn [111]\u001b[0m, in \u001b[0;36m<cell line: 3>\u001b[0;34m()\u001b[0m\n\u001b[1;32m      1\u001b[0m cp_target_comparisons[\u001b[38;5;124m'\u001b[39m\u001b[38;5;124mBRD-K18250272-003-03-7\u001b[39m\u001b[38;5;124m'\u001b[39m]\n\u001b[1;32m      2\u001b[0m \u001b[38;5;28mtuple\u001b[39m(cpds[\u001b[38;5;241m0\u001b[39m:\u001b[38;5;241m2\u001b[39m])\n\u001b[0;32m----> 3\u001b[0m \u001b[43mpri\u001b[49m\n",
      "\u001b[0;31mNameError\u001b[0m: name 'pri' is not defined"
     ]
    }
   ],
   "source": [
    "cp_target_comparisons['BRD-K18250272-003-03-7']\n",
    "tuple(cpds[0:2])\n",
    "pri"
   ]
  },
  {
   "cell_type": "code",
   "execution_count": 131,
   "id": "ddafffe3-a9f3-4638-a71e-375f45e0fbe7",
   "metadata": {},
   "outputs": [
    {
     "data": {
      "text/plain": [
       "0.2941495004124298"
      ]
     },
     "execution_count": 131,
     "metadata": {},
     "output_type": "execute_result"
    }
   ],
   "source": [
    "replicates.loc[(slice(None), slice(None), cp_target_comparisons['BRD-K18250272-003-03-7']), :].reset_index(level=2, drop=True)\n",
    "cp_subset_df = (\n",
    "    replicates\n",
    "        # .xs(cp_subset, level=('Metadata_broad_sample'))\n",
    "        .loc[(slice(None), slice(None), cp_target_comparisons['BRD-K18250272-003-03-7']), :]\n",
    "        .reset_index(drop=True)\n",
    "        # .loc[:, cp_features]\n",
    "        # .loc[:,:]\n",
    "        .transpose()\n",
    "        .astype(float)\n",
    "        .corr(method=\"spearman\")\n",
    ")\n",
    "# replicates.loc[(slice(None), slice(None), 'BRD-K18250272-003-03-7'), :].reset_index(level=2, drop=True)\n",
    "# cp_target_comparisons[2]\n",
    "cp_subset_df\n",
    "\n",
    "target_median_score = (\n",
    "    cp_subset_df\n",
    "        .melt(value_name=\"pairwise_cor\", ignore_index=False)\n",
    "        .dropna()\n",
    "        .pairwise_cor\n",
    "        .median()\n",
    ")\n",
    "\n",
    "target_median_score"
   ]
  },
  {
   "cell_type": "code",
   "execution_count": null,
   "id": "aa2e0bd7-90b4-466f-993f-95ddb889cf5c",
   "metadata": {
    "pycharm": {
     "name": "#%%\n"
    },
    "tags": []
   },
   "outputs": [
    {
     "name": "stderr",
     "output_type": "stream",
     "text": [
      "/tmp/ipykernel_135481/3782632522.py:8: FutureWarning: Passing lists as key for xs is deprecated and will be removed in a future version. Pass key as a tuple instead.\n",
      "  replicates\n"
     ]
    },
    {
     "ename": "KeyError",
     "evalue": "('BRD-K18316707-001-01-9', 'BRD-K18438502-001-02-6', 'BRD-K18550767-001-02-8', 'BRD-K18574842-323-03-3')",
     "output_type": "error",
     "traceback": [
      "\u001b[0;31m---------------------------------------------------------------------------\u001b[0m",
      "\u001b[0;31mKeyError\u001b[0m                                  Traceback (most recent call last)",
      "File \u001b[0;32m~/.conda/envs/tf-env/lib/python3.8/site-packages/pandas/core/indexes/base.py:3621\u001b[0m, in \u001b[0;36mIndex.get_loc\u001b[0;34m(self, key, method, tolerance)\u001b[0m\n\u001b[1;32m   3620\u001b[0m \u001b[38;5;28;01mtry\u001b[39;00m:\n\u001b[0;32m-> 3621\u001b[0m     \u001b[38;5;28;01mreturn\u001b[39;00m \u001b[38;5;28;43mself\u001b[39;49m\u001b[38;5;241;43m.\u001b[39;49m\u001b[43m_engine\u001b[49m\u001b[38;5;241;43m.\u001b[39;49m\u001b[43mget_loc\u001b[49m\u001b[43m(\u001b[49m\u001b[43mcasted_key\u001b[49m\u001b[43m)\u001b[49m\n\u001b[1;32m   3622\u001b[0m \u001b[38;5;28;01mexcept\u001b[39;00m \u001b[38;5;167;01mKeyError\u001b[39;00m \u001b[38;5;28;01mas\u001b[39;00m err:\n",
      "File \u001b[0;32m~/.conda/envs/tf-env/lib/python3.8/site-packages/pandas/_libs/index.pyx:136\u001b[0m, in \u001b[0;36mpandas._libs.index.IndexEngine.get_loc\u001b[0;34m()\u001b[0m\n",
      "File \u001b[0;32m~/.conda/envs/tf-env/lib/python3.8/site-packages/pandas/_libs/index.pyx:163\u001b[0m, in \u001b[0;36mpandas._libs.index.IndexEngine.get_loc\u001b[0;34m()\u001b[0m\n",
      "File \u001b[0;32mpandas/_libs/hashtable_class_helper.pxi:5198\u001b[0m, in \u001b[0;36mpandas._libs.hashtable.PyObjectHashTable.get_item\u001b[0;34m()\u001b[0m\n",
      "File \u001b[0;32mpandas/_libs/hashtable_class_helper.pxi:5206\u001b[0m, in \u001b[0;36mpandas._libs.hashtable.PyObjectHashTable.get_item\u001b[0;34m()\u001b[0m\n",
      "\u001b[0;31mKeyError\u001b[0m: ('BRD-K18316707-001-01-9', 'BRD-K18438502-001-02-6', 'BRD-K18550767-001-02-8', 'BRD-K18574842-323-03-3')",
      "\nThe above exception was the direct cause of the following exception:\n",
      "\u001b[0;31mKeyError\u001b[0m                                  Traceback (most recent call last)",
      "Input \u001b[0;32mIn [103]\u001b[0m, in \u001b[0;36m<cell line: 4>\u001b[0;34m()\u001b[0m\n\u001b[1;32m      4\u001b[0m \u001b[38;5;28;01mfor\u001b[39;00m target \u001b[38;5;129;01min\u001b[39;00m cp_target_comparisons:\n\u001b[1;32m      5\u001b[0m     cp_subset \u001b[38;5;241m=\u001b[39m cp_target_comparisons[target]\n\u001b[1;32m      7\u001b[0m     cp_subset_df \u001b[38;5;241m=\u001b[39m (\n\u001b[0;32m----> 8\u001b[0m         \u001b[43mreplicates\u001b[49m\n\u001b[1;32m      9\u001b[0m \u001b[43m            \u001b[49m\u001b[38;5;241;43m.\u001b[39;49m\u001b[43mxs\u001b[49m\u001b[43m(\u001b[49m\u001b[43mcp_subset\u001b[49m\u001b[43m,\u001b[49m\u001b[43m \u001b[49m\u001b[43mlevel\u001b[49m\u001b[38;5;241;43m=\u001b[39;49m\u001b[43m(\u001b[49m\u001b[38;5;124;43m'\u001b[39;49m\u001b[38;5;124;43mMetadata_broad_sample\u001b[39;49m\u001b[38;5;124;43m'\u001b[39;49m\u001b[43m)\u001b[49m\u001b[43m)\u001b[49m\n\u001b[1;32m     10\u001b[0m             \u001b[38;5;241m.\u001b[39mreset_index(drop\u001b[38;5;241m=\u001b[39m\u001b[38;5;28;01mTrue\u001b[39;00m)\n\u001b[1;32m     11\u001b[0m             \u001b[38;5;66;03m# .loc[:, cp_features]\u001b[39;00m\n\u001b[1;32m     12\u001b[0m             \u001b[38;5;241m.\u001b[39mloc[:,:]\n\u001b[1;32m     13\u001b[0m             \u001b[38;5;241m.\u001b[39mtranspose()\n\u001b[1;32m     14\u001b[0m             \u001b[38;5;241m.\u001b[39mastype(\u001b[38;5;28mfloat\u001b[39m)\n\u001b[1;32m     15\u001b[0m             \u001b[38;5;241m.\u001b[39mcorr(method\u001b[38;5;241m=\u001b[39m\u001b[38;5;124m\"\u001b[39m\u001b[38;5;124mspearman\u001b[39m\u001b[38;5;124m\"\u001b[39m)\n\u001b[1;32m     16\u001b[0m     )\n\u001b[1;32m     18\u001b[0m     np\u001b[38;5;241m.\u001b[39mfill_diagonal(cp_subset_df\u001b[38;5;241m.\u001b[39mvalues, np\u001b[38;5;241m.\u001b[39mnan)\n\u001b[1;32m     20\u001b[0m     n_compounds \u001b[38;5;241m=\u001b[39m cp_subset_df\u001b[38;5;241m.\u001b[39mshape[\u001b[38;5;241m0\u001b[39m]\n",
      "File \u001b[0;32m~/.conda/envs/tf-env/lib/python3.8/site-packages/pandas/core/generic.py:3836\u001b[0m, in \u001b[0;36mNDFrame.xs\u001b[0;34m(self, key, axis, level, drop_level)\u001b[0m\n\u001b[1;32m   3834\u001b[0m \u001b[38;5;28;01mif\u001b[39;00m \u001b[38;5;129;01mnot\u001b[39;00m \u001b[38;5;28misinstance\u001b[39m(labels, MultiIndex):\n\u001b[1;32m   3835\u001b[0m     \u001b[38;5;28;01mraise\u001b[39;00m \u001b[38;5;167;01mTypeError\u001b[39;00m(\u001b[38;5;124m\"\u001b[39m\u001b[38;5;124mIndex must be a MultiIndex\u001b[39m\u001b[38;5;124m\"\u001b[39m)\n\u001b[0;32m-> 3836\u001b[0m loc, new_ax \u001b[38;5;241m=\u001b[39m \u001b[43mlabels\u001b[49m\u001b[38;5;241;43m.\u001b[39;49m\u001b[43mget_loc_level\u001b[49m\u001b[43m(\u001b[49m\u001b[43mkey\u001b[49m\u001b[43m,\u001b[49m\u001b[43m \u001b[49m\u001b[43mlevel\u001b[49m\u001b[38;5;241;43m=\u001b[39;49m\u001b[43mlevel\u001b[49m\u001b[43m,\u001b[49m\u001b[43m \u001b[49m\u001b[43mdrop_level\u001b[49m\u001b[38;5;241;43m=\u001b[39;49m\u001b[43mdrop_level\u001b[49m\u001b[43m)\u001b[49m\n\u001b[1;32m   3838\u001b[0m \u001b[38;5;66;03m# create the tuple of the indexer\u001b[39;00m\n\u001b[1;32m   3839\u001b[0m _indexer \u001b[38;5;241m=\u001b[39m [\u001b[38;5;28mslice\u001b[39m(\u001b[38;5;28;01mNone\u001b[39;00m)] \u001b[38;5;241m*\u001b[39m \u001b[38;5;28mself\u001b[39m\u001b[38;5;241m.\u001b[39mndim\n",
      "File \u001b[0;32m~/.conda/envs/tf-env/lib/python3.8/site-packages/pandas/core/indexes/multi.py:2972\u001b[0m, in \u001b[0;36mMultiIndex.get_loc_level\u001b[0;34m(self, key, level, drop_level)\u001b[0m\n\u001b[1;32m   2969\u001b[0m \u001b[38;5;28;01melse\u001b[39;00m:\n\u001b[1;32m   2970\u001b[0m     level \u001b[38;5;241m=\u001b[39m [\u001b[38;5;28mself\u001b[39m\u001b[38;5;241m.\u001b[39m_get_level_number(lev) \u001b[38;5;28;01mfor\u001b[39;00m lev \u001b[38;5;129;01min\u001b[39;00m level]\n\u001b[0;32m-> 2972\u001b[0m loc, mi \u001b[38;5;241m=\u001b[39m \u001b[38;5;28;43mself\u001b[39;49m\u001b[38;5;241;43m.\u001b[39;49m\u001b[43m_get_loc_level\u001b[49m\u001b[43m(\u001b[49m\u001b[43mkey\u001b[49m\u001b[43m,\u001b[49m\u001b[43m \u001b[49m\u001b[43mlevel\u001b[49m\u001b[38;5;241;43m=\u001b[39;49m\u001b[43mlevel\u001b[49m\u001b[43m)\u001b[49m\n\u001b[1;32m   2973\u001b[0m \u001b[38;5;28;01mif\u001b[39;00m \u001b[38;5;129;01mnot\u001b[39;00m drop_level:\n\u001b[1;32m   2974\u001b[0m     \u001b[38;5;28;01mif\u001b[39;00m lib\u001b[38;5;241m.\u001b[39mis_integer(loc):\n",
      "File \u001b[0;32m~/.conda/envs/tf-env/lib/python3.8/site-packages/pandas/core/indexes/multi.py:3113\u001b[0m, in \u001b[0;36mMultiIndex._get_loc_level\u001b[0;34m(self, key, level)\u001b[0m\n\u001b[1;32m   3111\u001b[0m         \u001b[38;5;28;01mreturn\u001b[39;00m indexer, maybe_mi_droplevels(indexer, ilevels)\n\u001b[1;32m   3112\u001b[0m \u001b[38;5;28;01melse\u001b[39;00m:\n\u001b[0;32m-> 3113\u001b[0m     indexer \u001b[38;5;241m=\u001b[39m \u001b[38;5;28;43mself\u001b[39;49m\u001b[38;5;241;43m.\u001b[39;49m\u001b[43m_get_level_indexer\u001b[49m\u001b[43m(\u001b[49m\u001b[43mkey\u001b[49m\u001b[43m,\u001b[49m\u001b[43m \u001b[49m\u001b[43mlevel\u001b[49m\u001b[38;5;241;43m=\u001b[39;49m\u001b[43mlevel\u001b[49m\u001b[43m)\u001b[49m\n\u001b[1;32m   3114\u001b[0m     \u001b[38;5;28;01mif\u001b[39;00m (\n\u001b[1;32m   3115\u001b[0m         \u001b[38;5;28misinstance\u001b[39m(key, \u001b[38;5;28mstr\u001b[39m)\n\u001b[1;32m   3116\u001b[0m         \u001b[38;5;129;01mand\u001b[39;00m \u001b[38;5;28mself\u001b[39m\u001b[38;5;241m.\u001b[39mlevels[level]\u001b[38;5;241m.\u001b[39m_supports_partial_string_indexing\n\u001b[1;32m   3117\u001b[0m     ):\n\u001b[1;32m   3118\u001b[0m         \u001b[38;5;66;03m# check to see if we did an exact lookup vs sliced\u001b[39;00m\n\u001b[1;32m   3119\u001b[0m         check \u001b[38;5;241m=\u001b[39m \u001b[38;5;28mself\u001b[39m\u001b[38;5;241m.\u001b[39mlevels[level]\u001b[38;5;241m.\u001b[39mget_loc(key)\n",
      "File \u001b[0;32m~/.conda/envs/tf-env/lib/python3.8/site-packages/pandas/core/indexes/multi.py:3222\u001b[0m, in \u001b[0;36mMultiIndex._get_level_indexer\u001b[0;34m(self, key, level, indexer)\u001b[0m\n\u001b[1;32m   3218\u001b[0m         \u001b[38;5;28;01mreturn\u001b[39;00m \u001b[38;5;28mslice\u001b[39m(i, j, step)\n\u001b[1;32m   3220\u001b[0m \u001b[38;5;28;01melse\u001b[39;00m:\n\u001b[0;32m-> 3222\u001b[0m     idx \u001b[38;5;241m=\u001b[39m \u001b[38;5;28;43mself\u001b[39;49m\u001b[38;5;241;43m.\u001b[39;49m\u001b[43m_get_loc_single_level_index\u001b[49m\u001b[43m(\u001b[49m\u001b[43mlevel_index\u001b[49m\u001b[43m,\u001b[49m\u001b[43m \u001b[49m\u001b[43mkey\u001b[49m\u001b[43m)\u001b[49m\n\u001b[1;32m   3224\u001b[0m     \u001b[38;5;28;01mif\u001b[39;00m level \u001b[38;5;241m>\u001b[39m \u001b[38;5;241m0\u001b[39m \u001b[38;5;129;01mor\u001b[39;00m \u001b[38;5;28mself\u001b[39m\u001b[38;5;241m.\u001b[39m_lexsort_depth \u001b[38;5;241m==\u001b[39m \u001b[38;5;241m0\u001b[39m:\n\u001b[1;32m   3225\u001b[0m         \u001b[38;5;66;03m# Desired level is not sorted\u001b[39;00m\n\u001b[1;32m   3226\u001b[0m         \u001b[38;5;28;01mif\u001b[39;00m \u001b[38;5;28misinstance\u001b[39m(idx, \u001b[38;5;28mslice\u001b[39m):\n\u001b[1;32m   3227\u001b[0m             \u001b[38;5;66;03m# test_get_loc_partial_timestamp_multiindex\u001b[39;00m\n",
      "File \u001b[0;32m~/.conda/envs/tf-env/lib/python3.8/site-packages/pandas/core/indexes/multi.py:2802\u001b[0m, in \u001b[0;36mMultiIndex._get_loc_single_level_index\u001b[0;34m(self, level_index, key)\u001b[0m\n\u001b[1;32m   2800\u001b[0m     \u001b[38;5;28;01mreturn\u001b[39;00m \u001b[38;5;241m-\u001b[39m\u001b[38;5;241m1\u001b[39m\n\u001b[1;32m   2801\u001b[0m \u001b[38;5;28;01melse\u001b[39;00m:\n\u001b[0;32m-> 2802\u001b[0m     \u001b[38;5;28;01mreturn\u001b[39;00m \u001b[43mlevel_index\u001b[49m\u001b[38;5;241;43m.\u001b[39;49m\u001b[43mget_loc\u001b[49m\u001b[43m(\u001b[49m\u001b[43mkey\u001b[49m\u001b[43m)\u001b[49m\n",
      "File \u001b[0;32m~/.conda/envs/tf-env/lib/python3.8/site-packages/pandas/core/indexes/base.py:3623\u001b[0m, in \u001b[0;36mIndex.get_loc\u001b[0;34m(self, key, method, tolerance)\u001b[0m\n\u001b[1;32m   3621\u001b[0m     \u001b[38;5;28;01mreturn\u001b[39;00m \u001b[38;5;28mself\u001b[39m\u001b[38;5;241m.\u001b[39m_engine\u001b[38;5;241m.\u001b[39mget_loc(casted_key)\n\u001b[1;32m   3622\u001b[0m \u001b[38;5;28;01mexcept\u001b[39;00m \u001b[38;5;167;01mKeyError\u001b[39;00m \u001b[38;5;28;01mas\u001b[39;00m err:\n\u001b[0;32m-> 3623\u001b[0m     \u001b[38;5;28;01mraise\u001b[39;00m \u001b[38;5;167;01mKeyError\u001b[39;00m(key) \u001b[38;5;28;01mfrom\u001b[39;00m \u001b[38;5;21;01merr\u001b[39;00m\n\u001b[1;32m   3624\u001b[0m \u001b[38;5;28;01mexcept\u001b[39;00m \u001b[38;5;167;01mTypeError\u001b[39;00m:\n\u001b[1;32m   3625\u001b[0m     \u001b[38;5;66;03m# If we have a listlike key, _check_indexing_error will raise\u001b[39;00m\n\u001b[1;32m   3626\u001b[0m     \u001b[38;5;66;03m#  InvalidIndexError. Otherwise we fall through and re-raise\u001b[39;00m\n\u001b[1;32m   3627\u001b[0m     \u001b[38;5;66;03m#  the TypeError.\u001b[39;00m\n\u001b[1;32m   3628\u001b[0m     \u001b[38;5;28mself\u001b[39m\u001b[38;5;241m.\u001b[39m_check_indexing_error(key)\n",
      "\u001b[0;31mKeyError\u001b[0m: ('BRD-K18316707-001-01-9', 'BRD-K18438502-001-02-6', 'BRD-K18550767-001-02-8', 'BRD-K18574842-323-03-3')"
     ]
    }
   ],
   "source": [
    "\n",
    "# Calculate median pairwise correlations for All doses\n",
    "target_all_dose_cor_df = []\n",
    "for target in cp_target_comparisons:\n",
    "    cp_subset = cp_target_comparisons[target]\n",
    "\n",
    "    cp_subset_df = (\n",
    "        replicates\n",
    "            .xs(cp_subset, level=('Metadata_broad_sample'))\n",
    "            .reset_index(drop=True)\n",
    "            # .loc[:, cp_features]\n",
    "            .loc[:,:]\n",
    "            .transpose()\n",
    "            .astype(float)\n",
    "            .corr(method=\"spearman\")\n",
    "    )\n",
    "\n",
    "    np.fill_diagonal(cp_subset_df.values, np.nan)\n",
    "\n",
    "    n_compounds = cp_subset_df.shape[0]\n",
    "\n",
    "    target_median_score = (\n",
    "        cp_subset_df\n",
    "            .melt(value_name=\"pairwise_cor\", ignore_index=False)\n",
    "            .dropna()\n",
    "            .pairwise_cor\n",
    "            .median()\n",
    "    )\n",
    "\n",
    "    target_all_dose_cor_df.append([target, \"All\", target_median_score, n_compounds])\n",
    "\n",
    "target_all_dose_cor_df = pd.DataFrame(target_all_dose_cor_df)\n",
    "\n",
    "print(target_all_dose_cor_df.shape)\n",
    "target_all_dose_cor_df.head()\n"
   ]
  },
  {
   "cell_type": "code",
   "execution_count": 17,
   "id": "6e8049fc-e34a-47a7-b9c4-1f9561e16514",
   "metadata": {
    "pycharm": {
     "name": "#%%\n"
    }
   },
   "outputs": [
    {
     "data": {
      "text/plain": [
       "1278    1\n",
       "Name: Metadata_ASSAY_WELL_ROLE, dtype: int64"
      ]
     },
     "execution_count": 17,
     "metadata": {},
     "output_type": "execute_result"
    }
   ],
   "source": [
    "replicates.index.get_level_values(1).value_counts().value_counts()"
   ]
  },
  {
   "cell_type": "code",
   "execution_count": 14,
   "id": "bed78329-54bc-4222-8d2a-4db8e41aff78",
   "metadata": {
    "pycharm": {
     "name": "#%%\n"
    }
   },
   "outputs": [],
   "source": [
    "def get_median_score(cpds_list, df):\n",
    "    \"\"\"\n",
    "    This function calculates the median score for each compound based on its replicates\n",
    "    \"\"\"\n",
    "    \n",
    "    cpds_median_score = {}\n",
    "    for cpd in cpds_list:\n",
    "        cpd_replicates = df[df.index.isin([cpd], 1)].copy()\n",
    "        cor_mat = cpd_replicates.astype('float64').T.corr(method = 'pearson').values\n",
    "        if len(cor_mat) == 1:\n",
    "            median_val = 1\n",
    "        else:\n",
    "            median_val = np.median(cor_mat[np.triu_indices(len(cor_mat), k = 1)])\n",
    "            \n",
    "        cpds_median_score[cpd] = median_val\n",
    "        \n",
    "    return cpds_median_score"
   ]
  }
 ],
 "metadata": {
  "kernelspec": {
   "display_name": "tf-env",
   "language": "python",
   "name": "tf-env"
  },
  "language_info": {
   "codemirror_mode": {
    "name": "ipython",
    "version": 3
   },
   "file_extension": ".py",
   "mimetype": "text/x-python",
   "name": "python",
   "nbconvert_exporter": "python",
   "pygments_lexer": "ipython3",
   "version": "3.8.6"
  }
 },
 "nbformat": 4,
 "nbformat_minor": 5
}
