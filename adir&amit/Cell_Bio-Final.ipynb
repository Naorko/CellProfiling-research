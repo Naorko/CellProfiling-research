{
 "cells": [
  {
   "cell_type": "markdown",
   "metadata": {},
   "source": [
    "# Imports"
   ]
  },
  {
   "cell_type": "markdown",
   "metadata": {},
   "source": [
    "In this cell we are importing all relevant packages for our project"
   ]
  },
  {
   "cell_type": "code",
   "execution_count": 1,
   "metadata": {
    "ExecuteTime": {
     "end_time": "2020-08-26T09:42:39.510247Z",
     "start_time": "2020-08-26T09:42:30.284358Z"
    }
   },
   "outputs": [],
   "source": [
    "# connections and OS\n",
    "import pandas as pd\n",
    "import seaborn as sns\n",
    "import os\n",
    "import sqlite3\n",
    "import csv\n",
    "\n",
    "#utils (Pandas,numpy,tqdm)\n",
    "import numpy as np\n",
    "import pandas as pd\n",
    "from tqdm import tqdm\n",
    "\n",
    "#visualize \n",
    "import seaborn as sns\n",
    "\n",
    "#preprocessing, metrices and splits \n",
    "from sklearn.model_selection import train_test_split\n",
    "from sklearn.metrics import mean_squared_error,mean_absolute_error\n",
    "from sklearn.preprocessing import StandardScaler,MinMaxScaler\n",
    "\n",
    "#ML models:\n",
    "from sklearn.multioutput import MultiOutputRegressor\n",
    "from sklearn.linear_model import LinearRegression, Ridge\n",
    "\n",
    "\n",
    "#tensorflow layer, callbacks and layers\n",
    "import tensorflow.keras\n",
    "from tensorflow.keras.models import Model\n",
    "from tensorflow.keras.layers import Dense, Concatenate, Input\n",
    "from tensorflow.keras.callbacks import ModelCheckpoint, Callback"
   ]
  },
  {
   "cell_type": "markdown",
   "metadata": {},
   "source": [
    "# Constants and params"
   ]
  },
  {
   "cell_type": "markdown",
   "metadata": {},
   "source": [
    "Change directory to project directory within the department cluster (SLURM) and define to constant variables\n"
   ]
  },
  {
   "cell_type": "code",
   "execution_count": 2,
   "metadata": {
    "ExecuteTime": {
     "end_time": "2020-08-26T09:42:49.843122Z",
     "start_time": "2020-08-26T09:42:49.836703Z"
    }
   },
   "outputs": [],
   "source": [
    "#change directory to project directory within the department cluster (SLURM)\n",
    "os.chdir('../../storage/users/AmitAdirProject/Data/sqlite/')\n",
    "CHANNELS = [\"AGP\",\"DNA\",\"ER\",\"Mito\",\"RNA\"]"
   ]
  },
  {
   "cell_type": "markdown",
   "metadata": {},
   "source": [
    "# Preprocessing functions"
   ]
  },
  {
   "cell_type": "code",
   "execution_count": 3,
   "metadata": {
    "ExecuteTime": {
     "end_time": "2020-08-26T09:42:50.672093Z",
     "start_time": "2020-08-26T09:42:50.661259Z"
    }
   },
   "outputs": [],
   "source": [
    "def scale_data(df):\n",
    "    \"\"\"\n",
    "    This function is scaling the data using two methods: STD and MinMax\n",
    "    df: dataFrame     \n",
    "    return: two scaled dataframes, the first one according to StandardScaler and the second according to MinMaxScaler\n",
    "    \"\"\"\n",
    "    std_scalar = StandardScaler()\n",
    "    minMax_scalar = MinMaxScaler()\n",
    "    \n",
    "    std_df = pd.DataFrame(std_scalar.fit_transform(df),columns=df.columns)\n",
    "    minmax_df = pd.DataFrame(minMax_scalar.fit_transform(df),columns=df.columns)    \n",
    "    std_df.fillna(0,inplace=True)\n",
    "    minmax_df.fillna(0,inplace=True)\n",
    "    \n",
    "    return std_df,minmax_df"
   ]
  },
  {
   "cell_type": "code",
   "execution_count": 17,
   "metadata": {
    "ExecuteTime": {
     "end_time": "2020-08-26T09:53:07.127737Z",
     "start_time": "2020-08-26T09:53:07.112895Z"
    }
   },
   "outputs": [],
   "source": [
    "def append_cells_labels(filename):\n",
    "    \"\"\"    \n",
    "    This function is responsible for creating label (Mock/Tretament) for cell resultion and create a corresponding csv file\n",
    "    filename: the full file path    \n",
    "    \"\"\"\n",
    "    cnx2 = sqlite3.connect(filename)\n",
    "    df_image = pd.read_sql_query(\"SELECT ImageNumber,Image_Metadata_Well FROM Image\", cnx2)\n",
    "    table_name = filename[44:-7]\n",
    "    df_well = pd.read_csv(\"//storage//users//AmitAdirProject//Data//mean_well_profiles//\"+table_name+\".csv\")\n",
    "    df_well = df_well[[\"Metadata_Well\",\"Metadata_ASSAY_WELL_ROLE\"]]\n",
    "    print('Done reading Image sql')\n",
    "    \n",
    "    dict_treatment = {} \n",
    "    for i, row in df_image.iterrows():\n",
    "        label = df_well.loc[df_well['Metadata_Well'] == row['Image_Metadata_Well'], 'Metadata_ASSAY_WELL_ROLE'].iloc[0]\n",
    "        dict_treatment[row['ImageNumber']] = label\n",
    "    \n",
    "    \n",
    "    dict_channel = {}\n",
    "    # Create your connection.\n",
    "    cnx = sqlite3.connect(filename)\n",
    "    #df is the cell dataframe\n",
    "    df = pd.read_sql_query(\"SELECT * FROM Cells\", cnx)\n",
    "    df['label'] = df['ImageNumber'].map(dict_treatment)\n",
    "    df.to_csv(\"/storage/users/AmitAdirProject/Data/sqlite/\"+table_name+\".csv\")\n",
    "    print(\"Done with \" + table_name)"
   ]
  },
  {
   "cell_type": "markdown",
   "metadata": {},
   "source": [
    "Now, we will generate a csv for each plate with the corresponding mock/treated data"
   ]
  },
  {
   "cell_type": "code",
   "execution_count": 18,
   "metadata": {
    "ExecuteTime": {
     "end_time": "2020-08-26T09:59:17.095484Z",
     "start_time": "2020-08-26T09:53:08.534701Z"
    }
   },
   "outputs": [
    {
     "name": "stderr",
     "output_type": "stream",
     "text": [
      "  0%|          | 0/3 [00:00<?, ?it/s]"
     ]
    },
    {
     "name": "stdout",
     "output_type": "stream",
     "text": [
      "Done reading Image sql\n",
      "Done with 25740\n"
     ]
    },
    {
     "name": "stderr",
     "output_type": "stream",
     "text": [
      " 33%|███▎      | 1/3 [02:51<05:43, 171.75s/it]"
     ]
    },
    {
     "name": "stdout",
     "output_type": "stream",
     "text": [
      "Done reading Image sql\n"
     ]
    },
    {
     "name": "stderr",
     "output_type": "stream",
     "text": [
      " 67%|██████▋   | 2/3 [03:22<02:09, 129.41s/it]"
     ]
    },
    {
     "name": "stdout",
     "output_type": "stream",
     "text": [
      "Done with 26572\n",
      "Done reading Image sql\n",
      "Done with 25741\n"
     ]
    },
    {
     "name": "stderr",
     "output_type": "stream",
     "text": [
      "100%|██████████| 3/3 [06:08<00:00, 122.85s/it]\n"
     ]
    }
   ],
   "source": [
    "path_plates = \"/storage/users/AmitAdirProject/Data/sqlite/\"\n",
    "for plate in tqdm(os.listdir(path_plates)):\n",
    "    if plate.endswith(\".sqlite\"):\n",
    "        append_cells_labels(path_plates+\"/\"+plate)"
   ]
  },
  {
   "cell_type": "code",
   "execution_count": 19,
   "metadata": {
    "ExecuteTime": {
     "end_time": "2020-08-26T10:02:32.110621Z",
     "start_time": "2020-08-26T10:02:32.088820Z"
    }
   },
   "outputs": [],
   "source": [
    "def split_channels_x_and_y(filename, task_channel):\n",
    "    \"\"\"\n",
    "    This function is responsible for splitting five channels into four channels as train and the remaining channel to test\n",
    "    filename: file path to the cell table from a single plate\n",
    "    task_channel: the current channel that we aim to predict\n",
    "    \n",
    "    Notably: In order to avoid leakage we drop all 'correlation features\n",
    "    return: seperated dataframes x_features and y_df. \n",
    "            x_features: contains all available features excluding the features related to 'task_channel' we aim to predict\n",
    "            y_df: contains all available features related to 'task_channel' only\n",
    "    \"\"\"\n",
    "    dict_channel = {}\n",
    "    \n",
    "    #df = pd.read_csv(filename+\".csv\")\n",
    "    df = pd.read_csv(filename)\n",
    "    df = df.set_index(['ImageNumber', 'ObjectNumber'])\n",
    "    df.drop(['TableNumber'],inplace=True,axis=1)\n",
    "    df.dropna(inplace=True)\n",
    "    \n",
    "    # Data Preperation\n",
    "    general_featuers = df.iloc[:, 0:52]\n",
    "    general_featuers['label'] = df['label']\n",
    "    df = df.iloc[:, 52:]\n",
    "    for channel in CHANNELS:\n",
    "        dict_channel[channel] = df[[col for col in df.columns if channel in col]]\n",
    "\n",
    "    ready_channel_features = []\n",
    "    for feature_name in dict_channel:\n",
    "        if feature_name != task_channel:\n",
    "            curr_channel_features = dict_channel[feature_name]\n",
    "            curr_channel_features = curr_channel_features[[col for col in curr_channel_features.columns if task_channel not in col]]\n",
    "            ready_channel_features.append(curr_channel_features)\n",
    "    x_features_df = ready_channel_features[0]    \n",
    "    for i in range(1, len(ready_channel_features)):\n",
    "        x_features_df = x_features_df.join(ready_channel_features[i], how='outer', lsuffix='_left',\n",
    "                                           rsuffix='_right')\n",
    "    x_features_df = general_featuers.join(x_features_df, how='outer', lsuffix='_left', rsuffix='_right')\n",
    "    y_df = dict_channel[task_channel]\n",
    "    corr_cols = [c for c in y_df.columns if 'correlation' not in c.lower()]\n",
    "    y_df = y_df[corr_cols]\n",
    "    return x_features_df, y_df"
   ]
  },
  {
   "cell_type": "markdown",
   "metadata": {},
   "source": [
    "# Create Models"
   ]
  },
  {
   "cell_type": "markdown",
   "metadata": {},
   "source": [
    "In the following three cells we are creating three ML models"
   ]
  },
  {
   "cell_type": "code",
   "execution_count": 28,
   "metadata": {
    "ExecuteTime": {
     "end_time": "2020-08-26T10:13:53.617800Z",
     "start_time": "2020-08-26T10:13:53.610909Z"
    }
   },
   "outputs": [],
   "source": [
    "def create_LR(df_train_X, df_train_Y):  \n",
    "    \"\"\"\n",
    "    In this cell we are creating and training a linear regression model        \n",
    "    df_train_X: contains all available features excluding the features related to 'task_channel' we aim to predict (train)\n",
    "    df_train_Y: contains all available features related to 'task_channel' only for the train\n",
    "    \n",
    "    \n",
    "    return: trained linear regression model\n",
    "    \"\"\"\n",
    "    LR_model = LinearRegression()    \n",
    "    LR_model.fit(df_train_X.values,df_train_Y.values)\n",
    "    return LR_model\n",
    "    \n",
    "    "
   ]
  },
  {
   "cell_type": "code",
   "execution_count": 29,
   "metadata": {
    "ExecuteTime": {
     "end_time": "2020-08-26T10:13:53.890850Z",
     "start_time": "2020-08-26T10:13:53.884664Z"
    }
   },
   "outputs": [],
   "source": [
    "def create_Ridge(df_train_X, df_train_Y):\n",
    "    \"\"\"    \n",
    "    In this cell we are creating and training a ridge regression model    \n",
    "    \n",
    "    \n",
    "    df_train_X: contains all available features excluding the features related to 'task_channel' we aim to predict (train)\n",
    "    df_train_Y: contains all available features related to 'task_channel' only for the train    \n",
    "    \n",
    "    return: trained linear regression model\n",
    "    \"\"\"\n",
    "    Ridge_model = Ridge()    \n",
    "    Ridge_model.fit(X=df_train_X.values,y=df_train_Y.values)    \n",
    "    return Ridge_model"
   ]
  },
  {
   "cell_type": "code",
   "execution_count": 30,
   "metadata": {
    "ExecuteTime": {
     "end_time": "2020-08-26T10:13:54.196170Z",
     "start_time": "2020-08-26T10:13:54.176523Z"
    },
    "code_folding": []
   },
   "outputs": [],
   "source": [
    "def create_model_dnn(task_channel,df_train_X, df_train_Y,test_plate):\n",
    "    \"\"\"    \n",
    "    In this cell we are creating and training a multi layer perceptron (we refer to it as deep neural network, DNN) model\n",
    "    \n",
    "    task_channel: the current channel that we aim to predict\n",
    "    df_train_X: contains all available features excluding the features related to 'task_channel' we aim to predict (train)\n",
    "    df_train_Y: contains all available features related to 'task_channel' only for the train\n",
    "    channel_task_x: contains all available features excluding the features related to 'task_channel' we aim to predict (test)\n",
    "    channel_task_y: contains all available features related to 'task_channel' only for the test\n",
    "    test_plate: the ID of a given plate. This information assist us while printing the results.\n",
    "    \n",
    "    return: trained linear regression model\n",
    "    \"\"\"\n",
    "    # Stracture of the network#\n",
    "    inputs = Input(shape=(df_train_X.shape[1],))\n",
    "    dense1 = Dense(512,activation = 'relu')(inputs)\n",
    "    dense2 = Dense(256,activation = 'relu')(dense1)\n",
    "    dense3 = Dense(128,activation = 'relu')(dense2)    \n",
    "    dense4 = Dense(100,activation = 'relu')(dense3)\n",
    "    dense5 = Dense(50,activation = 'relu')(dense4)\n",
    "    dense6 = Dense(25,activation = 'relu')(dense5)\n",
    "    dense7 = Dense(10,activation = 'relu')(dense6)\n",
    "    predictions = Dense(df_train_Y.shape[1],activation='sigmoid')(dense7)\n",
    "    \n",
    "    #model compiliation\n",
    "    model = Model(inputs=inputs,outputs = predictions)\n",
    "    model.compile(optimizer='adam',loss='mse')\n",
    "    \n",
    "    #model training    \n",
    "    test_plate_number = test_plate[:5]\n",
    "    filepath = os.path.join('../../Models/',f'{test_plate_number}_{task_channel}.h5')\n",
    "    my_callbacks = [ModelCheckpoint(filepath, monitor='val_loss', verbose=0, save_best_only=False, save_weights_only=False, mode='auto', period=1)]\n",
    "    model.fit(df_train_X,df_train_Y,epochs = 5,batch_size=1024*8,verbose=0,shuffle=True,validation_split=0.2,callbacks=my_callbacks)\n",
    "    return model\n",
    "    \n",
    "    "
   ]
  },
  {
   "cell_type": "code",
   "execution_count": 31,
   "metadata": {
    "ExecuteTime": {
     "end_time": "2020-08-26T10:13:54.704037Z",
     "start_time": "2020-08-26T10:13:54.691051Z"
    }
   },
   "outputs": [],
   "source": [
    "#    print_results(test_plate_number, task_channel, \"Overall\", \"DNN\", \"None\", \"MSE\", str(mean_squared_error(model_pred,channel_task_y)))\n",
    "def print_results(plate_number, channel, family, model, _type, metric, value):\n",
    "    \"\"\"\n",
    "    This function is creating a csv named: 'results' that contains all of the models’ performance (e.g. MSE) for each plate and each family of attributes\n",
    "    plate_number: ID of palte\n",
    "    channel: The channel we aim to predict\n",
    "    family: features united by their charactheristics (e.g., Granularity, Texture)\n",
    "    model: the model name\n",
    "    _type: scaling method (e.g., MinMax Scaler or StandardScaler)\n",
    "    metric: MSE/MAE\n",
    "    value: value of the metric error    \n",
    "    \"\"\"\n",
    "    results_path = \"/storage/users/AmitAdirProject/Data/Results/\"\n",
    "    files_list = os.listdir(results_path)\n",
    "    if 'results.csv' not in files_list:\n",
    "        file1 = open(\"/storage/users/AmitAdirProject/Data/Results/results.csv\",\"a+\")     \n",
    "        file1.write(\"Plate,Channel,Family,Model,Type,Metric,Value \\n\")\n",
    "        file1.write(plate_number+\",\"+channel+\",\"+family+\",\"+model+\",\"+_type+\",\"+metric+\",\"+value+\"\\n\")\n",
    "        file1.close()\n",
    "    else:\n",
    "        file1 = open(\"/storage/users/AmitAdirProject/Data/Results/results.csv\",\"a+\")\n",
    "        file1.write(plate_number+\",\"+channel+\",\"+family+\",\"+model+\",\"+_type+\",\"+metric+\",\"+value+\"\\n\")\n",
    "        file1.close()"
   ]
  },
  {
   "cell_type": "code",
   "execution_count": 32,
   "metadata": {
    "ExecuteTime": {
     "end_time": "2020-08-26T10:13:56.047905Z",
     "start_time": "2020-08-26T10:13:56.029632Z"
    }
   },
   "outputs": [],
   "source": [
    "def get_family_MSE(test_plate_number, task_channel, model, _type, df, channel_task_y):    \n",
    "    \"\"\"\n",
    "    This function is calculating the MSE/MAE measures for plates based on different models\n",
    "    test_plate_number: ID of the examine plate\n",
    "    task_channel: Channel we aim to predict\n",
    "    model: model name\n",
    "    _type: scaling method (e.g., MinMax Scaler or StandardScaler)\n",
    "    df: prediction of any given ML model which aim to predict the channel_task_y\n",
    "    channel_task_y: features corresponding to the 'task channel' (channel we aim to predict)    \n",
    "    \"\"\"\n",
    "    Families = {'Granularity':[],\n",
    "               'Intensity':[],\n",
    "               'Location':[],\n",
    "               'RadialDistribution':[],\n",
    "               'Texture':[]}\n",
    "\n",
    "    for name in (channel_task_y.columns):\n",
    "        if '_Granularity' in name:\n",
    "            Families['Granularity'].append(name)\n",
    "        elif '_Intensity' in name:\n",
    "            Families['Intensity'].append(name)\n",
    "        elif '_Location' in name:\n",
    "            Families['Location'].append(name)        \n",
    "        elif '_RadialDistribution' in name:\n",
    "            Families['RadialDistribution'].append(name)\n",
    "        elif '_Texture' in name:\n",
    "            Families['Texture'].append(name)\n",
    "            \n",
    "    for key in Families.keys():\n",
    "        try:            \n",
    "            print_results(test_plate_number, task_channel, key, model, _type, \"MSE\", str(mean_squared_error(df[Families[key]],channel_task_y[Families[key]])))\n",
    "        except:\n",
    "            if len(Families[key]) == 0:\n",
    "                print('empty family {}'.format(key))\n",
    "            else:\n",
    "                print('problem in mse key')\n",
    "            \n",
    "\n"
   ]
  },
  {
   "cell_type": "code",
   "execution_count": 33,
   "metadata": {
    "ExecuteTime": {
     "end_time": "2020-08-26T10:13:56.616395Z",
     "start_time": "2020-08-26T10:13:56.597732Z"
    }
   },
   "outputs": [],
   "source": [
    "def get_family_MAE(test_plate_number, task_channel, model, _type, df, channel_task_y):\n",
    "    \n",
    "    \"\"\"\n",
    "    This function is calculating the MSE/MAE measures for plates based on different models\n",
    "    test_plate_number: ID of the examine plate\n",
    "    task_channel: Channel we aim to predict\n",
    "    model: model name\n",
    "    _type: scaling method (e.g., MinMax Scaler or StandardScaler)\n",
    "    df: prediction of any given ML model which aim to predict the channel_task_y\n",
    "    channel_task_y: features corresponding to the 'task channel' (channel we aim to predict)    \n",
    "    \"\"\"\n",
    "    \n",
    "    Families = {'Granularity':[],\n",
    "               'Intensity':[],\n",
    "               'Location':[],\n",
    "               'RadialDistribution':[],\n",
    "               'Texture':[]}\n",
    "\n",
    "    for name in (channel_task_y.columns):\n",
    "        if '_Granularity' in name:\n",
    "            Families['Granularity'].append(name)\n",
    "        elif '_Intensity' in name:\n",
    "            Families['Intensity'].append(name)\n",
    "        elif '_Location' in name:\n",
    "            Families['Location'].append(name)        \n",
    "        elif '_RadialDistribution' in name:\n",
    "            Families['RadialDistribution'].append(name)\n",
    "        elif '_Texture' in name:\n",
    "            Families['Texture'].append(name)\n",
    "            \n",
    "    for key in Families.keys():\n",
    "        try:            \n",
    "            print_results(test_plate_number, task_channel, key, model, _type, \"MAE\", str(mean_absolute_error(df[Families[key]],channel_task_y[Families[key]])))\n",
    "        except:\n",
    "            if len(Families[key]) == 0:\n",
    "                print('empty family {}'.format(key))\n",
    "            else:\n",
    "                print('problem in mae key')\n",
    "        "
   ]
  },
  {
   "cell_type": "code",
   "execution_count": 34,
   "metadata": {
    "ExecuteTime": {
     "end_time": "2020-08-26T10:13:57.225714Z",
     "start_time": "2020-08-26T10:13:57.160130Z"
    }
   },
   "outputs": [],
   "source": [
    "def main(path,scale_method):\n",
    "    \"\"\"\n",
    "    This is the main function of the preprocessing steps.\n",
    "    This function will iterate all over the sqlite files and do the following:\n",
    "    1) prepate train + test files\n",
    "    2) scale train + test files (x + y values separately)\n",
    "    3) return: \n",
    "        task_channel -> string, reflect the relevant channel for test. For example, 'AGP'\n",
    "        df_train_X -> DataFrame, (instances,features) for the train set\n",
    "        df_train_Y -> DataFrame, (instances,labels) for the train set\n",
    "        channel_task_x -> DataFrame, (instances,features) for the test set\n",
    "        channel_task_y -> DataFrame, (instances,labels) for the test set\n",
    "    \"\"\"\n",
    "    path_profiles = '/storage/users/AmitAdirProject/Data/mean_well_profiles/'\n",
    "    csv_files= [_ for _ in os.listdir('/storage/users/AmitAdirProject/Data/sqlite/') if _.endswith(\".csv\")]    \n",
    "    for task_channel in tqdm(CHANNELS):        \n",
    "        # This is the current file that we will predict        \n",
    "        for test_plate in csv_files:\n",
    "            print(test_plate)\n",
    "            if test_plate.endswith(\".csv\"):                \n",
    "                channel_task_x, channel_task_y = split_channels_x_and_y(path + test_plate, task_channel)\n",
    "                print(channel_task_x['label'].unique())\n",
    "                \n",
    "                channel_task_x_mock = channel_task_x[channel_task_x['label']=='mock']\n",
    "                channel_task_x_treated = channel_task_x[channel_task_x['label']=='treated']\n",
    "                \n",
    "                channel_task_y_mock = channel_task_y.loc[channel_task_x_mock.index]\n",
    "                channel_task_y_treated = channel_task_y.loc[channel_task_x_treated.index]\n",
    "                \n",
    "                channel_task_x_mock.drop(['label'],inplace=True,axis=1)\n",
    "                channel_task_x_treated.drop(['label'],inplace=True,axis=1)\n",
    "                \n",
    "                \n",
    "                std_df_treated_x ,min_max_df_treated_x = scale_data(channel_task_x_treated)\n",
    "                std_df_treated_y ,min_max_df_treated_y = scale_data(channel_task_y_treated)\n",
    "                std_df_mock_x ,min_max_df_mock_x = scale_data(channel_task_x_mock)\n",
    "                std_df_mock_y ,min_max_df_mock_y = scale_data(channel_task_y_mock)\n",
    "\n",
    "                \n",
    "        # This is all other files X input\n",
    "            list_x_df = []\n",
    "            list_y_df = []\n",
    "            \n",
    "            \n",
    "            for train_plate in tqdm(csv_files):\n",
    "                if train_plate!=test_plate:\n",
    "                    if train_plate.endswith(\".csv\"):\n",
    "                        curr_x, curr_y = split_channels_x_and_y(path + train_plate, task_channel)\n",
    "                        curr_x = curr_x[curr_x['label']=='mock']\n",
    "                        curr_y = curr_y.loc[curr_x.index]                                              \n",
    "                        curr_x.drop(['label'],inplace=True,axis=1)\n",
    "                        \n",
    "                        list_x_df.append(curr_x)                        \n",
    "                        list_y_df.append(curr_y)\n",
    "            \n",
    "            df_train_X = pd.concat(list_x_df)\n",
    "            df_train_Y = pd.concat(list_y_df)   \n",
    "            \n",
    "             # Scale for training set#\n",
    "            std_df ,min_max_df = scale_data(df_train_X)            \n",
    "            std_df_y ,min_max_df_y = scale_data(df_train_Y)\n",
    "            \n",
    "            #Scale for testing set - treated#\n",
    "            std_df_channel_task_treated ,min_max_df_channel_task_treated = scale_data(channel_task_x_treated)\n",
    "            std_df_y_test_treated ,min_max_df_y_test_treated = scale_data(channel_task_y_treated)\n",
    "            \n",
    "            #Scale for testing set - mock#\n",
    "            std_df_channel_task_mock ,min_max_df_channel_task_mock = scale_data(channel_task_x_mock)\n",
    "            std_df_y_test_mock ,min_max_df_y_test_mock = scale_data(channel_task_y_mock)   \n",
    "            \n",
    "            if scale_method == 'MinMax':\n",
    "                #train set#\n",
    "                df_train_X = min_max_df\n",
    "                df_train_Y = min_max_df_y\n",
    "                \n",
    "                #treated #\n",
    "                df_test_X_treated = min_max_df_channel_task_treated\n",
    "                df_test_Y_treated = min_max_df_y_test_treated\n",
    "                \n",
    "                #mock#                \n",
    "                df_test_X_mock = min_max_df_channel_task_mock\n",
    "                df_test_Y_mock = min_max_df_y_test_mock\n",
    "                \n",
    "                \n",
    "            elif scale_method == 'Std':\n",
    "                #train set#\n",
    "                df_train_X = std_df\n",
    "                df_train_Y = std_df_y\n",
    "                \n",
    "                #treated #\n",
    "                df_test_X_treated = std_df_channel_task_treated\n",
    "                df_test_Y_treated = std_df_y_test_treated\n",
    "                \n",
    "                #mock#                \n",
    "                df_test_X_mock = std_df_channel_task_mock\n",
    "                df_test_Y_mock = std_df_y_test_mock\n",
    "                \n",
    "                \n",
    "        # Model Creation - AVG MSE for each model:\n",
    "            print(test_plate)\n",
    "            print(task_channel+\":\")\n",
    "            LR_model = create_LR(df_train_X, df_train_Y)\n",
    "            Ridge_model = create_Ridge(df_train_X, df_train_Y)\n",
    "            DNN_model = create_model_dnn(task_channel,df_train_X, df_train_Y,test_plate)\n",
    "#             svr_model = create_SVR(task_channel,df_train_X, df_train_Y, channel_task_x, channel_task_y)\n",
    "            #return task_channel,df_train_X, df_train_Y, channel_task_x, channel_task_y\n",
    "    \n",
    "            print('**************')\n",
    "            print('LR')\n",
    "            print('profile_treated:') \n",
    "            yhat_lr = pd.DataFrame(LR_model.predict(std_df_treated_x.values),columns=std_df_treated_y.columns)                           \n",
    "            print('Linear Reg MSE: {}'.format(mean_squared_error(yhat_lr,std_df_treated_y.values)))  \n",
    "            print('Linear Reg MAE: {}'.format(mean_absolute_error(yhat_lr,std_df_treated_y.values)))\n",
    "            \n",
    "            print_results(test_plate, task_channel, 'Overall', 'Linear Regression', 'Treated', 'MSE', str(mean_squared_error(yhat_lr,std_df_treated_y.values)))\n",
    "            print_results(test_plate, task_channel, 'Overall', 'Linear Regression', 'Treated', 'MAE', str(mean_absolute_error(yhat_lr,std_df_treated_y.values)))\n",
    "            \n",
    "            get_family_MSE(test_plate, task_channel, \"Linear Regression\", \"Treated\", yhat_lr,std_df_treated_y)\n",
    "            get_family_MAE(test_plate, task_channel, \"Linear Regression\", \"Treated\", yhat_lr,std_df_treated_y)\n",
    "            \n",
    "            #get_family_MSE(yhat_lr,std_df_treated_y)\n",
    "            #get_family_MAE(yhat_lr,std_df_treated_y)\n",
    "            \n",
    "            print('profile_mock:')            \n",
    "            yhat_lr = pd.DataFrame(LR_model.predict(std_df_mock_x.values),columns=std_df_mock_y.columns)   \n",
    "            print('Linear Reg MSE: {}'.format(mean_squared_error(yhat_lr,std_df_mock_y.values)))  \n",
    "            print('Linear Reg MAE: {}'.format(mean_absolute_error(yhat_lr,std_df_mock_y.values)))  \n",
    "            \n",
    "            print_results(test_plate, task_channel, 'Overall', 'Linear Regression', 'Mock', 'MSE', str(mean_squared_error(yhat_lr,std_df_mock_y.values)))\n",
    "            print_results(test_plate, task_channel, 'Overall', 'Linear Regression', 'Mock', 'MAE', str(mean_absolute_error(yhat_lr,std_df_mock_y.values)))            \n",
    "            #get_family_MSE(yhat_lr,std_df_mock_y)\n",
    "            #get_family_MAE(yhat_lr,std_df_mock_y)\n",
    "            get_family_MSE(test_plate, task_channel, \"Linear Regression\", \"Mock\", yhat_lr,std_df_mock_y)\n",
    "            get_family_MAE(test_plate, task_channel, \"Linear Regression\", \"Mock\", yhat_lr,std_df_mock_y)\n",
    "                          \n",
    "            print('**************')\n",
    "            \n",
    "            print('**************')\n",
    "            print('Ridge')\n",
    "            print('profile_treated:') \n",
    "            yhat_ridge = pd.DataFrame(Ridge_model.predict(std_df_treated_x.values),columns=std_df_treated_y.columns)                           \n",
    "            print('Ridge MSE: {}'.format(mean_squared_error(yhat_ridge,std_df_treated_y.values)))  \n",
    "            print('Ridge MAE: {}'.format(mean_absolute_error(yhat_ridge,std_df_treated_y.values)))  \n",
    "                          \n",
    "            print_results(test_plate, task_channel, 'Overall', 'Ridge', 'Treated', 'MSE', str(mean_squared_error(yhat_ridge,std_df_treated_y.values)))\n",
    "            print_results(test_plate, task_channel, 'Overall', 'Ridge', 'Treated', 'MAE', str(mean_absolute_error(yhat_ridge,std_df_treated_y.values)))\n",
    "                    \n",
    "                          \n",
    "            get_family_MSE(test_plate, task_channel, \"Ridge\", \"Treated\", yhat_ridge,std_df_treated_y)\n",
    "            get_family_MAE(test_plate, task_channel, \"Ridge\", \"Treated\", yhat_ridge,std_df_treated_y)\n",
    "                          \n",
    "            #get_family_MSE(yhat_lr,std_df_treated_y)\n",
    "            #get_family_MAE(yhat_lr,std_df_treated_y)\n",
    "            \n",
    "            print('profile_mock:')            \n",
    "            yhat_ridge = pd.DataFrame(Ridge_model.predict(std_df_mock_x.values),columns=std_df_mock_y.columns)   \n",
    "            print('Ridge MSE: {}'.format(mean_squared_error(yhat_ridge,std_df_mock_y.values)))  \n",
    "            print('Ridge Reg MAE: {}'.format(mean_absolute_error(yhat_ridge,std_df_mock_y.values)))  \n",
    "            #get_family_MSE(yhat_ridge,std_df_mock_y)\n",
    "            #get_family_MAE(yhat_ridge,std_df_mock_y)\n",
    "            print_results(test_plate, task_channel, 'Overall', 'Ridge', 'Mock', 'MSE', str(mean_squared_error(yhat_ridge,std_df_mock_y.values)))\n",
    "            print_results(test_plate, task_channel, 'Overall', 'Ridge', 'Mock', 'MAE', str(mean_absolute_error(yhat_ridge,std_df_mock_y.values)))\n",
    "                    \n",
    "                          \n",
    "            get_family_MSE(test_plate, task_channel, \"Ridge\", \"Mock\", yhat_ridge,std_df_mock_y)\n",
    "            get_family_MAE(test_plate, task_channel, \"Ridge\", \"Mock\", yhat_ridge,std_df_mock_y)\n",
    "            print('**************')\n",
    "            \n",
    "            print('**************')\n",
    "            print('DNN')\n",
    "            print('profile_treated:') \n",
    "            yhat_DNN = pd.DataFrame(DNN_model.predict(std_df_treated_x.values),columns=std_df_treated_y.columns)                           \n",
    "            print('DNN MSE: {}'.format(mean_squared_error(yhat_DNN,std_df_treated_y.values)))  \n",
    "            print('DNN MAE: {}'.format(mean_absolute_error(yhat_DNN,std_df_treated_y.values)))  \n",
    "            #get_family_MSE(yhat_DNN,std_df_treated_y)\n",
    "            #get_family_MAE(yhat_DNN,std_df_treated_y)\n",
    "            print_results(test_plate, task_channel, 'Overall', 'DNN', 'Treated', 'MSE', str(mean_squared_error(yhat_DNN,std_df_treated_y.values)))\n",
    "            print_results(test_plate, task_channel, 'Overall', 'DNN', 'Treated', 'MAE', str(mean_absolute_error(yhat_DNN,std_df_treated_y.values)))\n",
    "                    \n",
    "                          \n",
    "            get_family_MSE(test_plate, task_channel, \"DNN\", \"Treated\", yhat_DNN,std_df_treated_y)\n",
    "            get_family_MAE(test_plate, task_channel, \"DNN\", \"Treated\", yhat_DNN,std_df_treated_y)\n",
    "            \n",
    "            print('profile_mock:')            \n",
    "            yhat_DNN = pd.DataFrame(DNN_model.predict(std_df_mock_x.values),columns=std_df_mock_y.columns)   \n",
    "            print('DNN MSE: {}'.format(mean_squared_error(yhat_DNN,std_df_mock_y.values)))  \n",
    "            print('DNN MAE: {}'.format(mean_absolute_error(yhat_DNN,std_df_mock_y.values)))  \n",
    "                          \n",
    "                          \n",
    "            print_results(test_plate, task_channel, 'Overall', 'DNN', 'Mock', 'MSE', str(mean_squared_error(yhat_DNN,std_df_mock_y.values)))\n",
    "            print_results(test_plate, task_channel, 'Overall', 'DNN', 'Mock', 'MAE', str(mean_absolute_error(yhat_DNN,std_df_mock_y.values)))\n",
    "                    \n",
    "                          \n",
    "            get_family_MSE(test_plate, task_channel, \"DNN\", \"Mock\", yhat_DNN,std_df_mock_y)\n",
    "            get_family_MAE(test_plate, task_channel, \"DNN\", \"Mock\", yhat_DNN,std_df_mock_y)\n",
    "            #get_family_MSE(yhat_DNN,std_df_mock_y)\n",
    "            #get_family_MAE(yhat_DNN,std_df_mock_y)\n",
    "            print('**************')"
   ]
  },
  {
   "cell_type": "markdown",
   "metadata": {},
   "source": [
    "# Main"
   ]
  },
  {
   "cell_type": "code",
   "execution_count": 35,
   "metadata": {
    "ExecuteTime": {
     "end_time": "2020-08-26T10:29:16.833379Z",
     "start_time": "2020-08-26T10:13:58.396179Z"
    },
    "scrolled": true
   },
   "outputs": [
    {
     "name": "stderr",
     "output_type": "stream",
     "text": [
      "\n",
      "  0%|          | 0/5 [00:00<?, ?it/s]\u001b[A"
     ]
    },
    {
     "name": "stdout",
     "output_type": "stream",
     "text": [
      "25740.csv\n",
      "['treated' 'mock']\n"
     ]
    },
    {
     "name": "stderr",
     "output_type": "stream",
     "text": [
      "/home/livneam/.conda/envs/amit_env/lib/python3.7/site-packages/pandas/core/frame.py:4117: SettingWithCopyWarning: \n",
      "A value is trying to be set on a copy of a slice from a DataFrame\n",
      "\n",
      "See the caveats in the documentation: http://pandas.pydata.org/pandas-docs/stable/user_guide/indexing.html#returning-a-view-versus-a-copy\n",
      "  errors=errors,\n",
      "\n",
      "\n",
      "  0%|          | 0/3 [00:00<?, ?it/s]\u001b[A\u001b[A\n",
      "\n",
      " 67%|██████▋   | 2/3 [00:02<00:01,  1.17s/it]\u001b[A\u001b[A\n",
      "\n",
      "100%|██████████| 3/3 [00:16<00:00,  5.55s/it]\u001b[A\u001b[A\n"
     ]
    },
    {
     "name": "stdout",
     "output_type": "stream",
     "text": [
      "25740.csv\n",
      "AGP:\n",
      "WARNING:tensorflow:`period` argument is deprecated. Please use `save_freq` to specify the frequency in number of samples seen.\n"
     ]
    },
    {
     "name": "stderr",
     "output_type": "stream",
     "text": [
      "WARNING:tensorflow:`period` argument is deprecated. Please use `save_freq` to specify the frequency in number of samples seen.\n"
     ]
    },
    {
     "name": "stdout",
     "output_type": "stream",
     "text": [
      "**************\n",
      "LR\n",
      "profile_treated:\n",
      "Linear Reg MSE: 283.274144796004\n",
      "Linear Reg MAE: 11.452978850198235\n",
      "profile_mock:\n",
      "Linear Reg MSE: 12.02328905035015\n",
      "Linear Reg MAE: 2.197586320243805\n",
      "**************\n",
      "**************\n",
      "Ridge\n",
      "profile_treated:\n",
      "Ridge MSE: 0.48315951965045323\n",
      "Ridge MAE: 0.45486520799422314\n",
      "profile_mock:\n",
      "Ridge MSE: 0.4616774645935883\n",
      "Ridge Reg MAE: 0.450773522509407\n",
      "**************\n",
      "**************\n",
      "DNN\n",
      "profile_treated:\n",
      "DNN MSE: 1.004427068168524\n",
      "DNN MAE: 0.7163405812367527\n",
      "profile_mock:\n",
      "DNN MSE: 1.0047932857993072\n",
      "DNN MAE: 0.7209210074244604\n",
      "**************\n",
      "26572.csv\n",
      "['treated' 'mock']\n"
     ]
    },
    {
     "name": "stderr",
     "output_type": "stream",
     "text": [
      "/home/livneam/.conda/envs/amit_env/lib/python3.7/site-packages/pandas/core/frame.py:4117: SettingWithCopyWarning: \n",
      "A value is trying to be set on a copy of a slice from a DataFrame\n",
      "\n",
      "See the caveats in the documentation: http://pandas.pydata.org/pandas-docs/stable/user_guide/indexing.html#returning-a-view-versus-a-copy\n",
      "  errors=errors,\n",
      "\n",
      "\n",
      "  0%|          | 0/3 [00:00<?, ?it/s]\u001b[A\u001b[A\n",
      "\n",
      " 33%|███▎      | 1/3 [00:14<00:28, 14.18s/it]\u001b[A\u001b[A\n",
      "\n",
      "100%|██████████| 3/3 [00:28<00:00,  9.40s/it]\u001b[A\u001b[A\n"
     ]
    },
    {
     "name": "stdout",
     "output_type": "stream",
     "text": [
      "26572.csv\n",
      "AGP:\n",
      "WARNING:tensorflow:`period` argument is deprecated. Please use `save_freq` to specify the frequency in number of samples seen.\n"
     ]
    },
    {
     "name": "stderr",
     "output_type": "stream",
     "text": [
      "WARNING:tensorflow:`period` argument is deprecated. Please use `save_freq` to specify the frequency in number of samples seen.\n"
     ]
    },
    {
     "name": "stdout",
     "output_type": "stream",
     "text": [
      "**************\n",
      "LR\n",
      "profile_treated:\n",
      "Linear Reg MSE: 1547.326967492584\n",
      "Linear Reg MAE: 24.517394255027796\n",
      "profile_mock:\n",
      "Linear Reg MSE: 457.43191644666166\n",
      "Linear Reg MAE: 13.382657295285147\n",
      "**************\n",
      "**************\n",
      "Ridge\n",
      "profile_treated:\n",
      "Ridge MSE: 0.535214351261209\n",
      "Ridge MAE: 0.4976070264395371\n",
      "profile_mock:\n",
      "Ridge MSE: 0.5149038091207776\n",
      "Ridge Reg MAE: 0.4837232356920421\n",
      "**************\n",
      "**************\n",
      "DNN\n",
      "profile_treated:\n",
      "DNN MSE: 0.9364946959423597\n",
      "DNN MAE: 0.7015475285412931\n",
      "profile_mock:\n",
      "DNN MSE: 0.9359305790041638\n",
      "DNN MAE: 0.7000625463701944\n",
      "**************\n",
      "25741.csv\n",
      "['treated' 'mock']\n"
     ]
    },
    {
     "name": "stderr",
     "output_type": "stream",
     "text": [
      "/home/livneam/.conda/envs/amit_env/lib/python3.7/site-packages/pandas/core/frame.py:4117: SettingWithCopyWarning: \n",
      "A value is trying to be set on a copy of a slice from a DataFrame\n",
      "\n",
      "See the caveats in the documentation: http://pandas.pydata.org/pandas-docs/stable/user_guide/indexing.html#returning-a-view-versus-a-copy\n",
      "  errors=errors,\n",
      "\n",
      "\n",
      "  0%|          | 0/3 [00:00<?, ?it/s]\u001b[A\u001b[A\n",
      "\n",
      " 33%|███▎      | 1/3 [00:14<00:29, 14.57s/it]\u001b[A\u001b[A\n",
      "\n",
      "100%|██████████| 3/3 [00:16<00:00,  5.64s/it]\u001b[A\u001b[A\n"
     ]
    },
    {
     "name": "stdout",
     "output_type": "stream",
     "text": [
      "25741.csv\n",
      "AGP:\n",
      "WARNING:tensorflow:`period` argument is deprecated. Please use `save_freq` to specify the frequency in number of samples seen.\n"
     ]
    },
    {
     "name": "stderr",
     "output_type": "stream",
     "text": [
      "WARNING:tensorflow:`period` argument is deprecated. Please use `save_freq` to specify the frequency in number of samples seen.\n"
     ]
    },
    {
     "name": "stdout",
     "output_type": "stream",
     "text": [
      "**************\n",
      "LR\n",
      "profile_treated:\n",
      "Linear Reg MSE: 361.31810856149946\n",
      "Linear Reg MAE: 12.9372315468781\n",
      "profile_mock:\n",
      "Linear Reg MSE: 16.367040114455538\n",
      "Linear Reg MAE: 2.6312581240805315\n",
      "**************\n",
      "**************\n",
      "Ridge\n",
      "profile_treated:\n",
      "Ridge MSE: 0.5040439216167713\n",
      "Ridge MAE: 0.4658486872565654\n",
      "profile_mock:\n",
      "Ridge MSE: 0.4616335757934757\n",
      "Ridge Reg MAE: 0.4535976656595404\n",
      "**************\n",
      "**************\n",
      "DNN\n",
      "profile_treated:\n",
      "DNN MSE: 0.9965343389048466\n",
      "DNN MAE: 0.7097046600202886\n",
      "profile_mock:\n",
      "DNN MSE: 0.9952605874585776\n",
      "DNN MAE: 0.7208458047577893\n"
     ]
    },
    {
     "name": "stderr",
     "output_type": "stream",
     "text": [
      "\n",
      " 20%|██        | 1/5 [02:58<11:54, 178.67s/it]\u001b[A"
     ]
    },
    {
     "name": "stdout",
     "output_type": "stream",
     "text": [
      "**************\n",
      "25740.csv\n",
      "['treated' 'mock']\n"
     ]
    },
    {
     "name": "stderr",
     "output_type": "stream",
     "text": [
      "/home/livneam/.conda/envs/amit_env/lib/python3.7/site-packages/pandas/core/frame.py:4117: SettingWithCopyWarning: \n",
      "A value is trying to be set on a copy of a slice from a DataFrame\n",
      "\n",
      "See the caveats in the documentation: http://pandas.pydata.org/pandas-docs/stable/user_guide/indexing.html#returning-a-view-versus-a-copy\n",
      "  errors=errors,\n",
      "\n",
      "\n",
      "  0%|          | 0/3 [00:00<?, ?it/s]\u001b[A\u001b[A\n",
      "\n",
      " 67%|██████▋   | 2/3 [00:02<00:01,  1.20s/it]\u001b[A\u001b[A\n",
      "\n",
      "100%|██████████| 3/3 [00:16<00:00,  5.66s/it]\u001b[A\u001b[A\n"
     ]
    },
    {
     "name": "stdout",
     "output_type": "stream",
     "text": [
      "25740.csv\n",
      "DNA:\n",
      "WARNING:tensorflow:`period` argument is deprecated. Please use `save_freq` to specify the frequency in number of samples seen.\n"
     ]
    },
    {
     "name": "stderr",
     "output_type": "stream",
     "text": [
      "WARNING:tensorflow:`period` argument is deprecated. Please use `save_freq` to specify the frequency in number of samples seen.\n"
     ]
    },
    {
     "name": "stdout",
     "output_type": "stream",
     "text": [
      "**************\n",
      "LR\n",
      "profile_treated:\n",
      "Linear Reg MSE: 52.65315516027113\n",
      "Linear Reg MAE: 4.601240314873923\n",
      "empty family Granularity\n",
      "empty family Granularity\n",
      "profile_mock:\n",
      "Linear Reg MSE: 1.2707497964927836\n",
      "Linear Reg MAE: 0.7443159953992123\n",
      "empty family Granularity\n",
      "empty family Granularity\n",
      "**************\n",
      "**************\n",
      "Ridge\n",
      "profile_treated:\n",
      "Ridge MSE: 0.23861077873316688\n",
      "Ridge MAE: 0.323464225176421\n",
      "empty family Granularity\n",
      "empty family Granularity\n",
      "profile_mock:\n",
      "Ridge MSE: 0.23505312950252297\n",
      "Ridge Reg MAE: 0.31968266469931633\n",
      "empty family Granularity\n",
      "empty family Granularity\n",
      "**************\n",
      "**************\n",
      "DNN\n",
      "profile_treated:\n",
      "DNN MSE: 0.9934409881064639\n",
      "DNN MAE: 0.7682330228470875\n",
      "empty family Granularity\n",
      "empty family Granularity\n",
      "profile_mock:\n",
      "DNN MSE: 0.9977909988132532\n",
      "DNN MAE: 0.7621417845414805\n",
      "empty family Granularity\n",
      "empty family Granularity\n",
      "**************\n",
      "26572.csv\n",
      "['treated' 'mock']\n"
     ]
    },
    {
     "name": "stderr",
     "output_type": "stream",
     "text": [
      "/home/livneam/.conda/envs/amit_env/lib/python3.7/site-packages/pandas/core/frame.py:4117: SettingWithCopyWarning: \n",
      "A value is trying to be set on a copy of a slice from a DataFrame\n",
      "\n",
      "See the caveats in the documentation: http://pandas.pydata.org/pandas-docs/stable/user_guide/indexing.html#returning-a-view-versus-a-copy\n",
      "  errors=errors,\n",
      "\n",
      "\n",
      "  0%|          | 0/3 [00:00<?, ?it/s]\u001b[A\u001b[A\n",
      "\n",
      " 33%|███▎      | 1/3 [00:15<00:30, 15.38s/it]\u001b[A\u001b[A\n",
      "\n",
      "100%|██████████| 3/3 [00:30<00:00, 10.08s/it]\u001b[A\u001b[A\n"
     ]
    },
    {
     "name": "stdout",
     "output_type": "stream",
     "text": [
      "26572.csv\n",
      "DNA:\n",
      "WARNING:tensorflow:`period` argument is deprecated. Please use `save_freq` to specify the frequency in number of samples seen.\n"
     ]
    },
    {
     "name": "stderr",
     "output_type": "stream",
     "text": [
      "WARNING:tensorflow:`period` argument is deprecated. Please use `save_freq` to specify the frequency in number of samples seen.\n"
     ]
    },
    {
     "name": "stdout",
     "output_type": "stream",
     "text": [
      "**************\n",
      "LR\n",
      "profile_treated:\n",
      "Linear Reg MSE: 289.2547192791121\n",
      "Linear Reg MAE: 10.253658624373008\n",
      "empty family Granularity\n",
      "empty family Granularity\n",
      "profile_mock:\n",
      "Linear Reg MSE: 282.51313861732683\n",
      "Linear Reg MAE: 10.37225695095983\n",
      "empty family Granularity\n",
      "empty family Granularity\n",
      "**************\n",
      "**************\n",
      "Ridge\n",
      "profile_treated:\n",
      "Ridge MSE: 0.29906580926271\n",
      "Ridge MAE: 0.3757093158387757\n",
      "empty family Granularity\n",
      "empty family Granularity\n",
      "profile_mock:\n",
      "Ridge MSE: 0.2889094118840918\n",
      "Ridge Reg MAE: 0.3795598290820163\n",
      "empty family Granularity\n",
      "empty family Granularity\n",
      "**************\n",
      "**************\n",
      "DNN\n",
      "profile_treated:\n",
      "DNN MSE: 0.8792424236746608\n",
      "DNN MAE: 0.7118154671145503\n",
      "empty family Granularity\n",
      "empty family Granularity\n",
      "profile_mock:\n",
      "DNN MSE: 0.8794653117105659\n",
      "DNN MAE: 0.7267295472441303\n",
      "empty family Granularity\n",
      "empty family Granularity\n",
      "**************\n",
      "25741.csv\n",
      "['treated' 'mock']\n"
     ]
    },
    {
     "name": "stderr",
     "output_type": "stream",
     "text": [
      "/home/livneam/.conda/envs/amit_env/lib/python3.7/site-packages/pandas/core/frame.py:4117: SettingWithCopyWarning: \n",
      "A value is trying to be set on a copy of a slice from a DataFrame\n",
      "\n",
      "See the caveats in the documentation: http://pandas.pydata.org/pandas-docs/stable/user_guide/indexing.html#returning-a-view-versus-a-copy\n",
      "  errors=errors,\n",
      "\n",
      "\n",
      "  0%|          | 0/3 [00:00<?, ?it/s]\u001b[A\u001b[A\n",
      "\n",
      " 33%|███▎      | 1/3 [00:14<00:28, 14.44s/it]\u001b[A\u001b[A\n",
      "\n",
      "100%|██████████| 3/3 [00:16<00:00,  5.62s/it]\u001b[A\u001b[A\n"
     ]
    },
    {
     "name": "stdout",
     "output_type": "stream",
     "text": [
      "25741.csv\n",
      "DNA:\n",
      "WARNING:tensorflow:`period` argument is deprecated. Please use `save_freq` to specify the frequency in number of samples seen.\n"
     ]
    },
    {
     "name": "stderr",
     "output_type": "stream",
     "text": [
      "WARNING:tensorflow:`period` argument is deprecated. Please use `save_freq` to specify the frequency in number of samples seen.\n"
     ]
    },
    {
     "name": "stdout",
     "output_type": "stream",
     "text": [
      "**************\n",
      "LR\n",
      "profile_treated:\n",
      "Linear Reg MSE: 63.13580097549375\n",
      "Linear Reg MAE: 4.797561314528918\n",
      "empty family Granularity\n",
      "empty family Granularity\n",
      "profile_mock:\n",
      "Linear Reg MSE: 0.8046527686282413\n",
      "Linear Reg MAE: 0.5837240576433379\n",
      "empty family Granularity\n",
      "empty family Granularity\n",
      "**************\n",
      "**************\n",
      "Ridge\n",
      "profile_treated:\n",
      "Ridge MSE: 0.2924719943389991\n",
      "Ridge MAE: 0.34782888921293237\n",
      "empty family Granularity\n",
      "empty family Granularity\n",
      "profile_mock:\n",
      "Ridge MSE: 0.24450468901813924\n",
      "Ridge Reg MAE: 0.3281250775682175\n",
      "empty family Granularity\n",
      "empty family Granularity\n",
      "**************\n",
      "**************\n",
      "DNN\n",
      "profile_treated:\n",
      "DNN MSE: 0.9869389143921282\n",
      "DNN MAE: 0.7465565919109667\n",
      "empty family Granularity\n",
      "empty family Granularity\n",
      "profile_mock:\n",
      "DNN MSE: 0.9846496712658237\n",
      "DNN MAE: 0.7620099138216492\n",
      "empty family Granularity\n"
     ]
    },
    {
     "name": "stderr",
     "output_type": "stream",
     "text": [
      "\n",
      " 40%|████      | 2/5 [06:00<08:59, 179.72s/it]\u001b[A"
     ]
    },
    {
     "name": "stdout",
     "output_type": "stream",
     "text": [
      "empty family Granularity\n",
      "**************\n",
      "25740.csv\n",
      "['treated' 'mock']\n"
     ]
    },
    {
     "name": "stderr",
     "output_type": "stream",
     "text": [
      "/home/livneam/.conda/envs/amit_env/lib/python3.7/site-packages/pandas/core/frame.py:4117: SettingWithCopyWarning: \n",
      "A value is trying to be set on a copy of a slice from a DataFrame\n",
      "\n",
      "See the caveats in the documentation: http://pandas.pydata.org/pandas-docs/stable/user_guide/indexing.html#returning-a-view-versus-a-copy\n",
      "  errors=errors,\n",
      "\n",
      "\n",
      "  0%|          | 0/3 [00:00<?, ?it/s]\u001b[A\u001b[A\n",
      "\n",
      " 67%|██████▋   | 2/3 [00:02<00:01,  1.16s/it]\u001b[A\u001b[A\n",
      "\n",
      "100%|██████████| 3/3 [00:16<00:00,  5.38s/it]\u001b[A\u001b[A\n"
     ]
    },
    {
     "name": "stdout",
     "output_type": "stream",
     "text": [
      "25740.csv\n",
      "ER:\n",
      "WARNING:tensorflow:`period` argument is deprecated. Please use `save_freq` to specify the frequency in number of samples seen.\n"
     ]
    },
    {
     "name": "stderr",
     "output_type": "stream",
     "text": [
      "WARNING:tensorflow:`period` argument is deprecated. Please use `save_freq` to specify the frequency in number of samples seen.\n"
     ]
    },
    {
     "name": "stdout",
     "output_type": "stream",
     "text": [
      "**************\n",
      "LR\n",
      "profile_treated:\n",
      "Linear Reg MSE: 107.47655348073008\n",
      "Linear Reg MAE: 7.0172465856518835\n",
      "profile_mock:\n",
      "Linear Reg MSE: 17.46692237544921\n",
      "Linear Reg MAE: 2.747418510334488\n",
      "**************\n",
      "**************\n",
      "Ridge\n",
      "profile_treated:\n",
      "Ridge MSE: 0.2918910849655994\n",
      "Ridge MAE: 0.3668786312365679\n",
      "profile_mock:\n",
      "Ridge MSE: 0.27870819927034945\n",
      "Ridge Reg MAE: 0.35742704792772495\n",
      "**************\n",
      "**************\n",
      "DNN\n",
      "profile_treated:\n",
      "DNN MSE: 1.0771211854252463\n",
      "DNN MAE: 0.8258799753810963\n",
      "profile_mock:\n",
      "DNN MSE: 1.0761409473854264\n",
      "DNN MAE: 0.8240053900797416\n",
      "**************\n",
      "26572.csv\n",
      "['treated' 'mock']\n"
     ]
    },
    {
     "name": "stderr",
     "output_type": "stream",
     "text": [
      "/home/livneam/.conda/envs/amit_env/lib/python3.7/site-packages/pandas/core/frame.py:4117: SettingWithCopyWarning: \n",
      "A value is trying to be set on a copy of a slice from a DataFrame\n",
      "\n",
      "See the caveats in the documentation: http://pandas.pydata.org/pandas-docs/stable/user_guide/indexing.html#returning-a-view-versus-a-copy\n",
      "  errors=errors,\n",
      "\n",
      "\n",
      "  0%|          | 0/3 [00:00<?, ?it/s]\u001b[A\u001b[A\n",
      "\n",
      " 33%|███▎      | 1/3 [00:14<00:28, 14.44s/it]\u001b[A\u001b[A\n",
      "\n",
      "100%|██████████| 3/3 [00:27<00:00,  9.33s/it]\u001b[A\u001b[A\n"
     ]
    },
    {
     "name": "stdout",
     "output_type": "stream",
     "text": [
      "26572.csv\n",
      "ER:\n",
      "WARNING:tensorflow:`period` argument is deprecated. Please use `save_freq` to specify the frequency in number of samples seen.\n"
     ]
    },
    {
     "name": "stderr",
     "output_type": "stream",
     "text": [
      "WARNING:tensorflow:`period` argument is deprecated. Please use `save_freq` to specify the frequency in number of samples seen.\n"
     ]
    },
    {
     "name": "stdout",
     "output_type": "stream",
     "text": [
      "**************\n",
      "LR\n",
      "profile_treated:\n",
      "Linear Reg MSE: 590.1942411585285\n",
      "Linear Reg MAE: 14.514324071956871\n",
      "profile_mock:\n",
      "Linear Reg MSE: 247.44894526286373\n",
      "Linear Reg MAE: 10.16459606669864\n",
      "**************\n",
      "**************\n",
      "Ridge\n",
      "profile_treated:\n",
      "Ridge MSE: 0.32100648394251796\n",
      "Ridge MAE: 0.38633932362018886\n",
      "profile_mock:\n",
      "Ridge MSE: 0.3236718398610685\n",
      "Ridge Reg MAE: 0.3931691055472515\n",
      "**************\n",
      "**************\n",
      "DNN\n",
      "profile_treated:\n",
      "DNN MSE: 0.8847509001105045\n",
      "DNN MAE: 0.713235120197706\n",
      "profile_mock:\n",
      "DNN MSE: 0.8865388255506852\n",
      "DNN MAE: 0.7270093333701177\n",
      "**************\n",
      "25741.csv\n",
      "['treated' 'mock']\n"
     ]
    },
    {
     "name": "stderr",
     "output_type": "stream",
     "text": [
      "/home/livneam/.conda/envs/amit_env/lib/python3.7/site-packages/pandas/core/frame.py:4117: SettingWithCopyWarning: \n",
      "A value is trying to be set on a copy of a slice from a DataFrame\n",
      "\n",
      "See the caveats in the documentation: http://pandas.pydata.org/pandas-docs/stable/user_guide/indexing.html#returning-a-view-versus-a-copy\n",
      "  errors=errors,\n",
      "\n",
      "\n",
      "  0%|          | 0/3 [00:00<?, ?it/s]\u001b[A\u001b[A\n",
      "\n",
      " 33%|███▎      | 1/3 [00:15<00:30, 15.21s/it]\u001b[A\u001b[A\n",
      "\n",
      "100%|██████████| 3/3 [00:17<00:00,  5.88s/it]\u001b[A\u001b[A\n"
     ]
    },
    {
     "name": "stdout",
     "output_type": "stream",
     "text": [
      "25741.csv\n",
      "ER:\n",
      "WARNING:tensorflow:`period` argument is deprecated. Please use `save_freq` to specify the frequency in number of samples seen.\n"
     ]
    },
    {
     "name": "stderr",
     "output_type": "stream",
     "text": [
      "WARNING:tensorflow:`period` argument is deprecated. Please use `save_freq` to specify the frequency in number of samples seen.\n"
     ]
    },
    {
     "name": "stdout",
     "output_type": "stream",
     "text": [
      "**************\n",
      "LR\n",
      "profile_treated:\n",
      "Linear Reg MSE: 138.48916318146595\n",
      "Linear Reg MAE: 7.331486451940916\n",
      "profile_mock:\n",
      "Linear Reg MSE: 6.463804292357856\n",
      "Linear Reg MAE: 1.464634234073988\n",
      "**************\n",
      "**************\n",
      "Ridge\n",
      "profile_treated:\n",
      "Ridge MSE: 0.31185280735538506\n",
      "Ridge MAE: 0.3775758886591511\n",
      "profile_mock:\n",
      "Ridge MSE: 0.2893928219545636\n",
      "Ridge Reg MAE: 0.36618483127908413\n",
      "**************\n",
      "**************\n",
      "DNN\n",
      "profile_treated:\n",
      "DNN MSE: 0.9960547213500528\n",
      "DNN MAE: 0.7631128673207475\n",
      "profile_mock:\n",
      "DNN MSE: 0.9948321061487935\n",
      "DNN MAE: 0.7700374994879197\n"
     ]
    },
    {
     "name": "stderr",
     "output_type": "stream",
     "text": [
      "\n",
      " 60%|██████    | 3/5 [09:03<06:01, 180.54s/it]\u001b[A"
     ]
    },
    {
     "name": "stdout",
     "output_type": "stream",
     "text": [
      "**************\n",
      "25740.csv\n",
      "['treated' 'mock']\n"
     ]
    },
    {
     "name": "stderr",
     "output_type": "stream",
     "text": [
      "/home/livneam/.conda/envs/amit_env/lib/python3.7/site-packages/pandas/core/frame.py:4117: SettingWithCopyWarning: \n",
      "A value is trying to be set on a copy of a slice from a DataFrame\n",
      "\n",
      "See the caveats in the documentation: http://pandas.pydata.org/pandas-docs/stable/user_guide/indexing.html#returning-a-view-versus-a-copy\n",
      "  errors=errors,\n",
      "\n",
      "\n",
      "  0%|          | 0/3 [00:00<?, ?it/s]\u001b[A\u001b[A\n",
      "\n",
      " 67%|██████▋   | 2/3 [00:02<00:01,  1.29s/it]\u001b[A\u001b[A\n",
      "\n",
      "100%|██████████| 3/3 [00:17<00:00,  5.73s/it]\u001b[A\u001b[A\n"
     ]
    },
    {
     "name": "stdout",
     "output_type": "stream",
     "text": [
      "25740.csv\n",
      "Mito:\n",
      "WARNING:tensorflow:`period` argument is deprecated. Please use `save_freq` to specify the frequency in number of samples seen.\n"
     ]
    },
    {
     "name": "stderr",
     "output_type": "stream",
     "text": [
      "WARNING:tensorflow:`period` argument is deprecated. Please use `save_freq` to specify the frequency in number of samples seen.\n"
     ]
    },
    {
     "name": "stdout",
     "output_type": "stream",
     "text": [
      "**************\n",
      "LR\n",
      "profile_treated:\n",
      "Linear Reg MSE: 247.15724096025235\n",
      "Linear Reg MAE: 9.894752122516032\n",
      "profile_mock:\n",
      "Linear Reg MSE: 19.529694542122538\n",
      "Linear Reg MAE: 2.8231880997996\n",
      "**************\n",
      "**************\n",
      "Ridge\n",
      "profile_treated:\n",
      "Ridge MSE: 0.33662594116189715\n",
      "Ridge MAE: 0.368056065204034\n",
      "profile_mock:\n",
      "Ridge MSE: 0.29397608453436247\n",
      "Ridge Reg MAE: 0.3508415836269077\n",
      "**************\n",
      "**************\n",
      "DNN\n",
      "profile_treated:\n",
      "DNN MSE: 0.9747360367622327\n",
      "DNN MAE: 0.730093285765381\n",
      "profile_mock:\n",
      "DNN MSE: 0.9692222698370913\n",
      "DNN MAE: 0.739422986466338\n",
      "**************\n",
      "26572.csv\n",
      "['treated' 'mock']\n"
     ]
    },
    {
     "name": "stderr",
     "output_type": "stream",
     "text": [
      "/home/livneam/.conda/envs/amit_env/lib/python3.7/site-packages/pandas/core/frame.py:4117: SettingWithCopyWarning: \n",
      "A value is trying to be set on a copy of a slice from a DataFrame\n",
      "\n",
      "See the caveats in the documentation: http://pandas.pydata.org/pandas-docs/stable/user_guide/indexing.html#returning-a-view-versus-a-copy\n",
      "  errors=errors,\n",
      "\n",
      "\n",
      "  0%|          | 0/3 [00:00<?, ?it/s]\u001b[A\u001b[A\n",
      "\n",
      " 33%|███▎      | 1/3 [00:14<00:28, 14.37s/it]\u001b[A\u001b[A\n",
      "\n",
      "100%|██████████| 3/3 [00:28<00:00,  9.44s/it]\u001b[A\u001b[A\n"
     ]
    },
    {
     "name": "stdout",
     "output_type": "stream",
     "text": [
      "26572.csv\n",
      "Mito:\n",
      "WARNING:tensorflow:`period` argument is deprecated. Please use `save_freq` to specify the frequency in number of samples seen.\n"
     ]
    },
    {
     "name": "stderr",
     "output_type": "stream",
     "text": [
      "WARNING:tensorflow:`period` argument is deprecated. Please use `save_freq` to specify the frequency in number of samples seen.\n"
     ]
    },
    {
     "name": "stdout",
     "output_type": "stream",
     "text": [
      "**************\n",
      "LR\n",
      "profile_treated:\n",
      "Linear Reg MSE: 1191.93274717944\n",
      "Linear Reg MAE: 20.45706158698644\n",
      "profile_mock:\n",
      "Linear Reg MSE: 338.1206473634178\n",
      "Linear Reg MAE: 11.848729465155147\n",
      "**************\n",
      "**************\n",
      "Ridge\n",
      "profile_treated:\n",
      "Ridge MSE: 0.32780218098449304\n",
      "Ridge MAE: 0.3626724851081243\n",
      "profile_mock:\n",
      "Ridge MSE: 0.2765365406014666\n",
      "Ridge Reg MAE: 0.3377087993311659\n",
      "**************\n",
      "**************\n",
      "DNN\n",
      "profile_treated:\n",
      "DNN MSE: 0.881364299696471\n",
      "DNN MAE: 0.693294974297482\n",
      "profile_mock:\n",
      "DNN MSE: 0.8800320926500054\n",
      "DNN MAE: 0.7025089564230831\n",
      "**************\n",
      "25741.csv\n",
      "['treated' 'mock']\n"
     ]
    },
    {
     "name": "stderr",
     "output_type": "stream",
     "text": [
      "/home/livneam/.conda/envs/amit_env/lib/python3.7/site-packages/pandas/core/frame.py:4117: SettingWithCopyWarning: \n",
      "A value is trying to be set on a copy of a slice from a DataFrame\n",
      "\n",
      "See the caveats in the documentation: http://pandas.pydata.org/pandas-docs/stable/user_guide/indexing.html#returning-a-view-versus-a-copy\n",
      "  errors=errors,\n",
      "\n",
      "\n",
      "  0%|          | 0/3 [00:00<?, ?it/s]\u001b[A\u001b[A\n",
      "\n",
      " 33%|███▎      | 1/3 [00:14<00:28, 14.31s/it]\u001b[A\u001b[A\n",
      "\n",
      "100%|██████████| 3/3 [00:16<00:00,  5.54s/it]\u001b[A\u001b[A\n"
     ]
    },
    {
     "name": "stdout",
     "output_type": "stream",
     "text": [
      "25741.csv\n",
      "Mito:\n",
      "WARNING:tensorflow:`period` argument is deprecated. Please use `save_freq` to specify the frequency in number of samples seen.\n"
     ]
    },
    {
     "name": "stderr",
     "output_type": "stream",
     "text": [
      "WARNING:tensorflow:`period` argument is deprecated. Please use `save_freq` to specify the frequency in number of samples seen.\n"
     ]
    },
    {
     "name": "stdout",
     "output_type": "stream",
     "text": [
      "**************\n",
      "LR\n",
      "profile_treated:\n",
      "Linear Reg MSE: 271.39152179023637\n",
      "Linear Reg MAE: 11.3198949987863\n",
      "profile_mock:\n",
      "Linear Reg MSE: 16.072093227349324\n",
      "Linear Reg MAE: 2.5954218261585797\n",
      "**************\n",
      "**************\n",
      "Ridge\n",
      "profile_treated:\n",
      "Ridge MSE: 0.35031599828269216\n",
      "Ridge MAE: 0.3731726535776036\n",
      "profile_mock:\n",
      "Ridge MSE: 0.3046198414921208\n",
      "Ridge Reg MAE: 0.35739446189752727\n",
      "**************\n",
      "**************\n",
      "DNN\n",
      "profile_treated:\n",
      "DNN MSE: 0.9484238048533322\n",
      "DNN MAE: 0.7050218905564528\n",
      "profile_mock:\n",
      "DNN MSE: 0.9429893710432691\n",
      "DNN MAE: 0.7270641658281628\n"
     ]
    },
    {
     "name": "stderr",
     "output_type": "stream",
     "text": [
      "\n",
      " 80%|████████  | 4/5 [12:09<03:02, 182.27s/it]\u001b[A"
     ]
    },
    {
     "name": "stdout",
     "output_type": "stream",
     "text": [
      "**************\n",
      "25740.csv\n",
      "['treated' 'mock']\n"
     ]
    },
    {
     "name": "stderr",
     "output_type": "stream",
     "text": [
      "/home/livneam/.conda/envs/amit_env/lib/python3.7/site-packages/pandas/core/frame.py:4117: SettingWithCopyWarning: \n",
      "A value is trying to be set on a copy of a slice from a DataFrame\n",
      "\n",
      "See the caveats in the documentation: http://pandas.pydata.org/pandas-docs/stable/user_guide/indexing.html#returning-a-view-versus-a-copy\n",
      "  errors=errors,\n",
      "\n",
      "\n",
      "  0%|          | 0/3 [00:00<?, ?it/s]\u001b[A\u001b[A\n",
      "\n",
      " 67%|██████▋   | 2/3 [00:02<00:01,  1.25s/it]\u001b[A\u001b[A\n",
      "\n",
      "100%|██████████| 3/3 [00:16<00:00,  5.65s/it]\u001b[A\u001b[A\n"
     ]
    },
    {
     "name": "stdout",
     "output_type": "stream",
     "text": [
      "25740.csv\n",
      "RNA:\n",
      "WARNING:tensorflow:`period` argument is deprecated. Please use `save_freq` to specify the frequency in number of samples seen.\n"
     ]
    },
    {
     "name": "stderr",
     "output_type": "stream",
     "text": [
      "WARNING:tensorflow:`period` argument is deprecated. Please use `save_freq` to specify the frequency in number of samples seen.\n"
     ]
    },
    {
     "name": "stdout",
     "output_type": "stream",
     "text": [
      "**************\n",
      "LR\n",
      "profile_treated:\n",
      "Linear Reg MSE: 160.0585927081043\n",
      "Linear Reg MAE: 8.04305248386527\n",
      "profile_mock:\n",
      "Linear Reg MSE: 8.56180735600173\n",
      "Linear Reg MAE: 1.8137212336455777\n",
      "**************\n",
      "**************\n",
      "Ridge\n",
      "profile_treated:\n",
      "Ridge MSE: 0.25902687669206464\n",
      "Ridge MAE: 0.33880490905994687\n",
      "profile_mock:\n",
      "Ridge MSE: 0.2670769310740674\n",
      "Ridge Reg MAE: 0.3435825028908292\n",
      "**************\n",
      "**************\n",
      "DNN\n",
      "profile_treated:\n",
      "DNN MSE: 0.961150421242561\n",
      "DNN MAE: 0.7321216444499474\n",
      "profile_mock:\n",
      "DNN MSE: 0.9615631924584417\n",
      "DNN MAE: 0.735081649047502\n",
      "**************\n",
      "26572.csv\n",
      "['treated' 'mock']\n"
     ]
    },
    {
     "name": "stderr",
     "output_type": "stream",
     "text": [
      "/home/livneam/.conda/envs/amit_env/lib/python3.7/site-packages/pandas/core/frame.py:4117: SettingWithCopyWarning: \n",
      "A value is trying to be set on a copy of a slice from a DataFrame\n",
      "\n",
      "See the caveats in the documentation: http://pandas.pydata.org/pandas-docs/stable/user_guide/indexing.html#returning-a-view-versus-a-copy\n",
      "  errors=errors,\n",
      "\n",
      "\n",
      "  0%|          | 0/3 [00:00<?, ?it/s]\u001b[A\u001b[A\n",
      "\n",
      " 33%|███▎      | 1/3 [00:15<00:30, 15.29s/it]\u001b[A\u001b[A\n",
      "\n",
      "100%|██████████| 3/3 [00:29<00:00,  9.95s/it]\u001b[A\u001b[A\n"
     ]
    },
    {
     "name": "stdout",
     "output_type": "stream",
     "text": [
      "26572.csv\n",
      "RNA:\n",
      "WARNING:tensorflow:`period` argument is deprecated. Please use `save_freq` to specify the frequency in number of samples seen.\n"
     ]
    },
    {
     "name": "stderr",
     "output_type": "stream",
     "text": [
      "WARNING:tensorflow:`period` argument is deprecated. Please use `save_freq` to specify the frequency in number of samples seen.\n"
     ]
    },
    {
     "name": "stdout",
     "output_type": "stream",
     "text": [
      "**************\n",
      "LR\n",
      "profile_treated:\n",
      "Linear Reg MSE: 573.5152743283792\n",
      "Linear Reg MAE: 14.574814060520902\n",
      "profile_mock:\n",
      "Linear Reg MSE: 208.8341445563234\n",
      "Linear Reg MAE: 8.626324133747312\n",
      "**************\n",
      "**************\n",
      "Ridge\n",
      "profile_treated:\n",
      "Ridge MSE: 0.2621294733580515\n",
      "Ridge MAE: 0.33329498697319127\n",
      "profile_mock:\n",
      "Ridge MSE: 0.23206181060190983\n",
      "Ridge Reg MAE: 0.31884284038661703\n",
      "**************\n",
      "**************\n",
      "DNN\n",
      "profile_treated:\n",
      "DNN MSE: 0.9100011442756106\n",
      "DNN MAE: 0.7042098974685067\n",
      "profile_mock:\n",
      "DNN MSE: 0.9089159891199629\n",
      "DNN MAE: 0.7105496149108913\n",
      "**************\n",
      "25741.csv\n",
      "['treated' 'mock']\n"
     ]
    },
    {
     "name": "stderr",
     "output_type": "stream",
     "text": [
      "/home/livneam/.conda/envs/amit_env/lib/python3.7/site-packages/pandas/core/frame.py:4117: SettingWithCopyWarning: \n",
      "A value is trying to be set on a copy of a slice from a DataFrame\n",
      "\n",
      "See the caveats in the documentation: http://pandas.pydata.org/pandas-docs/stable/user_guide/indexing.html#returning-a-view-versus-a-copy\n",
      "  errors=errors,\n",
      "\n",
      "\n",
      "  0%|          | 0/3 [00:00<?, ?it/s]\u001b[A\u001b[A\n",
      "\n",
      " 33%|███▎      | 1/3 [00:14<00:28, 14.23s/it]\u001b[A\u001b[A\n",
      "\n",
      "100%|██████████| 3/3 [00:16<00:00,  5.51s/it]\u001b[A\u001b[A\n"
     ]
    },
    {
     "name": "stdout",
     "output_type": "stream",
     "text": [
      "25741.csv\n",
      "RNA:\n",
      "WARNING:tensorflow:`period` argument is deprecated. Please use `save_freq` to specify the frequency in number of samples seen.\n"
     ]
    },
    {
     "name": "stderr",
     "output_type": "stream",
     "text": [
      "WARNING:tensorflow:`period` argument is deprecated. Please use `save_freq` to specify the frequency in number of samples seen.\n"
     ]
    },
    {
     "name": "stdout",
     "output_type": "stream",
     "text": [
      "**************\n",
      "LR\n",
      "profile_treated:\n",
      "Linear Reg MSE: 156.80927280628677\n",
      "Linear Reg MAE: 7.720386587653934\n",
      "profile_mock:\n",
      "Linear Reg MSE: 5.925402175618691\n",
      "Linear Reg MAE: 1.4475490259556165\n",
      "**************\n",
      "**************\n",
      "Ridge\n",
      "profile_treated:\n",
      "Ridge MSE: 0.2745524546147444\n",
      "Ridge MAE: 0.34528826990837796\n",
      "profile_mock:\n",
      "Ridge MSE: 0.26555754238899676\n",
      "Ridge Reg MAE: 0.34375824189135074\n",
      "**************\n",
      "**************\n",
      "DNN\n",
      "profile_treated:\n",
      "DNN MSE: 0.9716367433805546\n",
      "DNN MAE: 0.7319892744089642\n",
      "profile_mock:\n",
      "DNN MSE: 0.9703365905963541\n",
      "DNN MAE: 0.7437493222206973\n"
     ]
    },
    {
     "name": "stderr",
     "output_type": "stream",
     "text": [
      "\n",
      "100%|██████████| 5/5 [15:18<00:00, 183.68s/it]\u001b[A"
     ]
    },
    {
     "name": "stdout",
     "output_type": "stream",
     "text": [
      "**************\n"
     ]
    },
    {
     "name": "stderr",
     "output_type": "stream",
     "text": [
      "\n"
     ]
    }
   ],
   "source": [
    "main('/storage/users/AmitAdirProject/Data/sqlite/','Std')"
   ]
  }
 ],
 "metadata": {
  "kernelspec": {
   "display_name": "Python 3",
   "language": "python",
   "name": "python3"
  },
  "language_info": {
   "codemirror_mode": {
    "name": "ipython",
    "version": 3
   },
   "file_extension": ".py",
   "mimetype": "text/x-python",
   "name": "python",
   "nbconvert_exporter": "python",
   "pygments_lexer": "ipython3",
   "version": "3.8.3"
  },
  "toc": {
   "base_numbering": 1,
   "nav_menu": {},
   "number_sections": true,
   "sideBar": true,
   "skip_h1_title": false,
   "title_cell": "Table of Contents",
   "title_sidebar": "Contents",
   "toc_cell": false,
   "toc_position": {},
   "toc_section_display": true,
   "toc_window_display": false
  }
 },
 "nbformat": 4,
 "nbformat_minor": 2
}
